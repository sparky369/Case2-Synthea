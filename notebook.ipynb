{
  "nbformat": 4,
  "nbformat_minor": 0,
  "metadata": {
    "colab": {
      "provenance": []
    },
    "kernelspec": {
      "name": "python3",
      "display_name": "Python 3"
    },
    "language_info": {
      "name": "python"
    }
  },
  "cells": [
    {
      "cell_type": "markdown",
      "source": [
        "# Dataset"
      ],
      "metadata": {
        "id": "kAXIDinmv9m8"
      }
    },
    {
      "cell_type": "markdown",
      "source": [
        "The 1K patients dataset (subset) of the synthetically generated data:\n",
        "\n",
        "\n",
        "https://synthetichealth.github.io/synthea-sample-data/downloads/synthea_sample_data_csv_apr2020.zip\n",
        "\n",
        "\n",
        "> The dataset \"synthea_sample_data_csv_apr2020\" contains 16 CSV files.\n",
        "\n",
        "\n",
        "> Detailed Information about all the files can be found here: [CSV-File-Data-Dictionary · synthetichealth/synthea Wiki](https://github.com/synthetichealth/synthea/wiki/CSV-File-Data-Dictionary)"
      ],
      "metadata": {
        "id": "FkhU1M8ktq8j"
      }
    },
    {
      "cell_type": "markdown",
      "source": [
        "# List of Tasks"
      ],
      "metadata": {
        "id": "FOfXkqq0wSlg"
      }
    },
    {
      "cell_type": "markdown",
      "source": [
        "The list of tasks is the following, for the 1k dataset:\n",
        "\n",
        "*   Load the data\n",
        "\n",
        "*   Explore the data and make a visualization of a single patient trajectory as she transitions through the medical care system over time\n",
        "\n",
        "*   Explore the data to find and present patterns of patients with the same conditions such as:\n",
        "    *   Which are the three most common conditions (present graphs and numbers)?\n",
        "    *   Are there similarities in how the three conditions are treated? Showcase examples.\n",
        "    *   What other common pattern characteristics can be found for the three groups of conditions?\n",
        "\n",
        "*   Formulate three other questions that could be interesting from a machine learning perspective using this data (that could potentially be used in a clinical setting to improve care)"
      ],
      "metadata": {
        "id": "nezZ3q1RwYwD"
      }
    },
    {
      "cell_type": "markdown",
      "source": [
        "# Task 1: Load the data\n"
      ],
      "metadata": {
        "id": "75pfgQHtxZQx"
      }
    },
    {
      "cell_type": "code",
      "source": [
        "# import required libraries\n",
        "\n",
        "import pandas as pd\n",
        "import plotly.express as px\n",
        "import plotly.graph_objects as go\n",
        "import matplotlib\n",
        "import seaborn as sns\n",
        "import matplotlib.pyplot as plt\n",
        "%matplotlib inline "
      ],
      "metadata": {
        "id": "JI464OlK10Z2"
      },
      "execution_count": 7,
      "outputs": []
    },
    {
      "cell_type": "code",
      "execution_count": 8,
      "metadata": {
        "id": "r1CHFr5BtfL1"
      },
      "outputs": [],
      "source": [
        "# load 16 CSV files from the dataset\n",
        "\n",
        "allergies = pd.read_csv('https://raw.githubusercontent.com/sparky369/Case2/main/synthea_sample_data_csv_apr2020/allergies.csv')\n",
        "\n",
        "careplans = pd.read_csv('https://raw.githubusercontent.com/sparky369/Case2/main/synthea_sample_data_csv_apr2020/careplans.csv')\n",
        "\n",
        "conditions = pd.read_csv('https://raw.githubusercontent.com/sparky369/Case2/main/synthea_sample_data_csv_apr2020/conditions.csv')\n",
        "\n",
        "devices = pd.read_csv('https://raw.githubusercontent.com/sparky369/Case2/main/synthea_sample_data_csv_apr2020/devices.csv')\n",
        "\n",
        "encounters = pd.read_csv('https://raw.githubusercontent.com/sparky369/Case2/main/synthea_sample_data_csv_apr2020/encounters.csv')\n",
        "\n",
        "imaging_studies = pd.read_csv('https://raw.githubusercontent.com/sparky369/Case2/main/synthea_sample_data_csv_apr2020/imaging_studies.csv')\n",
        "\n",
        "immunizations = pd.read_csv('https://raw.githubusercontent.com/sparky369/Case2/main/synthea_sample_data_csv_apr2020/immunizations.csv')\n",
        "\n",
        "medications = pd.read_csv('https://raw.githubusercontent.com/sparky369/Case2/main/synthea_sample_data_csv_apr2020/medications.csv')\n",
        "\n",
        "observations = pd.read_csv('https://raw.githubusercontent.com/sparky369/Case2/main/synthea_sample_data_csv_apr2020/observations.csv')\n",
        "\n",
        "organizations = pd.read_csv('https://raw.githubusercontent.com/sparky369/Case2/main/synthea_sample_data_csv_apr2020/organizations.csv')\n",
        "\n",
        "patients = pd.read_csv('https://raw.githubusercontent.com/sparky369/Case2/main/synthea_sample_data_csv_apr2020/patients.csv')\n",
        "\n",
        "payer_transitions = pd.read_csv('https://raw.githubusercontent.com/sparky369/Case2/main/synthea_sample_data_csv_apr2020/payer_transitions.csv')\n",
        "\n",
        "payers = pd.read_csv('https://raw.githubusercontent.com/sparky369/Case2/main/synthea_sample_data_csv_apr2020/payers.csv')\n",
        "\n",
        "procedures = pd.read_csv('https://raw.githubusercontent.com/sparky369/Case2/main/synthea_sample_data_csv_apr2020/procedures.csv')\n",
        "\n",
        "providers = pd.read_csv('https://raw.githubusercontent.com/sparky369/Case2/main/synthea_sample_data_csv_apr2020/providers.csv')\n",
        "\n",
        "supplies = pd.read_csv('https://raw.githubusercontent.com/sparky369/Case2/main/synthea_sample_data_csv_apr2020/supplies.csv')"
      ]
    },
    {
      "cell_type": "markdown",
      "source": [
        "# Task 2: Explore the data and make a visualization of a single patient trajectory as she transitions through the medical care system over time\n",
        "\n",
        "\n",
        "\n",
        "> **(i) Exploration of the data (16 CSV files)**\n",
        "\n"
      ],
      "metadata": {
        "id": "3ZA8hEkf3a-F"
      }
    },
    {
      "cell_type": "code",
      "source": [
        "# Explore allergies.csv file\n",
        "allergies.info()"
      ],
      "metadata": {
        "colab": {
          "base_uri": "https://localhost:8080/"
        },
        "id": "gD9kRCP236po",
        "outputId": "cbcfbe46-c626-4e89-a9e4-0497c2a8ef45"
      },
      "execution_count": 3,
      "outputs": [
        {
          "output_type": "stream",
          "name": "stdout",
          "text": [
            "<class 'pandas.core.frame.DataFrame'>\n",
            "RangeIndex: 597 entries, 0 to 596\n",
            "Data columns (total 6 columns):\n",
            " #   Column       Non-Null Count  Dtype \n",
            "---  ------       --------------  ----- \n",
            " 0   START        597 non-null    object\n",
            " 1   STOP         64 non-null     object\n",
            " 2   PATIENT      597 non-null    object\n",
            " 3   ENCOUNTER    597 non-null    object\n",
            " 4   CODE         597 non-null    int64 \n",
            " 5   DESCRIPTION  597 non-null    object\n",
            "dtypes: int64(1), object(5)\n",
            "memory usage: 28.1+ KB\n"
          ]
        }
      ]
    },
    {
      "cell_type": "markdown",
      "source": [
        "allergies.csv file contains patient allergy data.\n",
        "\n",
        "> It contains 6 columns and 597 entries\n",
        "\n",
        "\n",
        "\n"
      ],
      "metadata": {
        "id": "qVZt-Zp55Rzf"
      }
    },
    {
      "cell_type": "code",
      "source": [
        "# Explore careplans.csv file\n",
        "careplans.info()"
      ],
      "metadata": {
        "colab": {
          "base_uri": "https://localhost:8080/"
        },
        "id": "U6hRbi5h50oQ",
        "outputId": "078e8ea6-6573-4e0d-d15e-1920303a97c4"
      },
      "execution_count": 5,
      "outputs": [
        {
          "output_type": "stream",
          "name": "stdout",
          "text": [
            "<class 'pandas.core.frame.DataFrame'>\n",
            "RangeIndex: 3483 entries, 0 to 3482\n",
            "Data columns (total 9 columns):\n",
            " #   Column             Non-Null Count  Dtype  \n",
            "---  ------             --------------  -----  \n",
            " 0   Id                 3483 non-null   object \n",
            " 1   START              3483 non-null   object \n",
            " 2   STOP               1951 non-null   object \n",
            " 3   PATIENT            3483 non-null   object \n",
            " 4   ENCOUNTER          3483 non-null   object \n",
            " 5   CODE               3483 non-null   int64  \n",
            " 6   DESCRIPTION        3483 non-null   object \n",
            " 7   REASONCODE         3156 non-null   float64\n",
            " 8   REASONDESCRIPTION  3156 non-null   object \n",
            "dtypes: float64(1), int64(1), object(7)\n",
            "memory usage: 245.0+ KB\n"
          ]
        }
      ]
    },
    {
      "cell_type": "markdown",
      "source": [
        "careplans.csv file contains patient care plan data.\n",
        "\n",
        "> It contains 9 columns and 3483 entries"
      ],
      "metadata": {
        "id": "HcfW3vtX7qHx"
      }
    },
    {
      "cell_type": "code",
      "source": [
        "# Explore conditions.csv file\n",
        "conditions.info()"
      ],
      "metadata": {
        "colab": {
          "base_uri": "https://localhost:8080/"
        },
        "id": "XdxAtIb577BW",
        "outputId": "65ca33f5-1a83-4b2d-cd11-de996f57acba"
      },
      "execution_count": 6,
      "outputs": [
        {
          "output_type": "stream",
          "name": "stdout",
          "text": [
            "<class 'pandas.core.frame.DataFrame'>\n",
            "RangeIndex: 8376 entries, 0 to 8375\n",
            "Data columns (total 6 columns):\n",
            " #   Column       Non-Null Count  Dtype \n",
            "---  ------       --------------  ----- \n",
            " 0   START        8376 non-null   object\n",
            " 1   STOP         4565 non-null   object\n",
            " 2   PATIENT      8376 non-null   object\n",
            " 3   ENCOUNTER    8376 non-null   object\n",
            " 4   CODE         8376 non-null   int64 \n",
            " 5   DESCRIPTION  8376 non-null   object\n",
            "dtypes: int64(1), object(5)\n",
            "memory usage: 392.8+ KB\n"
          ]
        }
      ]
    },
    {
      "cell_type": "markdown",
      "source": [
        "conditions.csv file contains patient conditions or diagnoses.\n",
        "\n",
        "> It contains 6 columns and 8376 entries"
      ],
      "metadata": {
        "id": "AGXjUovh8Kd5"
      }
    },
    {
      "cell_type": "code",
      "source": [
        "# Explore devices.csv file\n",
        "devices.info()"
      ],
      "metadata": {
        "colab": {
          "base_uri": "https://localhost:8080/"
        },
        "id": "dn9mYBYL8V3N",
        "outputId": "eaf36b3f-9f64-4d2e-b8b9-31a46b821478"
      },
      "execution_count": 7,
      "outputs": [
        {
          "output_type": "stream",
          "name": "stdout",
          "text": [
            "<class 'pandas.core.frame.DataFrame'>\n",
            "RangeIndex: 78 entries, 0 to 77\n",
            "Data columns (total 7 columns):\n",
            " #   Column       Non-Null Count  Dtype  \n",
            "---  ------       --------------  -----  \n",
            " 0   START        78 non-null     object \n",
            " 1   STOP         0 non-null      float64\n",
            " 2   PATIENT      78 non-null     object \n",
            " 3   ENCOUNTER    78 non-null     object \n",
            " 4   CODE         78 non-null     int64  \n",
            " 5   DESCRIPTION  78 non-null     object \n",
            " 6   UDI          78 non-null     object \n",
            "dtypes: float64(1), int64(1), object(5)\n",
            "memory usage: 4.4+ KB\n"
          ]
        }
      ]
    },
    {
      "cell_type": "markdown",
      "source": [
        "devices.csv file contains patient-affixed permanent and semi-permanent devices.\n",
        "\n",
        "> It contains 7 columns and 78 entries"
      ],
      "metadata": {
        "id": "_HgyxjGM8gyK"
      }
    },
    {
      "cell_type": "code",
      "source": [
        "# Explore encounters.csv file\n",
        "encounters.info()"
      ],
      "metadata": {
        "colab": {
          "base_uri": "https://localhost:8080/"
        },
        "id": "fc6aFj3T8sAF",
        "outputId": "bf0af7f6-a697-48cb-9a64-685982de32df"
      },
      "execution_count": 8,
      "outputs": [
        {
          "output_type": "stream",
          "name": "stdout",
          "text": [
            "<class 'pandas.core.frame.DataFrame'>\n",
            "RangeIndex: 53346 entries, 0 to 53345\n",
            "Data columns (total 15 columns):\n",
            " #   Column               Non-Null Count  Dtype  \n",
            "---  ------               --------------  -----  \n",
            " 0   Id                   53346 non-null  object \n",
            " 1   START                53346 non-null  object \n",
            " 2   STOP                 53346 non-null  object \n",
            " 3   PATIENT              53346 non-null  object \n",
            " 4   ORGANIZATION         53346 non-null  object \n",
            " 5   PROVIDER             53346 non-null  object \n",
            " 6   PAYER                53346 non-null  object \n",
            " 7   ENCOUNTERCLASS       53346 non-null  object \n",
            " 8   CODE                 53346 non-null  int64  \n",
            " 9   DESCRIPTION          53346 non-null  object \n",
            " 10  BASE_ENCOUNTER_COST  53346 non-null  float64\n",
            " 11  TOTAL_CLAIM_COST     53346 non-null  float64\n",
            " 12  PAYER_COVERAGE       53346 non-null  float64\n",
            " 13  REASONCODE           13777 non-null  float64\n",
            " 14  REASONDESCRIPTION    13777 non-null  object \n",
            "dtypes: float64(4), int64(1), object(10)\n",
            "memory usage: 6.1+ MB\n"
          ]
        }
      ]
    },
    {
      "cell_type": "markdown",
      "source": [
        "encounters.csv file contains patient encounter data.\n",
        "\n",
        "> It contains 15 columns and 53346 entries"
      ],
      "metadata": {
        "id": "vEc6699DAN8S"
      }
    },
    {
      "cell_type": "code",
      "source": [
        "# Explore imaging_studies.csv file\n",
        "imaging_studies.info()"
      ],
      "metadata": {
        "colab": {
          "base_uri": "https://localhost:8080/"
        },
        "id": "JINbScwkAb_1",
        "outputId": "d77edc81-4611-4943-e33f-11bf7abf63e3"
      },
      "execution_count": 9,
      "outputs": [
        {
          "output_type": "stream",
          "name": "stdout",
          "text": [
            "<class 'pandas.core.frame.DataFrame'>\n",
            "RangeIndex: 855 entries, 0 to 854\n",
            "Data columns (total 10 columns):\n",
            " #   Column                Non-Null Count  Dtype \n",
            "---  ------                --------------  ----- \n",
            " 0   Id                    855 non-null    object\n",
            " 1   DATE                  855 non-null    object\n",
            " 2   PATIENT               855 non-null    object\n",
            " 3   ENCOUNTER             855 non-null    object\n",
            " 4   BODYSITE_CODE         855 non-null    int64 \n",
            " 5   BODYSITE_DESCRIPTION  855 non-null    object\n",
            " 6   MODALITY_CODE         855 non-null    object\n",
            " 7   MODALITY_DESCRIPTION  855 non-null    object\n",
            " 8   SOP_CODE              855 non-null    object\n",
            " 9   SOP_DESCRIPTION       855 non-null    object\n",
            "dtypes: int64(1), object(9)\n",
            "memory usage: 66.9+ KB\n"
          ]
        }
      ]
    },
    {
      "cell_type": "markdown",
      "source": [
        "imaging_studies.csv file contains patient imaging metadata.\n",
        "\n",
        "> It contains 10 columns and 855 entries"
      ],
      "metadata": {
        "id": "1BY5ptsSAklR"
      }
    },
    {
      "cell_type": "code",
      "source": [
        "# Explore immunizations.csv file\n",
        "immunizations.info()"
      ],
      "metadata": {
        "colab": {
          "base_uri": "https://localhost:8080/"
        },
        "id": "94C-d2JjAu9d",
        "outputId": "607d56c6-1844-4511-d232-7d5900593d6b"
      },
      "execution_count": 10,
      "outputs": [
        {
          "output_type": "stream",
          "name": "stdout",
          "text": [
            "<class 'pandas.core.frame.DataFrame'>\n",
            "RangeIndex: 15478 entries, 0 to 15477\n",
            "Data columns (total 6 columns):\n",
            " #   Column       Non-Null Count  Dtype  \n",
            "---  ------       --------------  -----  \n",
            " 0   DATE         15478 non-null  object \n",
            " 1   PATIENT      15478 non-null  object \n",
            " 2   ENCOUNTER    15478 non-null  object \n",
            " 3   CODE         15478 non-null  int64  \n",
            " 4   DESCRIPTION  15478 non-null  object \n",
            " 5   BASE_COST    15478 non-null  float64\n",
            "dtypes: float64(1), int64(1), object(4)\n",
            "memory usage: 725.7+ KB\n"
          ]
        }
      ]
    },
    {
      "cell_type": "markdown",
      "source": [
        "immunizations.csv file contains patient immunization data.\n",
        "\n",
        "> It contains 6 columns and 15478 entries"
      ],
      "metadata": {
        "id": "5DRuVnWcA3gT"
      }
    },
    {
      "cell_type": "code",
      "source": [
        "# Explore medications.csv file\n",
        "medications.info()"
      ],
      "metadata": {
        "colab": {
          "base_uri": "https://localhost:8080/"
        },
        "id": "lr9-cORQBDYi",
        "outputId": "4606de20-d43f-4e3c-bf28-bd8cdb9bdb17"
      },
      "execution_count": 11,
      "outputs": [
        {
          "output_type": "stream",
          "name": "stdout",
          "text": [
            "<class 'pandas.core.frame.DataFrame'>\n",
            "RangeIndex: 42989 entries, 0 to 42988\n",
            "Data columns (total 13 columns):\n",
            " #   Column             Non-Null Count  Dtype  \n",
            "---  ------             --------------  -----  \n",
            " 0   START              42989 non-null  object \n",
            " 1   STOP               41094 non-null  object \n",
            " 2   PATIENT            42989 non-null  object \n",
            " 3   PAYER              42989 non-null  object \n",
            " 4   ENCOUNTER          42989 non-null  object \n",
            " 5   CODE               42989 non-null  int64  \n",
            " 6   DESCRIPTION        42989 non-null  object \n",
            " 7   BASE_COST          42989 non-null  float64\n",
            " 8   PAYER_COVERAGE     42989 non-null  float64\n",
            " 9   DISPENSES          42989 non-null  int64  \n",
            " 10  TOTALCOST          42989 non-null  float64\n",
            " 11  REASONCODE         31872 non-null  float64\n",
            " 12  REASONDESCRIPTION  31872 non-null  object \n",
            "dtypes: float64(4), int64(2), object(7)\n",
            "memory usage: 4.3+ MB\n"
          ]
        }
      ]
    },
    {
      "cell_type": "markdown",
      "source": [
        "medications.csv file contains patient medication data.\n",
        "\n",
        "> It contains 13 columns and 42989 entries"
      ],
      "metadata": {
        "id": "MQ-0zBPYBPzE"
      }
    },
    {
      "cell_type": "code",
      "source": [
        "# Explore observations.csv file\n",
        "observations.info()"
      ],
      "metadata": {
        "colab": {
          "base_uri": "https://localhost:8080/"
        },
        "id": "_AkjOUpeBX4c",
        "outputId": "7e20d5b7-5187-40a9-bc94-907389f7b1d4"
      },
      "execution_count": 12,
      "outputs": [
        {
          "output_type": "stream",
          "name": "stdout",
          "text": [
            "<class 'pandas.core.frame.DataFrame'>\n",
            "RangeIndex: 299697 entries, 0 to 299696\n",
            "Data columns (total 8 columns):\n",
            " #   Column       Non-Null Count   Dtype \n",
            "---  ------       --------------   ----- \n",
            " 0   DATE         299697 non-null  object\n",
            " 1   PATIENT      299697 non-null  object\n",
            " 2   ENCOUNTER    269334 non-null  object\n",
            " 3   CODE         299697 non-null  object\n",
            " 4   DESCRIPTION  299697 non-null  object\n",
            " 5   VALUE        299697 non-null  object\n",
            " 6   UNITS        286962 non-null  object\n",
            " 7   TYPE         299697 non-null  object\n",
            "dtypes: object(8)\n",
            "memory usage: 18.3+ MB\n"
          ]
        }
      ]
    },
    {
      "cell_type": "markdown",
      "source": [
        "observations.csv file contains patient observations including vital signs and lab reports.\n",
        "\n",
        "> It contains 8 columns and 299697 entries"
      ],
      "metadata": {
        "id": "p99N1u1CBh4g"
      }
    },
    {
      "cell_type": "code",
      "source": [
        "# Explore organizations.csv file\n",
        "organizations.info()"
      ],
      "metadata": {
        "colab": {
          "base_uri": "https://localhost:8080/"
        },
        "id": "E5JtfI_BBy8A",
        "outputId": "4b468e75-c972-4c73-f26d-393446780378"
      },
      "execution_count": 13,
      "outputs": [
        {
          "output_type": "stream",
          "name": "stdout",
          "text": [
            "<class 'pandas.core.frame.DataFrame'>\n",
            "RangeIndex: 1119 entries, 0 to 1118\n",
            "Data columns (total 11 columns):\n",
            " #   Column       Non-Null Count  Dtype  \n",
            "---  ------       --------------  -----  \n",
            " 0   Id           1119 non-null   object \n",
            " 1   NAME         1119 non-null   object \n",
            " 2   ADDRESS      1119 non-null   object \n",
            " 3   CITY         1119 non-null   object \n",
            " 4   STATE        1119 non-null   object \n",
            " 5   ZIP          1119 non-null   object \n",
            " 6   LAT          1119 non-null   float64\n",
            " 7   LON          1119 non-null   float64\n",
            " 8   PHONE        935 non-null    object \n",
            " 9   REVENUE      1119 non-null   float64\n",
            " 10  UTILIZATION  1119 non-null   int64  \n",
            "dtypes: float64(3), int64(1), object(7)\n",
            "memory usage: 96.3+ KB\n"
          ]
        }
      ]
    },
    {
      "cell_type": "markdown",
      "source": [
        "organizations.csv file contains organizations including hospitals.\n",
        "\n",
        "> It contains 11 columns and 1119 entries"
      ],
      "metadata": {
        "id": "B3WOTysmPzwJ"
      }
    },
    {
      "cell_type": "code",
      "source": [
        "# Explore patients.csv file\n",
        "patients.info()"
      ],
      "metadata": {
        "colab": {
          "base_uri": "https://localhost:8080/"
        },
        "id": "vixccyCRP_jq",
        "outputId": "d190ea15-20de-41fb-fbff-bb7bffd52d06"
      },
      "execution_count": 14,
      "outputs": [
        {
          "output_type": "stream",
          "name": "stdout",
          "text": [
            "<class 'pandas.core.frame.DataFrame'>\n",
            "RangeIndex: 1171 entries, 0 to 1170\n",
            "Data columns (total 25 columns):\n",
            " #   Column               Non-Null Count  Dtype  \n",
            "---  ------               --------------  -----  \n",
            " 0   Id                   1171 non-null   object \n",
            " 1   BIRTHDATE            1171 non-null   object \n",
            " 2   DEATHDATE            171 non-null    object \n",
            " 3   SSN                  1171 non-null   object \n",
            " 4   DRIVERS              958 non-null    object \n",
            " 5   PASSPORT             898 non-null    object \n",
            " 6   PREFIX               927 non-null    object \n",
            " 7   FIRST                1171 non-null   object \n",
            " 8   LAST                 1171 non-null   object \n",
            " 9   SUFFIX               12 non-null     object \n",
            " 10  MAIDEN               331 non-null    object \n",
            " 11  MARITAL              791 non-null    object \n",
            " 12  RACE                 1171 non-null   object \n",
            " 13  ETHNICITY            1171 non-null   object \n",
            " 14  GENDER               1171 non-null   object \n",
            " 15  BIRTHPLACE           1171 non-null   object \n",
            " 16  ADDRESS              1171 non-null   object \n",
            " 17  CITY                 1171 non-null   object \n",
            " 18  STATE                1171 non-null   object \n",
            " 19  COUNTY               1171 non-null   object \n",
            " 20  ZIP                  628 non-null    float64\n",
            " 21  LAT                  1171 non-null   float64\n",
            " 22  LON                  1171 non-null   float64\n",
            " 23  HEALTHCARE_EXPENSES  1171 non-null   float64\n",
            " 24  HEALTHCARE_COVERAGE  1171 non-null   float64\n",
            "dtypes: float64(5), object(20)\n",
            "memory usage: 228.8+ KB\n"
          ]
        }
      ]
    },
    {
      "cell_type": "markdown",
      "source": [
        "patients.csv file contains demographic data.\n",
        "\n",
        "> It contains 25 columns and 1171 entries"
      ],
      "metadata": {
        "id": "atPFLnEmQGeV"
      }
    },
    {
      "cell_type": "code",
      "source": [
        "# Explore payer_transitions.csv file\n",
        "payer_transitions.info()"
      ],
      "metadata": {
        "colab": {
          "base_uri": "https://localhost:8080/"
        },
        "id": "ciKUVmaGQSXk",
        "outputId": "08a9361a-66d6-489d-8cc3-09d14d49469a"
      },
      "execution_count": 15,
      "outputs": [
        {
          "output_type": "stream",
          "name": "stdout",
          "text": [
            "<class 'pandas.core.frame.DataFrame'>\n",
            "RangeIndex: 3801 entries, 0 to 3800\n",
            "Data columns (total 5 columns):\n",
            " #   Column      Non-Null Count  Dtype \n",
            "---  ------      --------------  ----- \n",
            " 0   PATIENT     3801 non-null   object\n",
            " 1   START_YEAR  3801 non-null   int64 \n",
            " 2   END_YEAR    3801 non-null   int64 \n",
            " 3   PAYER       3801 non-null   object\n",
            " 4   OWNERSHIP   3565 non-null   object\n",
            "dtypes: int64(2), object(3)\n",
            "memory usage: 148.6+ KB\n"
          ]
        }
      ]
    },
    {
      "cell_type": "markdown",
      "source": [
        "payer_transitions.csv file contains payer transition data (i.e. changes in health insurance).\n",
        "\n",
        "> It contains 5 columns and 3801 entries"
      ],
      "metadata": {
        "id": "cl0Ctq8EQbLj"
      }
    },
    {
      "cell_type": "code",
      "source": [
        "# Explore payers.csv file\n",
        "payers.info()"
      ],
      "metadata": {
        "colab": {
          "base_uri": "https://localhost:8080/"
        },
        "id": "RDCO_9oYQnvq",
        "outputId": "b3fe1e0d-419f-4206-f032-7cc470a37a96"
      },
      "execution_count": 16,
      "outputs": [
        {
          "output_type": "stream",
          "name": "stdout",
          "text": [
            "<class 'pandas.core.frame.DataFrame'>\n",
            "RangeIndex: 10 entries, 0 to 9\n",
            "Data columns (total 21 columns):\n",
            " #   Column                   Non-Null Count  Dtype  \n",
            "---  ------                   --------------  -----  \n",
            " 0   Id                       10 non-null     object \n",
            " 1   NAME                     10 non-null     object \n",
            " 2   ADDRESS                  9 non-null      object \n",
            " 3   CITY                     9 non-null      object \n",
            " 4   STATE_HEADQUARTERED      9 non-null      object \n",
            " 5   ZIP                      9 non-null      float64\n",
            " 6   PHONE                    9 non-null      object \n",
            " 7   AMOUNT_COVERED           10 non-null     float64\n",
            " 8   AMOUNT_UNCOVERED         10 non-null     float64\n",
            " 9   REVENUE                  10 non-null     float64\n",
            " 10  COVERED_ENCOUNTERS       10 non-null     int64  \n",
            " 11  UNCOVERED_ENCOUNTERS     10 non-null     int64  \n",
            " 12  COVERED_MEDICATIONS      10 non-null     int64  \n",
            " 13  UNCOVERED_MEDICATIONS    10 non-null     int64  \n",
            " 14  COVERED_PROCEDURES       10 non-null     int64  \n",
            " 15  UNCOVERED_PROCEDURES     10 non-null     int64  \n",
            " 16  COVERED_IMMUNIZATIONS    10 non-null     int64  \n",
            " 17  UNCOVERED_IMMUNIZATIONS  10 non-null     int64  \n",
            " 18  UNIQUE_CUSTOMERS         10 non-null     int64  \n",
            " 19  QOLS_AVG                 10 non-null     float64\n",
            " 20  MEMBER_MONTHS            10 non-null     int64  \n",
            "dtypes: float64(5), int64(10), object(6)\n",
            "memory usage: 1.8+ KB\n"
          ]
        }
      ]
    },
    {
      "cell_type": "markdown",
      "source": [
        "payers.csv file contains payer organization data.\n",
        "\n",
        "> It contains 21 columns and 10 entries"
      ],
      "metadata": {
        "id": "j87sTo6KQtT7"
      }
    },
    {
      "cell_type": "code",
      "source": [
        "# Explore procedures.csv file\n",
        "procedures.info()"
      ],
      "metadata": {
        "colab": {
          "base_uri": "https://localhost:8080/"
        },
        "id": "eqGRTAHpQ3Nf",
        "outputId": "f3aa1178-a0fa-4ffa-d830-337a0a61cdc5"
      },
      "execution_count": 17,
      "outputs": [
        {
          "output_type": "stream",
          "name": "stdout",
          "text": [
            "<class 'pandas.core.frame.DataFrame'>\n",
            "RangeIndex: 34981 entries, 0 to 34980\n",
            "Data columns (total 8 columns):\n",
            " #   Column             Non-Null Count  Dtype  \n",
            "---  ------             --------------  -----  \n",
            " 0   DATE               34981 non-null  object \n",
            " 1   PATIENT            34981 non-null  object \n",
            " 2   ENCOUNTER          34981 non-null  object \n",
            " 3   CODE               34981 non-null  int64  \n",
            " 4   DESCRIPTION        34981 non-null  object \n",
            " 5   BASE_COST          34981 non-null  float64\n",
            " 6   REASONCODE         19437 non-null  float64\n",
            " 7   REASONDESCRIPTION  19437 non-null  object \n",
            "dtypes: float64(2), int64(1), object(5)\n",
            "memory usage: 2.1+ MB\n"
          ]
        }
      ]
    },
    {
      "cell_type": "markdown",
      "source": [
        "procedures.csv file contains patient procedure data including surgeries.\n",
        "\n",
        "> It contains 8 columns and 34981 entries"
      ],
      "metadata": {
        "id": "DMaKWIi7Q_3P"
      }
    },
    {
      "cell_type": "code",
      "source": [
        "# Explore providers.csv file\n",
        "providers.info()"
      ],
      "metadata": {
        "colab": {
          "base_uri": "https://localhost:8080/"
        },
        "id": "Ze5VlG8TRHj3",
        "outputId": "521f7965-28d7-46d4-bc0d-8293b079009c"
      },
      "execution_count": 18,
      "outputs": [
        {
          "output_type": "stream",
          "name": "stdout",
          "text": [
            "<class 'pandas.core.frame.DataFrame'>\n",
            "RangeIndex: 5855 entries, 0 to 5854\n",
            "Data columns (total 12 columns):\n",
            " #   Column        Non-Null Count  Dtype  \n",
            "---  ------        --------------  -----  \n",
            " 0   Id            5855 non-null   object \n",
            " 1   ORGANIZATION  5855 non-null   object \n",
            " 2   NAME          5855 non-null   object \n",
            " 3   GENDER        5855 non-null   object \n",
            " 4   SPECIALITY    5855 non-null   object \n",
            " 5   ADDRESS       5855 non-null   object \n",
            " 6   CITY          5855 non-null   object \n",
            " 7   STATE         5855 non-null   object \n",
            " 8   ZIP           5855 non-null   object \n",
            " 9   LAT           5855 non-null   float64\n",
            " 10  LON           5855 non-null   float64\n",
            " 11  UTILIZATION   5855 non-null   int64  \n",
            "dtypes: float64(2), int64(1), object(9)\n",
            "memory usage: 549.0+ KB\n"
          ]
        }
      ]
    },
    {
      "cell_type": "markdown",
      "source": [
        "providers.csv file contains clinicians that provide patient care.\n",
        "\n",
        "> It contains 12 columns and 5855 entries"
      ],
      "metadata": {
        "id": "yf1N874jRQip"
      }
    },
    {
      "cell_type": "code",
      "source": [
        "# Explore supplies.csv file\n",
        "supplies.info()"
      ],
      "metadata": {
        "colab": {
          "base_uri": "https://localhost:8080/"
        },
        "id": "q70v6aQ-RZeR",
        "outputId": "92aa4931-d814-42ca-b980-4c95ad07bd21"
      },
      "execution_count": 19,
      "outputs": [
        {
          "output_type": "stream",
          "name": "stdout",
          "text": [
            "<class 'pandas.core.frame.DataFrame'>\n",
            "Index: 0 entries\n",
            "Data columns (total 6 columns):\n",
            " #   Column       Non-Null Count  Dtype \n",
            "---  ------       --------------  ----- \n",
            " 0   DATE         0 non-null      object\n",
            " 1   PATIENT      0 non-null      object\n",
            " 2   ENCOUNTER    0 non-null      object\n",
            " 3   CODE         0 non-null      object\n",
            " 4   DESCRIPTION  0 non-null      object\n",
            " 5   QUANTITY     0 non-null      object\n",
            "dtypes: object(6)\n",
            "memory usage: 0.0+ bytes\n"
          ]
        }
      ]
    },
    {
      "cell_type": "markdown",
      "source": [
        "supplies.csv file is supposed to contain supplies used in the provision of care.\n",
        "\n",
        "> It contains 6 columns, but 0 entries\n",
        "\n"
      ],
      "metadata": {
        "id": "HCn1xlBwRkq9"
      }
    },
    {
      "cell_type": "markdown",
      "source": [
        "> > **(ii) Visualization of a single patient trajectory as she transitions through the medical care system over time**"
      ],
      "metadata": {
        "id": "AS1nt2q1Te0K"
      }
    },
    {
      "cell_type": "markdown",
      "source": [
        "A patient trajectory is a time sequence of encounters (visits) at healthcare organizations (e. g., hospitals or other providers). Each encounter links to patient interventions such as identified condition or diagnosis, dispensed medications, immunization, procedures including surgeries, and care plan.\n",
        "\n",
        "\n",
        "> A single patient trajectory is visualized below by showing the encounters dates, duration of conditions and medications, immunization and procedures dates, and duration of careplans for the patient.\n",
        "\n"
      ],
      "metadata": {
        "id": "4WwKdXrcVc-n"
      }
    },
    {
      "cell_type": "code",
      "source": [
        "def set_datetime_columns(df):\n",
        "    df.loc[:, 'START'] = pd.to_datetime(df['START'], utc=True)\n",
        "    df.loc[:, 'STOP_HOVER'] = df['STOP'].fillna(\"ONGOING\")\n",
        "    df.loc[df['STOP_HOVER'] == \"ONGOING\", 'STOP'] = pd.Timestamp.now()\n",
        "    df.loc[:, 'STOP'] = pd.to_datetime(df['STOP'], utc=True)\n",
        "\n",
        "    if str(df[\"START\"].dt.tz) == \"UTC\":\n",
        "        df['START'] = df['START'].dt.tz_convert(None)\n",
        "    if str(df[\"STOP\"].dt.tz) == \"UTC\":\n",
        "        df['STOP'] = df['STOP'].dt.tz_convert(None)\n",
        "    return df\n",
        "\n",
        "\n",
        "# pick a female patient id from patients.csv file \n",
        "id = '518f83f3-a717-4705-a181-06e205df480b'\n",
        "\n",
        "\n",
        "conditions_patient_df = conditions.loc[conditions['PATIENT'] == id, [\"START\",\"STOP\",\"DESCRIPTION\"]]\n",
        "conditions_patient_df[\"type\"] = \"condition\"\n",
        "\n",
        "\n",
        "medications_patient_df = medications.loc[medications['PATIENT'] == id, [\"START\",\"STOP\",\"DESCRIPTION\"]]\n",
        "medications_patient_df[\"type\"] = \"medication\"\n",
        "\n",
        "\n",
        "careplans_patient_df = careplans.loc[careplans['PATIENT'] == id, [\"START\",\"STOP\",\"DESCRIPTION\"]]\n",
        "careplans_patient_df[\"type\"] = \"careplan\"\n",
        "\n",
        "\n",
        "patient_df = pd.concat([conditions_patient_df, medications_patient_df, careplans_patient_df])\n",
        "patient_df = set_datetime_columns(patient_df)\n",
        "\n",
        "\n",
        "fig = px.timeline(\n",
        "    patient_df, x_start=\"START\", x_end=\"STOP\", y=\"type\", \n",
        "    hover_name = 'DESCRIPTION',\n",
        "    custom_data = ['START', 'STOP_HOVER'],\n",
        "    color = \"type\",\n",
        "    opacity = 0.75,\n",
        "    hover_data=['DESCRIPTION'],  height=400, width=1000, \n",
        ")\n",
        "fig.update_layout(\n",
        "    title_text=\"Single Patient Trajectory\",\n",
        "    plot_bgcolor = 'rgba(0,0,0,0)',\n",
        "    width=1200,\n",
        ")\n",
        "\n",
        "\n",
        "immunizations_patient_df = immunizations.loc[immunizations['PATIENT'] == id, [\"DATE\",\"DESCRIPTION\"]]\n",
        "immunizations_patient_df.loc[:, 'DATE'] = pd.to_datetime(immunizations_patient_df['DATE'], utc=True)\n",
        "\n",
        "trace1 = go.Scatter(x=immunizations_patient_df['DATE'], y=len(immunizations_patient_df)*[\"immunization\"], mode='markers', customdata = immunizations_patient_df[\"DESCRIPTION\"], hovertemplate=\"immunizations: %{customdata}, Date: %{x}\", name=\"immunization\", showlegend=True)\n",
        "\n",
        "\n",
        "\n",
        "procedures_patient_df = procedures.loc[procedures['PATIENT'] == id, [\"DATE\",\"DESCRIPTION\"]]\n",
        "procedures_patient_df.loc[:, 'DATE'] = pd.to_datetime(procedures_patient_df['DATE'], utc=True)\n",
        "\n",
        "trace2 = go.Scatter(x=procedures_patient_df['DATE'], y=len(procedures_patient_df)*[\"procedure\"], mode='markers', customdata = procedures_patient_df[\"DESCRIPTION\"], hovertemplate=\"PROCEDURE: %{customdata}, Date: %{x}\", name=\"procedure\", showlegend=True)\n",
        "\n",
        "\n",
        "encounters_patient_df = encounters.loc[encounters['PATIENT'] == id, [\"START\",\"DESCRIPTION\"]]\n",
        "encounters_patient_df.loc[:, 'START'] = pd.to_datetime(encounters_patient_df['START'], utc=True)\n",
        "\n",
        "trace3 = go.Scatter(x=encounters_patient_df['START'], y=len(encounters_patient_df)*[\"encounter\"], mode='markers', customdata = encounters_patient_df[\"DESCRIPTION\"], hovertemplate=\"encounters: %{customdata}, Date: %{x}\", name=\"encounter\", showlegend=True)\n",
        "\n",
        "\n",
        "fig.add_traces([trace1,trace2,trace3])\n",
        "\n",
        "fig.update_yaxes(autorange=\"reversed\") # otherwise types are listed from the bottom up\n",
        "\n",
        "fig.show(\"notebook_connected\")"
      ],
      "metadata": {
        "colab": {
          "base_uri": "https://localhost:8080/",
          "height": 417
        },
        "id": "QnZAZmtN6yD4",
        "outputId": "3cf8f6ac-a598-4243-a5ec-d703d321cbef"
      },
      "execution_count": 9,
      "outputs": [
        {
          "output_type": "display_data",
          "data": {
            "text/html": [
              "        <script type=\"text/javascript\">\n",
              "        window.PlotlyConfig = {MathJaxConfig: 'local'};\n",
              "        if (window.MathJax && window.MathJax.Hub && window.MathJax.Hub.Config) {window.MathJax.Hub.Config({SVG: {font: \"STIX-Web\"}});}\n",
              "        if (typeof require !== 'undefined') {\n",
              "        require.undef(\"plotly\");\n",
              "        requirejs.config({\n",
              "            paths: {\n",
              "                'plotly': ['https://cdn.plot.ly/plotly-2.18.2.min']\n",
              "            }\n",
              "        });\n",
              "        require(['plotly'], function(Plotly) {\n",
              "            window._Plotly = Plotly;\n",
              "        });\n",
              "        }\n",
              "        </script>\n",
              "        "
            ]
          },
          "metadata": {}
        },
        {
          "output_type": "display_data",
          "data": {
            "text/html": [
              "<div>                            <div id=\"b33f796f-fcd5-41e7-a0e9-e16be2eb2fe0\" class=\"plotly-graph-div\" style=\"height:400px; width:1200px;\"></div>            <script type=\"text/javascript\">                require([\"plotly\"], function(Plotly) {                    window.PLOTLYENV=window.PLOTLYENV || {};                                    if (document.getElementById(\"b33f796f-fcd5-41e7-a0e9-e16be2eb2fe0\")) {                    Plotly.newPlot(                        \"b33f796f-fcd5-41e7-a0e9-e16be2eb2fe0\",                        [{\"alignmentgroup\":\"True\",\"base\":[\"2012-01-14T00:00:00\",\"2014-06-29T00:00:00\",\"2014-07-27T00:00:00\",\"2015-11-10T00:00:00\",\"2019-06-23T00:00:00\",\"2020-03-10T00:00:00\"],\"customdata\":[[\"2012-01-14T00:00:00\",\"2012-02-04\",\"Viral sinusitis (disorder)\"],[\"2014-06-29T00:00:00\",\"2014-07-13\",\"Viral sinusitis (disorder)\"],[\"2014-07-27T00:00:00\",\"2014-08-03\",\"Acute bronchitis (disorder)\"],[\"2015-11-10T00:00:00\",\"2015-11-23\",\"Acute viral pharyngitis (disorder)\"],[\"2019-06-23T00:00:00\",\"2019-07-07\",\"Viral sinusitis (disorder)\"],[\"2020-03-10T00:00:00\",\"2020-03-31\",\"Viral sinusitis (disorder)\"]],\"hovertemplate\":\"<b>%{hovertext}</b><br><br>type=%{y}<br>START=%{base}<br>STOP=%{x}<br>DESCRIPTION=%{customdata[2]}<extra></extra>\",\"hovertext\":[\"Viral sinusitis (disorder)\",\"Viral sinusitis (disorder)\",\"Acute bronchitis (disorder)\",\"Acute viral pharyngitis (disorder)\",\"Viral sinusitis (disorder)\",\"Viral sinusitis (disorder)\"],\"legendgroup\":\"condition\",\"marker\":{\"color\":\"#636efa\",\"opacity\":0.75,\"pattern\":{\"shape\":\"\"}},\"name\":\"condition\",\"offsetgroup\":\"condition\",\"orientation\":\"h\",\"showlegend\":true,\"textposition\":\"auto\",\"x\":[1814400000.0,1209600000.0,604800000.0,1123200000.0,1209600000.0,1814400000.0],\"xaxis\":\"x\",\"y\":[\"condition\",\"condition\",\"condition\",\"condition\",\"condition\",\"condition\"],\"yaxis\":\"y\",\"type\":\"bar\"},{\"alignmentgroup\":\"True\",\"base\":[\"2014-07-27T14:32:49\",\"2015-01-20T14:32:49\",\"2016-01-15T14:32:49\",\"2018-01-09T14:32:49\",\"2020-03-10T14:32:49\"],\"customdata\":[[\"2014-07-27T14:32:49\",\"2014-08-03T14:32:49Z\",\"Acetaminophen 325 MG Oral Tablet\"],[\"2015-01-20T14:32:49\",\"2016-01-15T14:32:49Z\",\"Camila 28 Day Pack\"],[\"2016-01-15T14:32:49\",\"2017-01-14T14:32:49Z\",\"Liletta 52 MG Intrauterine System\"],[\"2018-01-09T14:32:49\",\"2019-01-04T14:32:49Z\",\"Yaz 28 Day Pack\"],[\"2020-03-10T14:32:49\",\"2020-03-31T14:32:49Z\",\"Amoxicillin 250 MG / Clavulanate 125 MG Oral Tablet\"]],\"hovertemplate\":\"<b>%{hovertext}</b><br><br>type=%{y}<br>START=%{base}<br>STOP=%{x}<br>DESCRIPTION=%{customdata[2]}<extra></extra>\",\"hovertext\":[\"Acetaminophen 325 MG Oral Tablet\",\"Camila 28 Day Pack\",\"Liletta 52 MG Intrauterine System\",\"Yaz 28 Day Pack\",\"Amoxicillin 250 MG / Clavulanate 125 MG Oral Tablet\"],\"legendgroup\":\"medication\",\"marker\":{\"color\":\"#EF553B\",\"opacity\":0.75,\"pattern\":{\"shape\":\"\"}},\"name\":\"medication\",\"offsetgroup\":\"medication\",\"orientation\":\"h\",\"showlegend\":true,\"textposition\":\"auto\",\"x\":[604800000.0,31104000000.0,31536000000.0,31104000000.0,1814400000.0],\"xaxis\":\"x\",\"y\":[\"medication\",\"medication\",\"medication\",\"medication\",\"medication\"],\"yaxis\":\"y\",\"type\":\"bar\"},{\"alignmentgroup\":\"True\",\"base\":[\"2014-07-27T00:00:00\"],\"customdata\":[[\"2014-07-27T00:00:00\",\"2014-08-03\",\"Respiratory therapy\"]],\"hovertemplate\":\"<b>%{hovertext}</b><br><br>type=%{y}<br>START=%{base}<br>STOP=%{x}<br>DESCRIPTION=%{customdata[2]}<extra></extra>\",\"hovertext\":[\"Respiratory therapy\"],\"legendgroup\":\"careplan\",\"marker\":{\"color\":\"#00cc96\",\"opacity\":0.75,\"pattern\":{\"shape\":\"\"}},\"name\":\"careplan\",\"offsetgroup\":\"careplan\",\"orientation\":\"h\",\"showlegend\":true,\"textposition\":\"auto\",\"x\":[604800000.0],\"xaxis\":\"x\",\"y\":[\"careplan\"],\"yaxis\":\"y\",\"type\":\"bar\"},{\"customdata\":[\"Influenza  seasonal  injectable  preservative free\",\"HPV  quadrivalent\",\"Influenza  seasonal  injectable  preservative free\",\"HPV  quadrivalent\",\"Influenza  seasonal  injectable  preservative free\",\"Influenza  seasonal  injectable  preservative free\",\"Influenza  seasonal  injectable  preservative free\",\"meningococcal MCV4P\",\"Influenza  seasonal  injectable  preservative free\",\"Influenza  seasonal  injectable  preservative free\",\"Influenza  seasonal  injectable  preservative free\"],\"hovertemplate\":\"immunizations: %{customdata}, Date: %{x}\",\"mode\":\"markers\",\"name\":\"immunization\",\"showlegend\":true,\"x\":[\"2011-02-23T14:32:49+00:00\",\"2011-02-23T14:32:49+00:00\",\"2012-02-29T14:32:49+00:00\",\"2012-02-29T14:32:49+00:00\",\"2013-03-06T14:32:49+00:00\",\"2014-03-12T14:32:49+00:00\",\"2014-08-06T14:32:49+00:00\",\"2015-03-18T14:32:49+00:00\",\"2016-03-23T14:32:49+00:00\",\"2017-03-29T14:32:49+00:00\",\"2018-04-04T14:32:49+00:00\"],\"y\":[\"immunization\",\"immunization\",\"immunization\",\"immunization\",\"immunization\",\"immunization\",\"immunization\",\"immunization\",\"immunization\",\"immunization\",\"immunization\"],\"type\":\"scatter\"},{\"customdata\":[\"Medication Reconciliation (procedure)\",\"Medication Reconciliation (procedure)\",\"Plain chest X-ray (procedure)\",\"Insertion of intrauterine contraceptive device\",\"Medication Reconciliation (procedure)\",\"Medication Reconciliation (procedure)\"],\"hovertemplate\":\"PROCEDURE: %{customdata}, Date: %{x}\",\"mode\":\"markers\",\"name\":\"procedure\",\"showlegend\":true,\"x\":[\"2014-03-12T14:32:49+00:00\",\"2014-07-02T14:32:49+00:00\",\"2014-07-27T14:32:49+00:00\",\"2016-01-17T14:32:49+00:00\",\"2016-03-23T14:32:49+00:00\",\"2017-03-29T14:32:49+00:00\"],\"y\":[\"procedure\",\"procedure\",\"procedure\",\"procedure\",\"procedure\",\"procedure\"],\"type\":\"scatter\"},{\"customdata\":[\"Well child visit (procedure)\",\"Encounter for symptom\",\"Well child visit (procedure)\",\"Well child visit (procedure)\",\"Well child visit (procedure)\",\"Encounter for check up (procedure)\",\"Encounter for symptom\",\"Encounter for symptom\",\"Encounter for check up (procedure)\",\"Consultation for treatment\",\"Well child visit (procedure)\",\"Encounter for symptom\",\"Consultation for treatment\",\"Patient encounter procedure\",\"Well child visit (procedure)\",\"General examination of patient (procedure)\",\"Consultation for treatment\",\"General examination of patient (procedure)\",\"Encounter for symptom\",\"Encounter for symptom\"],\"hovertemplate\":\"encounters: %{customdata}, Date: %{x}\",\"mode\":\"markers\",\"name\":\"encounter\",\"showlegend\":true,\"x\":[\"2011-02-23T14:32:49+00:00\",\"2012-01-14T14:32:49+00:00\",\"2012-02-29T14:32:49+00:00\",\"2013-03-06T14:32:49+00:00\",\"2014-03-12T14:32:49+00:00\",\"2014-07-02T14:32:49+00:00\",\"2014-06-29T14:32:49+00:00\",\"2014-07-27T14:32:49+00:00\",\"2014-08-06T14:32:49+00:00\",\"2015-01-20T14:32:49+00:00\",\"2015-03-18T14:32:49+00:00\",\"2015-11-10T14:32:49+00:00\",\"2016-01-15T14:32:49+00:00\",\"2016-01-17T14:32:49+00:00\",\"2016-03-23T14:32:49+00:00\",\"2017-03-29T14:32:49+00:00\",\"2018-01-09T14:32:49+00:00\",\"2018-04-04T14:32:49+00:00\",\"2019-06-23T14:32:49+00:00\",\"2020-03-10T14:32:49+00:00\"],\"y\":[\"encounter\",\"encounter\",\"encounter\",\"encounter\",\"encounter\",\"encounter\",\"encounter\",\"encounter\",\"encounter\",\"encounter\",\"encounter\",\"encounter\",\"encounter\",\"encounter\",\"encounter\",\"encounter\",\"encounter\",\"encounter\",\"encounter\",\"encounter\"],\"type\":\"scatter\"}],                        {\"template\":{\"data\":{\"histogram2dcontour\":[{\"type\":\"histogram2dcontour\",\"colorbar\":{\"outlinewidth\":0,\"ticks\":\"\"},\"colorscale\":[[0.0,\"#0d0887\"],[0.1111111111111111,\"#46039f\"],[0.2222222222222222,\"#7201a8\"],[0.3333333333333333,\"#9c179e\"],[0.4444444444444444,\"#bd3786\"],[0.5555555555555556,\"#d8576b\"],[0.6666666666666666,\"#ed7953\"],[0.7777777777777778,\"#fb9f3a\"],[0.8888888888888888,\"#fdca26\"],[1.0,\"#f0f921\"]]}],\"choropleth\":[{\"type\":\"choropleth\",\"colorbar\":{\"outlinewidth\":0,\"ticks\":\"\"}}],\"histogram2d\":[{\"type\":\"histogram2d\",\"colorbar\":{\"outlinewidth\":0,\"ticks\":\"\"},\"colorscale\":[[0.0,\"#0d0887\"],[0.1111111111111111,\"#46039f\"],[0.2222222222222222,\"#7201a8\"],[0.3333333333333333,\"#9c179e\"],[0.4444444444444444,\"#bd3786\"],[0.5555555555555556,\"#d8576b\"],[0.6666666666666666,\"#ed7953\"],[0.7777777777777778,\"#fb9f3a\"],[0.8888888888888888,\"#fdca26\"],[1.0,\"#f0f921\"]]}],\"heatmap\":[{\"type\":\"heatmap\",\"colorbar\":{\"outlinewidth\":0,\"ticks\":\"\"},\"colorscale\":[[0.0,\"#0d0887\"],[0.1111111111111111,\"#46039f\"],[0.2222222222222222,\"#7201a8\"],[0.3333333333333333,\"#9c179e\"],[0.4444444444444444,\"#bd3786\"],[0.5555555555555556,\"#d8576b\"],[0.6666666666666666,\"#ed7953\"],[0.7777777777777778,\"#fb9f3a\"],[0.8888888888888888,\"#fdca26\"],[1.0,\"#f0f921\"]]}],\"heatmapgl\":[{\"type\":\"heatmapgl\",\"colorbar\":{\"outlinewidth\":0,\"ticks\":\"\"},\"colorscale\":[[0.0,\"#0d0887\"],[0.1111111111111111,\"#46039f\"],[0.2222222222222222,\"#7201a8\"],[0.3333333333333333,\"#9c179e\"],[0.4444444444444444,\"#bd3786\"],[0.5555555555555556,\"#d8576b\"],[0.6666666666666666,\"#ed7953\"],[0.7777777777777778,\"#fb9f3a\"],[0.8888888888888888,\"#fdca26\"],[1.0,\"#f0f921\"]]}],\"contourcarpet\":[{\"type\":\"contourcarpet\",\"colorbar\":{\"outlinewidth\":0,\"ticks\":\"\"}}],\"contour\":[{\"type\":\"contour\",\"colorbar\":{\"outlinewidth\":0,\"ticks\":\"\"},\"colorscale\":[[0.0,\"#0d0887\"],[0.1111111111111111,\"#46039f\"],[0.2222222222222222,\"#7201a8\"],[0.3333333333333333,\"#9c179e\"],[0.4444444444444444,\"#bd3786\"],[0.5555555555555556,\"#d8576b\"],[0.6666666666666666,\"#ed7953\"],[0.7777777777777778,\"#fb9f3a\"],[0.8888888888888888,\"#fdca26\"],[1.0,\"#f0f921\"]]}],\"surface\":[{\"type\":\"surface\",\"colorbar\":{\"outlinewidth\":0,\"ticks\":\"\"},\"colorscale\":[[0.0,\"#0d0887\"],[0.1111111111111111,\"#46039f\"],[0.2222222222222222,\"#7201a8\"],[0.3333333333333333,\"#9c179e\"],[0.4444444444444444,\"#bd3786\"],[0.5555555555555556,\"#d8576b\"],[0.6666666666666666,\"#ed7953\"],[0.7777777777777778,\"#fb9f3a\"],[0.8888888888888888,\"#fdca26\"],[1.0,\"#f0f921\"]]}],\"mesh3d\":[{\"type\":\"mesh3d\",\"colorbar\":{\"outlinewidth\":0,\"ticks\":\"\"}}],\"scatter\":[{\"fillpattern\":{\"fillmode\":\"overlay\",\"size\":10,\"solidity\":0.2},\"type\":\"scatter\"}],\"parcoords\":[{\"type\":\"parcoords\",\"line\":{\"colorbar\":{\"outlinewidth\":0,\"ticks\":\"\"}}}],\"scatterpolargl\":[{\"type\":\"scatterpolargl\",\"marker\":{\"colorbar\":{\"outlinewidth\":0,\"ticks\":\"\"}}}],\"bar\":[{\"error_x\":{\"color\":\"#2a3f5f\"},\"error_y\":{\"color\":\"#2a3f5f\"},\"marker\":{\"line\":{\"color\":\"#E5ECF6\",\"width\":0.5},\"pattern\":{\"fillmode\":\"overlay\",\"size\":10,\"solidity\":0.2}},\"type\":\"bar\"}],\"scattergeo\":[{\"type\":\"scattergeo\",\"marker\":{\"colorbar\":{\"outlinewidth\":0,\"ticks\":\"\"}}}],\"scatterpolar\":[{\"type\":\"scatterpolar\",\"marker\":{\"colorbar\":{\"outlinewidth\":0,\"ticks\":\"\"}}}],\"histogram\":[{\"marker\":{\"pattern\":{\"fillmode\":\"overlay\",\"size\":10,\"solidity\":0.2}},\"type\":\"histogram\"}],\"scattergl\":[{\"type\":\"scattergl\",\"marker\":{\"colorbar\":{\"outlinewidth\":0,\"ticks\":\"\"}}}],\"scatter3d\":[{\"type\":\"scatter3d\",\"line\":{\"colorbar\":{\"outlinewidth\":0,\"ticks\":\"\"}},\"marker\":{\"colorbar\":{\"outlinewidth\":0,\"ticks\":\"\"}}}],\"scattermapbox\":[{\"type\":\"scattermapbox\",\"marker\":{\"colorbar\":{\"outlinewidth\":0,\"ticks\":\"\"}}}],\"scatterternary\":[{\"type\":\"scatterternary\",\"marker\":{\"colorbar\":{\"outlinewidth\":0,\"ticks\":\"\"}}}],\"scattercarpet\":[{\"type\":\"scattercarpet\",\"marker\":{\"colorbar\":{\"outlinewidth\":0,\"ticks\":\"\"}}}],\"carpet\":[{\"aaxis\":{\"endlinecolor\":\"#2a3f5f\",\"gridcolor\":\"white\",\"linecolor\":\"white\",\"minorgridcolor\":\"white\",\"startlinecolor\":\"#2a3f5f\"},\"baxis\":{\"endlinecolor\":\"#2a3f5f\",\"gridcolor\":\"white\",\"linecolor\":\"white\",\"minorgridcolor\":\"white\",\"startlinecolor\":\"#2a3f5f\"},\"type\":\"carpet\"}],\"table\":[{\"cells\":{\"fill\":{\"color\":\"#EBF0F8\"},\"line\":{\"color\":\"white\"}},\"header\":{\"fill\":{\"color\":\"#C8D4E3\"},\"line\":{\"color\":\"white\"}},\"type\":\"table\"}],\"barpolar\":[{\"marker\":{\"line\":{\"color\":\"#E5ECF6\",\"width\":0.5},\"pattern\":{\"fillmode\":\"overlay\",\"size\":10,\"solidity\":0.2}},\"type\":\"barpolar\"}],\"pie\":[{\"automargin\":true,\"type\":\"pie\"}]},\"layout\":{\"autotypenumbers\":\"strict\",\"colorway\":[\"#636efa\",\"#EF553B\",\"#00cc96\",\"#ab63fa\",\"#FFA15A\",\"#19d3f3\",\"#FF6692\",\"#B6E880\",\"#FF97FF\",\"#FECB52\"],\"font\":{\"color\":\"#2a3f5f\"},\"hovermode\":\"closest\",\"hoverlabel\":{\"align\":\"left\"},\"paper_bgcolor\":\"white\",\"plot_bgcolor\":\"#E5ECF6\",\"polar\":{\"bgcolor\":\"#E5ECF6\",\"angularaxis\":{\"gridcolor\":\"white\",\"linecolor\":\"white\",\"ticks\":\"\"},\"radialaxis\":{\"gridcolor\":\"white\",\"linecolor\":\"white\",\"ticks\":\"\"}},\"ternary\":{\"bgcolor\":\"#E5ECF6\",\"aaxis\":{\"gridcolor\":\"white\",\"linecolor\":\"white\",\"ticks\":\"\"},\"baxis\":{\"gridcolor\":\"white\",\"linecolor\":\"white\",\"ticks\":\"\"},\"caxis\":{\"gridcolor\":\"white\",\"linecolor\":\"white\",\"ticks\":\"\"}},\"coloraxis\":{\"colorbar\":{\"outlinewidth\":0,\"ticks\":\"\"}},\"colorscale\":{\"sequential\":[[0.0,\"#0d0887\"],[0.1111111111111111,\"#46039f\"],[0.2222222222222222,\"#7201a8\"],[0.3333333333333333,\"#9c179e\"],[0.4444444444444444,\"#bd3786\"],[0.5555555555555556,\"#d8576b\"],[0.6666666666666666,\"#ed7953\"],[0.7777777777777778,\"#fb9f3a\"],[0.8888888888888888,\"#fdca26\"],[1.0,\"#f0f921\"]],\"sequentialminus\":[[0.0,\"#0d0887\"],[0.1111111111111111,\"#46039f\"],[0.2222222222222222,\"#7201a8\"],[0.3333333333333333,\"#9c179e\"],[0.4444444444444444,\"#bd3786\"],[0.5555555555555556,\"#d8576b\"],[0.6666666666666666,\"#ed7953\"],[0.7777777777777778,\"#fb9f3a\"],[0.8888888888888888,\"#fdca26\"],[1.0,\"#f0f921\"]],\"diverging\":[[0,\"#8e0152\"],[0.1,\"#c51b7d\"],[0.2,\"#de77ae\"],[0.3,\"#f1b6da\"],[0.4,\"#fde0ef\"],[0.5,\"#f7f7f7\"],[0.6,\"#e6f5d0\"],[0.7,\"#b8e186\"],[0.8,\"#7fbc41\"],[0.9,\"#4d9221\"],[1,\"#276419\"]]},\"xaxis\":{\"gridcolor\":\"white\",\"linecolor\":\"white\",\"ticks\":\"\",\"title\":{\"standoff\":15},\"zerolinecolor\":\"white\",\"automargin\":true,\"zerolinewidth\":2},\"yaxis\":{\"gridcolor\":\"white\",\"linecolor\":\"white\",\"ticks\":\"\",\"title\":{\"standoff\":15},\"zerolinecolor\":\"white\",\"automargin\":true,\"zerolinewidth\":2},\"scene\":{\"xaxis\":{\"backgroundcolor\":\"#E5ECF6\",\"gridcolor\":\"white\",\"linecolor\":\"white\",\"showbackground\":true,\"ticks\":\"\",\"zerolinecolor\":\"white\",\"gridwidth\":2},\"yaxis\":{\"backgroundcolor\":\"#E5ECF6\",\"gridcolor\":\"white\",\"linecolor\":\"white\",\"showbackground\":true,\"ticks\":\"\",\"zerolinecolor\":\"white\",\"gridwidth\":2},\"zaxis\":{\"backgroundcolor\":\"#E5ECF6\",\"gridcolor\":\"white\",\"linecolor\":\"white\",\"showbackground\":true,\"ticks\":\"\",\"zerolinecolor\":\"white\",\"gridwidth\":2}},\"shapedefaults\":{\"line\":{\"color\":\"#2a3f5f\"}},\"annotationdefaults\":{\"arrowcolor\":\"#2a3f5f\",\"arrowhead\":0,\"arrowwidth\":1},\"geo\":{\"bgcolor\":\"white\",\"landcolor\":\"#E5ECF6\",\"subunitcolor\":\"white\",\"showland\":true,\"showlakes\":true,\"lakecolor\":\"white\"},\"title\":{\"x\":0.05},\"mapbox\":{\"style\":\"light\"}}},\"xaxis\":{\"anchor\":\"y\",\"domain\":[0.0,1.0],\"type\":\"date\"},\"yaxis\":{\"anchor\":\"x\",\"domain\":[0.0,1.0],\"title\":{\"text\":\"type\"},\"categoryorder\":\"array\",\"categoryarray\":[\"careplan\",\"medication\",\"condition\"],\"autorange\":\"reversed\"},\"legend\":{\"title\":{\"text\":\"type\"},\"tracegroupgap\":0},\"margin\":{\"t\":60},\"barmode\":\"overlay\",\"height\":400,\"width\":1200,\"title\":{\"text\":\"Single Patient Trajectory\"},\"plot_bgcolor\":\"rgba(0,0,0,0)\"},                        {\"responsive\": true}                    ).then(function(){\n",
              "                            \n",
              "var gd = document.getElementById('b33f796f-fcd5-41e7-a0e9-e16be2eb2fe0');\n",
              "var x = new MutationObserver(function (mutations, observer) {{\n",
              "        var display = window.getComputedStyle(gd).display;\n",
              "        if (!display || display === 'none') {{\n",
              "            console.log([gd, 'removed!']);\n",
              "            Plotly.purge(gd);\n",
              "            observer.disconnect();\n",
              "        }}\n",
              "}});\n",
              "\n",
              "// Listen for the removal of the full notebook cells\n",
              "var notebookContainer = gd.closest('#notebook-container');\n",
              "if (notebookContainer) {{\n",
              "    x.observe(notebookContainer, {childList: true});\n",
              "}}\n",
              "\n",
              "// Listen for the clearing of the current output cell\n",
              "var outputEl = gd.closest('.output');\n",
              "if (outputEl) {{\n",
              "    x.observe(outputEl, {childList: true});\n",
              "}}\n",
              "\n",
              "                        })                };                });            </script>        </div>"
            ]
          },
          "metadata": {}
        }
      ]
    },
    {
      "cell_type": "markdown",
      "source": [
        "# Task 3: \n",
        "\n",
        "Explore the data to find and present patterns of patients with the same conditions such as:\n",
        "\n",
        "\n",
        "\n",
        "*   Which are the three most common conditions (present graphs and numbers)?\n",
        "*   Are there similarities in how the three conditions are treated? Showcase examples.\n",
        "*   What other common pattern characteristics can be found for the three groups of conditions?\n",
        "\n",
        "\n"
      ],
      "metadata": {
        "id": "87kK3l4uWfXi"
      }
    },
    {
      "cell_type": "markdown",
      "source": [
        "\n",
        "\n",
        "> **(i) The three most common conditions**\n",
        "\n"
      ],
      "metadata": {
        "id": "JtTEmQVJY26A"
      }
    },
    {
      "cell_type": "code",
      "source": [
        "def plot_count(feature, title, df, size=1, ordered=True):\n",
        "    sns.set_theme(style=\"whitegrid\")\n",
        "    f, ax = plt.subplots(1,1, figsize=(4*size,4))\n",
        "    total = float(len(df))\n",
        "    if ordered:\n",
        "        g = sns.countplot(x=feature, data=df, order = df[feature].value_counts().index[:3], palette=\"Set3\")\n",
        "    else:\n",
        "        g = sns.countplot(x=feature, data = df, palette='Set3')\n",
        "    g.set_title(\"Number and Percentage of the three most common {}\".format(title))\n",
        "    if(size > 2):\n",
        "        plt.xticks(rotation=90, size=8)\n",
        "    for p in ax.patches:\n",
        "        height = p.get_height()\n",
        "        ax.text(p.get_x()+p.get_width()/2.,\n",
        "                height + 3,\n",
        "                '{:1.2f}%'.format(100*height/total),\n",
        "                ha=\"center\") \n",
        "    plt.show()\n",
        "\n",
        "\n",
        "plot_count(\"DESCRIPTION\", \"conditions\", df=conditions, size=3)"
      ],
      "metadata": {
        "colab": {
          "base_uri": "https://localhost:8080/",
          "height": 588
        },
        "id": "K5fcB5StZBss",
        "outputId": "1603b5a6-a984-478e-e102-7220c0bbacfe"
      },
      "execution_count": 43,
      "outputs": [
        {
          "output_type": "display_data",
          "data": {
            "text/plain": [
              "<Figure size 1200x400 with 1 Axes>"
            ],
            "image/png": "[encoded data removed]"
          },
          "metadata": {}
        }
      ]
    },
    {
      "cell_type": "markdown",
      "source": [
        "\n",
        "\n",
        "> The three most common conditions are:\n",
        "\n",
        "\n",
        "*   Viral sinusitis (disorder) - 14.90%\n",
        "*   Acute viral pharyngitis (disorder) - 7.80%\n",
        "*   Acute bronchitis (disorder) - 6.72%\n",
        "\n",
        "\n",
        "\n",
        "\n"
      ],
      "metadata": {
        "id": "bRCIWwKxaeva"
      }
    },
    {
      "cell_type": "markdown",
      "source": [
        ">> **(ii) Similarities in how the three conditions are treated**"
      ],
      "metadata": {
        "id": "aU4CgT4Ybdv5"
      }
    },
    {
      "cell_type": "markdown",
      "source": [
        "The following cases are investigated.\n",
        "\n",
        "\n",
        "*   How the three common conditions are treated in terms of medications.\n",
        "*   How the three common conditions are treated in terms of procedures.\n",
        "*   How the three common conditions are treated in terms of careplans."
      ],
      "metadata": {
        "id": "OUABxBfLo5L6"
      }
    },
    {
      "cell_type": "code",
      "source": [
        "### How the three common conditions are treated in terms of medications\n",
        "\n",
        "\n",
        "# Get rows that are related to the three common conditions\n",
        "medications_df = medications[medications['REASONDESCRIPTION'].isin(list(conditions.DESCRIPTION.value_counts().index[:3]))]\n",
        "\n",
        "# Group by REASONDESCRIPTION and DESCRIPTION and then count\n",
        "medications_agg = medications_df.groupby( [\"REASONDESCRIPTION\", \"DESCRIPTION\"], as_index=False).agg( \n",
        "    count=pd.NamedAgg(column=\"DESCRIPTION\", aggfunc=\"count\"),\n",
        ").sort_values('count', ascending=False)\n",
        "\n",
        "medications_agg.head()"
      ],
      "metadata": {
        "colab": {
          "base_uri": "https://localhost:8080/",
          "height": 175
        },
        "id": "yi9ipVlSbpci",
        "outputId": "a75e3cd1-ca64-4e86-fdd4-c3c5d97ce310"
      },
      "execution_count": 10,
      "outputs": [
        {
          "output_type": "execute_result",
          "data": {
            "text/plain": [
              "                    REASONDESCRIPTION  \\\n",
              "1         Acute bronchitis (disorder)   \n",
              "3          Viral sinusitis (disorder)   \n",
              "0         Acute bronchitis (disorder)   \n",
              "2  Acute viral pharyngitis (disorder)   \n",
              "\n",
              "                                         DESCRIPTION  count  \n",
              "1                   Acetaminophen 325 MG Oral Tablet    440  \n",
              "3  Amoxicillin 250 MG / Clavulanate 125 MG Oral T...    247  \n",
              "0  Acetaminophen 21.7 MG/ML / Dextromethorphan Hy...    126  \n",
              "2          Penicillin V Potassium 250 MG Oral Tablet      9  "
            ],
            "text/html": [
              "\n",
              "  <div id=\"df-29b5dd8d-43ea-4cc3-ba65-3f170cd6e218\">\n",
              "    <div class=\"colab-df-container\">\n",
              "      <div>\n",
              "<style scoped>\n",
              "    .dataframe tbody tr th:only-of-type {\n",
              "        vertical-align: middle;\n",
              "    }\n",
              "\n",
              "    .dataframe tbody tr th {\n",
              "        vertical-align: top;\n",
              "    }\n",
              "\n",
              "    .dataframe thead th {\n",
              "        text-align: right;\n",
              "    }\n",
              "</style>\n",
              "<table border=\"1\" class=\"dataframe\">\n",
              "  <thead>\n",
              "    <tr style=\"text-align: right;\">\n",
              "      <th></th>\n",
              "      <th>REASONDESCRIPTION</th>\n",
              "      <th>DESCRIPTION</th>\n",
              "      <th>count</th>\n",
              "    </tr>\n",
              "  </thead>\n",
              "  <tbody>\n",
              "    <tr>\n",
              "      <th>1</th>\n",
              "      <td>Acute bronchitis (disorder)</td>\n",
              "      <td>Acetaminophen 325 MG Oral Tablet</td>\n",
              "      <td>440</td>\n",
              "    </tr>\n",
              "    <tr>\n",
              "      <th>3</th>\n",
              "      <td>Viral sinusitis (disorder)</td>\n",
              "      <td>Amoxicillin 250 MG / Clavulanate 125 MG Oral T...</td>\n",
              "      <td>247</td>\n",
              "    </tr>\n",
              "    <tr>\n",
              "      <th>0</th>\n",
              "      <td>Acute bronchitis (disorder)</td>\n",
              "      <td>Acetaminophen 21.7 MG/ML / Dextromethorphan Hy...</td>\n",
              "      <td>126</td>\n",
              "    </tr>\n",
              "    <tr>\n",
              "      <th>2</th>\n",
              "      <td>Acute viral pharyngitis (disorder)</td>\n",
              "      <td>Penicillin V Potassium 250 MG Oral Tablet</td>\n",
              "      <td>9</td>\n",
              "    </tr>\n",
              "  </tbody>\n",
              "</table>\n",
              "</div>\n",
              "      <button class=\"colab-df-convert\" onclick=\"convertToInteractive('df-29b5dd8d-43ea-4cc3-ba65-3f170cd6e218')\"\n",
              "              title=\"Convert this dataframe to an interactive table.\"\n",
              "              style=\"display:none;\">\n",
              "        \n",
              "  <svg xmlns=\"http://www.w3.org/2000/svg\" height=\"24px\"viewBox=\"0 0 24 24\"\n",
              "       width=\"24px\">\n",
              "    <path d=\"M0 0h24v24H0V0z\" fill=\"none\"/>\n",
              "    <path d=\"M18.56 5.44l.94 2.06.94-2.06 2.06-.94-2.06-.94-.94-2.06-.94 2.06-2.06.94zm-11 1L8.5 8.5l.94-2.06 2.06-.94-2.06-.94L8.5 2.5l-.94 2.06-2.06.94zm10 10l.94 2.06.94-2.06 2.06-.94-2.06-.94-.94-2.06-.94 2.06-2.06.94z\"/><path d=\"M17.41 7.96l-1.37-1.37c-.4-.4-.92-.59-1.43-.59-.52 0-1.04.2-1.43.59L10.3 9.45l-7.72 7.72c-.78.78-.78 2.05 0 2.83L4 21.41c.39.39.9.59 1.41.59.51 0 1.02-.2 1.41-.59l7.78-7.78 2.81-2.81c.8-.78.8-2.07 0-2.86zM5.41 20L4 18.59l7.72-7.72 1.47 1.35L5.41 20z\"/>\n",
              "  </svg>\n",
              "      </button>\n",
              "      \n",
              "  <style>\n",
              "    .colab-df-container {\n",
              "      display:flex;\n",
              "      flex-wrap:wrap;\n",
              "      gap: 12px;\n",
              "    }\n",
              "\n",
              "    .colab-df-convert {\n",
              "      background-color: #E8F0FE;\n",
              "      border: none;\n",
              "      border-radius: 50%;\n",
              "      cursor: pointer;\n",
              "      display: none;\n",
              "      fill: #1967D2;\n",
              "      height: 32px;\n",
              "      padding: 0 0 0 0;\n",
              "      width: 32px;\n",
              "    }\n",
              "\n",
              "    .colab-df-convert:hover {\n",
              "      background-color: #E2EBFA;\n",
              "      box-shadow: 0px 1px 2px rgba(60, 64, 67, 0.3), 0px 1px 3px 1px rgba(60, 64, 67, 0.15);\n",
              "      fill: #174EA6;\n",
              "    }\n",
              "\n",
              "    [theme=dark] .colab-df-convert {\n",
              "      background-color: #3B4455;\n",
              "      fill: #D2E3FC;\n",
              "    }\n",
              "\n",
              "    [theme=dark] .colab-df-convert:hover {\n",
              "      background-color: #434B5C;\n",
              "      box-shadow: 0px 1px 3px 1px rgba(0, 0, 0, 0.15);\n",
              "      filter: drop-shadow(0px 1px 2px rgba(0, 0, 0, 0.3));\n",
              "      fill: #FFFFFF;\n",
              "    }\n",
              "  </style>\n",
              "\n",
              "      <script>\n",
              "        const buttonEl =\n",
              "          document.querySelector('#df-29b5dd8d-43ea-4cc3-ba65-3f170cd6e218 button.colab-df-convert');\n",
              "        buttonEl.style.display =\n",
              "          google.colab.kernel.accessAllowed ? 'block' : 'none';\n",
              "\n",
              "        async function convertToInteractive(key) {\n",
              "          const element = document.querySelector('#df-29b5dd8d-43ea-4cc3-ba65-3f170cd6e218');\n",
              "          const dataTable =\n",
              "            await google.colab.kernel.invokeFunction('convertToInteractive',\n",
              "                                                     [key], {});\n",
              "          if (!dataTable) return;\n",
              "\n",
              "          const docLinkHtml = 'Like what you see? Visit the ' +\n",
              "            '<a target=\"_blank\" href=https://colab.research.google.com/notebooks/data_table.ipynb>data table notebook</a>'\n",
              "            + ' to learn more about interactive tables.';\n",
              "          element.innerHTML = '';\n",
              "          dataTable['output_type'] = 'display_data';\n",
              "          await google.colab.output.renderOutput(dataTable, element);\n",
              "          const docLink = document.createElement('div');\n",
              "          docLink.innerHTML = docLinkHtml;\n",
              "          element.appendChild(docLink);\n",
              "        }\n",
              "      </script>\n",
              "    </div>\n",
              "  </div>\n",
              "  "
            ]
          },
          "metadata": {},
          "execution_count": 10
        }
      ]
    },
    {
      "cell_type": "code",
      "source": [
        "fig = px.histogram(medications_agg, y=\"DESCRIPTION\", x=\"count\",color=\"REASONDESCRIPTION\")\n",
        "\n",
        "fig.update_layout(\n",
        "    title_text=\"Medications for the three most common conditions\",\n",
        "    xaxis_title_text=\"Count\", # yaxis label\n",
        ")\n",
        "\n",
        "fig.update_yaxes(autorange=\"reversed\") # otherwise descriptions are listed from the bottom up\n",
        "\n",
        "fig.show(\"notebook_connected\")"
      ],
      "metadata": {
        "colab": {
          "base_uri": "https://localhost:8080/",
          "height": 542
        },
        "id": "jpd8rWecBme8",
        "outputId": "19e869fb-51af-4af8-96f4-c547f93c449d"
      },
      "execution_count": 11,
      "outputs": [
        {
          "output_type": "display_data",
          "data": {
            "text/html": [
              "        <script type=\"text/javascript\">\n",
              "        window.PlotlyConfig = {MathJaxConfig: 'local'};\n",
              "        if (window.MathJax && window.MathJax.Hub && window.MathJax.Hub.Config) {window.MathJax.Hub.Config({SVG: {font: \"STIX-Web\"}});}\n",
              "        if (typeof require !== 'undefined') {\n",
              "        require.undef(\"plotly\");\n",
              "        requirejs.config({\n",
              "            paths: {\n",
              "                'plotly': ['https://cdn.plot.ly/plotly-2.18.2.min']\n",
              "            }\n",
              "        });\n",
              "        require(['plotly'], function(Plotly) {\n",
              "            window._Plotly = Plotly;\n",
              "        });\n",
              "        }\n",
              "        </script>\n",
              "        "
            ]
          },
          "metadata": {}
        },
        {
          "output_type": "display_data",
          "data": {
            "text/html": [
              "<div>                            <div id=\"4ec6d556-b662-4116-b417-6630d528b8a6\" class=\"plotly-graph-div\" style=\"height:525px; width:100%;\"></div>            <script type=\"text/javascript\">                require([\"plotly\"], function(Plotly) {                    window.PLOTLYENV=window.PLOTLYENV || {};                                    if (document.getElementById(\"4ec6d556-b662-4116-b417-6630d528b8a6\")) {                    Plotly.newPlot(                        \"4ec6d556-b662-4116-b417-6630d528b8a6\",                        [{\"alignmentgroup\":\"True\",\"bingroup\":\"y\",\"histfunc\":\"sum\",\"hovertemplate\":\"REASONDESCRIPTION=Acute bronchitis (disorder)<br>sum of count=%{x}<br>DESCRIPTION=%{y}<extra></extra>\",\"legendgroup\":\"Acute bronchitis (disorder)\",\"marker\":{\"color\":\"#636efa\",\"pattern\":{\"shape\":\"\"}},\"name\":\"Acute bronchitis (disorder)\",\"offsetgroup\":\"Acute bronchitis (disorder)\",\"orientation\":\"h\",\"showlegend\":true,\"x\":[440,126],\"xaxis\":\"x\",\"y\":[\"Acetaminophen 325 MG Oral Tablet\",\"Acetaminophen 21.7 MG/ML / Dextromethorphan Hydrobromide 1 MG/ML / doxylamine succinate 0.417 MG/ML Oral Solution\"],\"yaxis\":\"y\",\"type\":\"histogram\"},{\"alignmentgroup\":\"True\",\"bingroup\":\"y\",\"histfunc\":\"sum\",\"hovertemplate\":\"REASONDESCRIPTION=Viral sinusitis (disorder)<br>sum of count=%{x}<br>DESCRIPTION=%{y}<extra></extra>\",\"legendgroup\":\"Viral sinusitis (disorder)\",\"marker\":{\"color\":\"#EF553B\",\"pattern\":{\"shape\":\"\"}},\"name\":\"Viral sinusitis (disorder)\",\"offsetgroup\":\"Viral sinusitis (disorder)\",\"orientation\":\"h\",\"showlegend\":true,\"x\":[247],\"xaxis\":\"x\",\"y\":[\"Amoxicillin 250 MG / Clavulanate 125 MG Oral Tablet\"],\"yaxis\":\"y\",\"type\":\"histogram\"},{\"alignmentgroup\":\"True\",\"bingroup\":\"y\",\"histfunc\":\"sum\",\"hovertemplate\":\"REASONDESCRIPTION=Acute viral pharyngitis (disorder)<br>sum of count=%{x}<br>DESCRIPTION=%{y}<extra></extra>\",\"legendgroup\":\"Acute viral pharyngitis (disorder)\",\"marker\":{\"color\":\"#00cc96\",\"pattern\":{\"shape\":\"\"}},\"name\":\"Acute viral pharyngitis (disorder)\",\"offsetgroup\":\"Acute viral pharyngitis (disorder)\",\"orientation\":\"h\",\"showlegend\":true,\"x\":[9],\"xaxis\":\"x\",\"y\":[\"Penicillin V Potassium 250 MG Oral Tablet\"],\"yaxis\":\"y\",\"type\":\"histogram\"}],                        {\"template\":{\"data\":{\"histogram2dcontour\":[{\"type\":\"histogram2dcontour\",\"colorbar\":{\"outlinewidth\":0,\"ticks\":\"\"},\"colorscale\":[[0.0,\"#0d0887\"],[0.1111111111111111,\"#46039f\"],[0.2222222222222222,\"#7201a8\"],[0.3333333333333333,\"#9c179e\"],[0.4444444444444444,\"#bd3786\"],[0.5555555555555556,\"#d8576b\"],[0.6666666666666666,\"#ed7953\"],[0.7777777777777778,\"#fb9f3a\"],[0.8888888888888888,\"#fdca26\"],[1.0,\"#f0f921\"]]}],\"choropleth\":[{\"type\":\"choropleth\",\"colorbar\":{\"outlinewidth\":0,\"ticks\":\"\"}}],\"histogram2d\":[{\"type\":\"histogram2d\",\"colorbar\":{\"outlinewidth\":0,\"ticks\":\"\"},\"colorscale\":[[0.0,\"#0d0887\"],[0.1111111111111111,\"#46039f\"],[0.2222222222222222,\"#7201a8\"],[0.3333333333333333,\"#9c179e\"],[0.4444444444444444,\"#bd3786\"],[0.5555555555555556,\"#d8576b\"],[0.6666666666666666,\"#ed7953\"],[0.7777777777777778,\"#fb9f3a\"],[0.8888888888888888,\"#fdca26\"],[1.0,\"#f0f921\"]]}],\"heatmap\":[{\"type\":\"heatmap\",\"colorbar\":{\"outlinewidth\":0,\"ticks\":\"\"},\"colorscale\":[[0.0,\"#0d0887\"],[0.1111111111111111,\"#46039f\"],[0.2222222222222222,\"#7201a8\"],[0.3333333333333333,\"#9c179e\"],[0.4444444444444444,\"#bd3786\"],[0.5555555555555556,\"#d8576b\"],[0.6666666666666666,\"#ed7953\"],[0.7777777777777778,\"#fb9f3a\"],[0.8888888888888888,\"#fdca26\"],[1.0,\"#f0f921\"]]}],\"heatmapgl\":[{\"type\":\"heatmapgl\",\"colorbar\":{\"outlinewidth\":0,\"ticks\":\"\"},\"colorscale\":[[0.0,\"#0d0887\"],[0.1111111111111111,\"#46039f\"],[0.2222222222222222,\"#7201a8\"],[0.3333333333333333,\"#9c179e\"],[0.4444444444444444,\"#bd3786\"],[0.5555555555555556,\"#d8576b\"],[0.6666666666666666,\"#ed7953\"],[0.7777777777777778,\"#fb9f3a\"],[0.8888888888888888,\"#fdca26\"],[1.0,\"#f0f921\"]]}],\"contourcarpet\":[{\"type\":\"contourcarpet\",\"colorbar\":{\"outlinewidth\":0,\"ticks\":\"\"}}],\"contour\":[{\"type\":\"contour\",\"colorbar\":{\"outlinewidth\":0,\"ticks\":\"\"},\"colorscale\":[[0.0,\"#0d0887\"],[0.1111111111111111,\"#46039f\"],[0.2222222222222222,\"#7201a8\"],[0.3333333333333333,\"#9c179e\"],[0.4444444444444444,\"#bd3786\"],[0.5555555555555556,\"#d8576b\"],[0.6666666666666666,\"#ed7953\"],[0.7777777777777778,\"#fb9f3a\"],[0.8888888888888888,\"#fdca26\"],[1.0,\"#f0f921\"]]}],\"surface\":[{\"type\":\"surface\",\"colorbar\":{\"outlinewidth\":0,\"ticks\":\"\"},\"colorscale\":[[0.0,\"#0d0887\"],[0.1111111111111111,\"#46039f\"],[0.2222222222222222,\"#7201a8\"],[0.3333333333333333,\"#9c179e\"],[0.4444444444444444,\"#bd3786\"],[0.5555555555555556,\"#d8576b\"],[0.6666666666666666,\"#ed7953\"],[0.7777777777777778,\"#fb9f3a\"],[0.8888888888888888,\"#fdca26\"],[1.0,\"#f0f921\"]]}],\"mesh3d\":[{\"type\":\"mesh3d\",\"colorbar\":{\"outlinewidth\":0,\"ticks\":\"\"}}],\"scatter\":[{\"fillpattern\":{\"fillmode\":\"overlay\",\"size\":10,\"solidity\":0.2},\"type\":\"scatter\"}],\"parcoords\":[{\"type\":\"parcoords\",\"line\":{\"colorbar\":{\"outlinewidth\":0,\"ticks\":\"\"}}}],\"scatterpolargl\":[{\"type\":\"scatterpolargl\",\"marker\":{\"colorbar\":{\"outlinewidth\":0,\"ticks\":\"\"}}}],\"bar\":[{\"error_x\":{\"color\":\"#2a3f5f\"},\"error_y\":{\"color\":\"#2a3f5f\"},\"marker\":{\"line\":{\"color\":\"#E5ECF6\",\"width\":0.5},\"pattern\":{\"fillmode\":\"overlay\",\"size\":10,\"solidity\":0.2}},\"type\":\"bar\"}],\"scattergeo\":[{\"type\":\"scattergeo\",\"marker\":{\"colorbar\":{\"outlinewidth\":0,\"ticks\":\"\"}}}],\"scatterpolar\":[{\"type\":\"scatterpolar\",\"marker\":{\"colorbar\":{\"outlinewidth\":0,\"ticks\":\"\"}}}],\"histogram\":[{\"marker\":{\"pattern\":{\"fillmode\":\"overlay\",\"size\":10,\"solidity\":0.2}},\"type\":\"histogram\"}],\"scattergl\":[{\"type\":\"scattergl\",\"marker\":{\"colorbar\":{\"outlinewidth\":0,\"ticks\":\"\"}}}],\"scatter3d\":[{\"type\":\"scatter3d\",\"line\":{\"colorbar\":{\"outlinewidth\":0,\"ticks\":\"\"}},\"marker\":{\"colorbar\":{\"outlinewidth\":0,\"ticks\":\"\"}}}],\"scattermapbox\":[{\"type\":\"scattermapbox\",\"marker\":{\"colorbar\":{\"outlinewidth\":0,\"ticks\":\"\"}}}],\"scatterternary\":[{\"type\":\"scatterternary\",\"marker\":{\"colorbar\":{\"outlinewidth\":0,\"ticks\":\"\"}}}],\"scattercarpet\":[{\"type\":\"scattercarpet\",\"marker\":{\"colorbar\":{\"outlinewidth\":0,\"ticks\":\"\"}}}],\"carpet\":[{\"aaxis\":{\"endlinecolor\":\"#2a3f5f\",\"gridcolor\":\"white\",\"linecolor\":\"white\",\"minorgridcolor\":\"white\",\"startlinecolor\":\"#2a3f5f\"},\"baxis\":{\"endlinecolor\":\"#2a3f5f\",\"gridcolor\":\"white\",\"linecolor\":\"white\",\"minorgridcolor\":\"white\",\"startlinecolor\":\"#2a3f5f\"},\"type\":\"carpet\"}],\"table\":[{\"cells\":{\"fill\":{\"color\":\"#EBF0F8\"},\"line\":{\"color\":\"white\"}},\"header\":{\"fill\":{\"color\":\"#C8D4E3\"},\"line\":{\"color\":\"white\"}},\"type\":\"table\"}],\"barpolar\":[{\"marker\":{\"line\":{\"color\":\"#E5ECF6\",\"width\":0.5},\"pattern\":{\"fillmode\":\"overlay\",\"size\":10,\"solidity\":0.2}},\"type\":\"barpolar\"}],\"pie\":[{\"automargin\":true,\"type\":\"pie\"}]},\"layout\":{\"autotypenumbers\":\"strict\",\"colorway\":[\"#636efa\",\"#EF553B\",\"#00cc96\",\"#ab63fa\",\"#FFA15A\",\"#19d3f3\",\"#FF6692\",\"#B6E880\",\"#FF97FF\",\"#FECB52\"],\"font\":{\"color\":\"#2a3f5f\"},\"hovermode\":\"closest\",\"hoverlabel\":{\"align\":\"left\"},\"paper_bgcolor\":\"white\",\"plot_bgcolor\":\"#E5ECF6\",\"polar\":{\"bgcolor\":\"#E5ECF6\",\"angularaxis\":{\"gridcolor\":\"white\",\"linecolor\":\"white\",\"ticks\":\"\"},\"radialaxis\":{\"gridcolor\":\"white\",\"linecolor\":\"white\",\"ticks\":\"\"}},\"ternary\":{\"bgcolor\":\"#E5ECF6\",\"aaxis\":{\"gridcolor\":\"white\",\"linecolor\":\"white\",\"ticks\":\"\"},\"baxis\":{\"gridcolor\":\"white\",\"linecolor\":\"white\",\"ticks\":\"\"},\"caxis\":{\"gridcolor\":\"white\",\"linecolor\":\"white\",\"ticks\":\"\"}},\"coloraxis\":{\"colorbar\":{\"outlinewidth\":0,\"ticks\":\"\"}},\"colorscale\":{\"sequential\":[[0.0,\"#0d0887\"],[0.1111111111111111,\"#46039f\"],[0.2222222222222222,\"#7201a8\"],[0.3333333333333333,\"#9c179e\"],[0.4444444444444444,\"#bd3786\"],[0.5555555555555556,\"#d8576b\"],[0.6666666666666666,\"#ed7953\"],[0.7777777777777778,\"#fb9f3a\"],[0.8888888888888888,\"#fdca26\"],[1.0,\"#f0f921\"]],\"sequentialminus\":[[0.0,\"#0d0887\"],[0.1111111111111111,\"#46039f\"],[0.2222222222222222,\"#7201a8\"],[0.3333333333333333,\"#9c179e\"],[0.4444444444444444,\"#bd3786\"],[0.5555555555555556,\"#d8576b\"],[0.6666666666666666,\"#ed7953\"],[0.7777777777777778,\"#fb9f3a\"],[0.8888888888888888,\"#fdca26\"],[1.0,\"#f0f921\"]],\"diverging\":[[0,\"#8e0152\"],[0.1,\"#c51b7d\"],[0.2,\"#de77ae\"],[0.3,\"#f1b6da\"],[0.4,\"#fde0ef\"],[0.5,\"#f7f7f7\"],[0.6,\"#e6f5d0\"],[0.7,\"#b8e186\"],[0.8,\"#7fbc41\"],[0.9,\"#4d9221\"],[1,\"#276419\"]]},\"xaxis\":{\"gridcolor\":\"white\",\"linecolor\":\"white\",\"ticks\":\"\",\"title\":{\"standoff\":15},\"zerolinecolor\":\"white\",\"automargin\":true,\"zerolinewidth\":2},\"yaxis\":{\"gridcolor\":\"white\",\"linecolor\":\"white\",\"ticks\":\"\",\"title\":{\"standoff\":15},\"zerolinecolor\":\"white\",\"automargin\":true,\"zerolinewidth\":2},\"scene\":{\"xaxis\":{\"backgroundcolor\":\"#E5ECF6\",\"gridcolor\":\"white\",\"linecolor\":\"white\",\"showbackground\":true,\"ticks\":\"\",\"zerolinecolor\":\"white\",\"gridwidth\":2},\"yaxis\":{\"backgroundcolor\":\"#E5ECF6\",\"gridcolor\":\"white\",\"linecolor\":\"white\",\"showbackground\":true,\"ticks\":\"\",\"zerolinecolor\":\"white\",\"gridwidth\":2},\"zaxis\":{\"backgroundcolor\":\"#E5ECF6\",\"gridcolor\":\"white\",\"linecolor\":\"white\",\"showbackground\":true,\"ticks\":\"\",\"zerolinecolor\":\"white\",\"gridwidth\":2}},\"shapedefaults\":{\"line\":{\"color\":\"#2a3f5f\"}},\"annotationdefaults\":{\"arrowcolor\":\"#2a3f5f\",\"arrowhead\":0,\"arrowwidth\":1},\"geo\":{\"bgcolor\":\"white\",\"landcolor\":\"#E5ECF6\",\"subunitcolor\":\"white\",\"showland\":true,\"showlakes\":true,\"lakecolor\":\"white\"},\"title\":{\"x\":0.05},\"mapbox\":{\"style\":\"light\"}}},\"xaxis\":{\"anchor\":\"y\",\"domain\":[0.0,1.0],\"title\":{\"text\":\"Count\"}},\"yaxis\":{\"anchor\":\"x\",\"domain\":[0.0,1.0],\"title\":{\"text\":\"DESCRIPTION\"},\"autorange\":\"reversed\"},\"legend\":{\"title\":{\"text\":\"REASONDESCRIPTION\"},\"tracegroupgap\":0},\"margin\":{\"t\":60},\"barmode\":\"relative\",\"title\":{\"text\":\"Medications for the three most common conditions\"}},                        {\"responsive\": true}                    ).then(function(){\n",
              "                            \n",
              "var gd = document.getElementById('4ec6d556-b662-4116-b417-6630d528b8a6');\n",
              "var x = new MutationObserver(function (mutations, observer) {{\n",
              "        var display = window.getComputedStyle(gd).display;\n",
              "        if (!display || display === 'none') {{\n",
              "            console.log([gd, 'removed!']);\n",
              "            Plotly.purge(gd);\n",
              "            observer.disconnect();\n",
              "        }}\n",
              "}});\n",
              "\n",
              "// Listen for the removal of the full notebook cells\n",
              "var notebookContainer = gd.closest('#notebook-container');\n",
              "if (notebookContainer) {{\n",
              "    x.observe(notebookContainer, {childList: true});\n",
              "}}\n",
              "\n",
              "// Listen for the clearing of the current output cell\n",
              "var outputEl = gd.closest('.output');\n",
              "if (outputEl) {{\n",
              "    x.observe(outputEl, {childList: true});\n",
              "}}\n",
              "\n",
              "                        })                };                });            </script>        </div>"
            ]
          },
          "metadata": {}
        }
      ]
    },
    {
      "cell_type": "markdown",
      "source": [
        "\n",
        "\n",
        "> From the graph, it can be seen that the three most common conditions are treated with different medications. So there are no similarities on how the three conditions are treated in terms of medications.\n",
        "\n"
      ],
      "metadata": {
        "id": "Y6jcNNqfQoKv"
      }
    },
    {
      "cell_type": "code",
      "source": [
        "###  How the three common conditions are treated in terms of procedures\n",
        "\n",
        "\n",
        "# Get rows that are related to the three common conditions\n",
        "procedures_df = procedures[procedures['REASONDESCRIPTION'].isin(list(conditions.DESCRIPTION.value_counts().index[:3]))]\n",
        "\n",
        "\n",
        "# Group by REASONDESCRIPTION and DESCRIPTION and then count\n",
        "procedures_agg = procedures_df.groupby( [\"REASONDESCRIPTION\", \"DESCRIPTION\"], as_index=False).agg( \n",
        "    count=pd.NamedAgg(column=\"DESCRIPTION\", aggfunc=\"count\"),\n",
        ").sort_values('count', ascending=False)\n",
        "\n",
        "procedures_agg.head()"
      ],
      "metadata": {
        "colab": {
          "base_uri": "https://localhost:8080/",
          "height": 175
        },
        "id": "YqUyvQYQI8zK",
        "outputId": "5a03cf0f-d400-4de0-ec12-43fb798a78e1"
      },
      "execution_count": 12,
      "outputs": [
        {
          "output_type": "execute_result",
          "data": {
            "text/plain": [
              "                    REASONDESCRIPTION  \\\n",
              "0         Acute bronchitis (disorder)   \n",
              "3  Acute viral pharyngitis (disorder)   \n",
              "2         Acute bronchitis (disorder)   \n",
              "1         Acute bronchitis (disorder)   \n",
              "\n",
              "                                       DESCRIPTION  count  \n",
              "0  Measurement of respiratory function (procedure)    288  \n",
              "3                       Throat culture (procedure)    241  \n",
              "2                   Sputum examination (procedure)    113  \n",
              "1                    Plain chest X-ray (procedure)     39  "
            ],
            "text/html": [
              "\n",
              "  <div id=\"df-3998eb4c-5873-480d-92ad-8014d97d5730\">\n",
              "    <div class=\"colab-df-container\">\n",
              "      <div>\n",
              "<style scoped>\n",
              "    .dataframe tbody tr th:only-of-type {\n",
              "        vertical-align: middle;\n",
              "    }\n",
              "\n",
              "    .dataframe tbody tr th {\n",
              "        vertical-align: top;\n",
              "    }\n",
              "\n",
              "    .dataframe thead th {\n",
              "        text-align: right;\n",
              "    }\n",
              "</style>\n",
              "<table border=\"1\" class=\"dataframe\">\n",
              "  <thead>\n",
              "    <tr style=\"text-align: right;\">\n",
              "      <th></th>\n",
              "      <th>REASONDESCRIPTION</th>\n",
              "      <th>DESCRIPTION</th>\n",
              "      <th>count</th>\n",
              "    </tr>\n",
              "  </thead>\n",
              "  <tbody>\n",
              "    <tr>\n",
              "      <th>0</th>\n",
              "      <td>Acute bronchitis (disorder)</td>\n",
              "      <td>Measurement of respiratory function (procedure)</td>\n",
              "      <td>288</td>\n",
              "    </tr>\n",
              "    <tr>\n",
              "      <th>3</th>\n",
              "      <td>Acute viral pharyngitis (disorder)</td>\n",
              "      <td>Throat culture (procedure)</td>\n",
              "      <td>241</td>\n",
              "    </tr>\n",
              "    <tr>\n",
              "      <th>2</th>\n",
              "      <td>Acute bronchitis (disorder)</td>\n",
              "      <td>Sputum examination (procedure)</td>\n",
              "      <td>113</td>\n",
              "    </tr>\n",
              "    <tr>\n",
              "      <th>1</th>\n",
              "      <td>Acute bronchitis (disorder)</td>\n",
              "      <td>Plain chest X-ray (procedure)</td>\n",
              "      <td>39</td>\n",
              "    </tr>\n",
              "  </tbody>\n",
              "</table>\n",
              "</div>\n",
              "      <button class=\"colab-df-convert\" onclick=\"convertToInteractive('df-3998eb4c-5873-480d-92ad-8014d97d5730')\"\n",
              "              title=\"Convert this dataframe to an interactive table.\"\n",
              "              style=\"display:none;\">\n",
              "        \n",
              "  <svg xmlns=\"http://www.w3.org/2000/svg\" height=\"24px\"viewBox=\"0 0 24 24\"\n",
              "       width=\"24px\">\n",
              "    <path d=\"M0 0h24v24H0V0z\" fill=\"none\"/>\n",
              "    <path d=\"M18.56 5.44l.94 2.06.94-2.06 2.06-.94-2.06-.94-.94-2.06-.94 2.06-2.06.94zm-11 1L8.5 8.5l.94-2.06 2.06-.94-2.06-.94L8.5 2.5l-.94 2.06-2.06.94zm10 10l.94 2.06.94-2.06 2.06-.94-2.06-.94-.94-2.06-.94 2.06-2.06.94z\"/><path d=\"M17.41 7.96l-1.37-1.37c-.4-.4-.92-.59-1.43-.59-.52 0-1.04.2-1.43.59L10.3 9.45l-7.72 7.72c-.78.78-.78 2.05 0 2.83L4 21.41c.39.39.9.59 1.41.59.51 0 1.02-.2 1.41-.59l7.78-7.78 2.81-2.81c.8-.78.8-2.07 0-2.86zM5.41 20L4 18.59l7.72-7.72 1.47 1.35L5.41 20z\"/>\n",
              "  </svg>\n",
              "      </button>\n",
              "      \n",
              "  <style>\n",
              "    .colab-df-container {\n",
              "      display:flex;\n",
              "      flex-wrap:wrap;\n",
              "      gap: 12px;\n",
              "    }\n",
              "\n",
              "    .colab-df-convert {\n",
              "      background-color: #E8F0FE;\n",
              "      border: none;\n",
              "      border-radius: 50%;\n",
              "      cursor: pointer;\n",
              "      display: none;\n",
              "      fill: #1967D2;\n",
              "      height: 32px;\n",
              "      padding: 0 0 0 0;\n",
              "      width: 32px;\n",
              "    }\n",
              "\n",
              "    .colab-df-convert:hover {\n",
              "      background-color: #E2EBFA;\n",
              "      box-shadow: 0px 1px 2px rgba(60, 64, 67, 0.3), 0px 1px 3px 1px rgba(60, 64, 67, 0.15);\n",
              "      fill: #174EA6;\n",
              "    }\n",
              "\n",
              "    [theme=dark] .colab-df-convert {\n",
              "      background-color: #3B4455;\n",
              "      fill: #D2E3FC;\n",
              "    }\n",
              "\n",
              "    [theme=dark] .colab-df-convert:hover {\n",
              "      background-color: #434B5C;\n",
              "      box-shadow: 0px 1px 3px 1px rgba(0, 0, 0, 0.15);\n",
              "      filter: drop-shadow(0px 1px 2px rgba(0, 0, 0, 0.3));\n",
              "      fill: #FFFFFF;\n",
              "    }\n",
              "  </style>\n",
              "\n",
              "      <script>\n",
              "        const buttonEl =\n",
              "          document.querySelector('#df-3998eb4c-5873-480d-92ad-8014d97d5730 button.colab-df-convert');\n",
              "        buttonEl.style.display =\n",
              "          google.colab.kernel.accessAllowed ? 'block' : 'none';\n",
              "\n",
              "        async function convertToInteractive(key) {\n",
              "          const element = document.querySelector('#df-3998eb4c-5873-480d-92ad-8014d97d5730');\n",
              "          const dataTable =\n",
              "            await google.colab.kernel.invokeFunction('convertToInteractive',\n",
              "                                                     [key], {});\n",
              "          if (!dataTable) return;\n",
              "\n",
              "          const docLinkHtml = 'Like what you see? Visit the ' +\n",
              "            '<a target=\"_blank\" href=https://colab.research.google.com/notebooks/data_table.ipynb>data table notebook</a>'\n",
              "            + ' to learn more about interactive tables.';\n",
              "          element.innerHTML = '';\n",
              "          dataTable['output_type'] = 'display_data';\n",
              "          await google.colab.output.renderOutput(dataTable, element);\n",
              "          const docLink = document.createElement('div');\n",
              "          docLink.innerHTML = docLinkHtml;\n",
              "          element.appendChild(docLink);\n",
              "        }\n",
              "      </script>\n",
              "    </div>\n",
              "  </div>\n",
              "  "
            ]
          },
          "metadata": {},
          "execution_count": 12
        }
      ]
    },
    {
      "cell_type": "code",
      "source": [
        "fig = px.histogram(procedures_agg, y=\"DESCRIPTION\", x=\"count\",color=\"REASONDESCRIPTION\")\n",
        "\n",
        "fig.update_layout(\n",
        "    title_text=\"Procedures for the three most common conditions\",\n",
        "    xaxis_title_text=\"Count\", # yaxis label\n",
        ")\n",
        "\n",
        "fig.update_yaxes(autorange=\"reversed\") # otherwise descriptions are listed from the bottom up\n",
        "\n",
        "fig.show(\"notebook_connected\")"
      ],
      "metadata": {
        "colab": {
          "base_uri": "https://localhost:8080/",
          "height": 542
        },
        "id": "shd5bgxIRko7",
        "outputId": "8bfd2509-9e66-40fd-fc75-7243d67ab891"
      },
      "execution_count": 13,
      "outputs": [
        {
          "output_type": "display_data",
          "data": {
            "text/html": [
              "        <script type=\"text/javascript\">\n",
              "        window.PlotlyConfig = {MathJaxConfig: 'local'};\n",
              "        if (window.MathJax && window.MathJax.Hub && window.MathJax.Hub.Config) {window.MathJax.Hub.Config({SVG: {font: \"STIX-Web\"}});}\n",
              "        if (typeof require !== 'undefined') {\n",
              "        require.undef(\"plotly\");\n",
              "        requirejs.config({\n",
              "            paths: {\n",
              "                'plotly': ['https://cdn.plot.ly/plotly-2.18.2.min']\n",
              "            }\n",
              "        });\n",
              "        require(['plotly'], function(Plotly) {\n",
              "            window._Plotly = Plotly;\n",
              "        });\n",
              "        }\n",
              "        </script>\n",
              "        "
            ]
          },
          "metadata": {}
        },
        {
          "output_type": "display_data",
          "data": {
            "text/html": [
              "<div>                            <div id=\"12ded1d0-2b6b-4826-8981-86c03e4b229e\" class=\"plotly-graph-div\" style=\"height:525px; width:100%;\"></div>            <script type=\"text/javascript\">                require([\"plotly\"], function(Plotly) {                    window.PLOTLYENV=window.PLOTLYENV || {};                                    if (document.getElementById(\"12ded1d0-2b6b-4826-8981-86c03e4b229e\")) {                    Plotly.newPlot(                        \"12ded1d0-2b6b-4826-8981-86c03e4b229e\",                        [{\"alignmentgroup\":\"True\",\"bingroup\":\"y\",\"histfunc\":\"sum\",\"hovertemplate\":\"REASONDESCRIPTION=Acute bronchitis (disorder)<br>sum of count=%{x}<br>DESCRIPTION=%{y}<extra></extra>\",\"legendgroup\":\"Acute bronchitis (disorder)\",\"marker\":{\"color\":\"#636efa\",\"pattern\":{\"shape\":\"\"}},\"name\":\"Acute bronchitis (disorder)\",\"offsetgroup\":\"Acute bronchitis (disorder)\",\"orientation\":\"h\",\"showlegend\":true,\"x\":[288,113,39],\"xaxis\":\"x\",\"y\":[\"Measurement of respiratory function (procedure)\",\"Sputum examination (procedure)\",\"Plain chest X-ray (procedure)\"],\"yaxis\":\"y\",\"type\":\"histogram\"},{\"alignmentgroup\":\"True\",\"bingroup\":\"y\",\"histfunc\":\"sum\",\"hovertemplate\":\"REASONDESCRIPTION=Acute viral pharyngitis (disorder)<br>sum of count=%{x}<br>DESCRIPTION=%{y}<extra></extra>\",\"legendgroup\":\"Acute viral pharyngitis (disorder)\",\"marker\":{\"color\":\"#EF553B\",\"pattern\":{\"shape\":\"\"}},\"name\":\"Acute viral pharyngitis (disorder)\",\"offsetgroup\":\"Acute viral pharyngitis (disorder)\",\"orientation\":\"h\",\"showlegend\":true,\"x\":[241],\"xaxis\":\"x\",\"y\":[\"Throat culture (procedure)\"],\"yaxis\":\"y\",\"type\":\"histogram\"}],                        {\"template\":{\"data\":{\"histogram2dcontour\":[{\"type\":\"histogram2dcontour\",\"colorbar\":{\"outlinewidth\":0,\"ticks\":\"\"},\"colorscale\":[[0.0,\"#0d0887\"],[0.1111111111111111,\"#46039f\"],[0.2222222222222222,\"#7201a8\"],[0.3333333333333333,\"#9c179e\"],[0.4444444444444444,\"#bd3786\"],[0.5555555555555556,\"#d8576b\"],[0.6666666666666666,\"#ed7953\"],[0.7777777777777778,\"#fb9f3a\"],[0.8888888888888888,\"#fdca26\"],[1.0,\"#f0f921\"]]}],\"choropleth\":[{\"type\":\"choropleth\",\"colorbar\":{\"outlinewidth\":0,\"ticks\":\"\"}}],\"histogram2d\":[{\"type\":\"histogram2d\",\"colorbar\":{\"outlinewidth\":0,\"ticks\":\"\"},\"colorscale\":[[0.0,\"#0d0887\"],[0.1111111111111111,\"#46039f\"],[0.2222222222222222,\"#7201a8\"],[0.3333333333333333,\"#9c179e\"],[0.4444444444444444,\"#bd3786\"],[0.5555555555555556,\"#d8576b\"],[0.6666666666666666,\"#ed7953\"],[0.7777777777777778,\"#fb9f3a\"],[0.8888888888888888,\"#fdca26\"],[1.0,\"#f0f921\"]]}],\"heatmap\":[{\"type\":\"heatmap\",\"colorbar\":{\"outlinewidth\":0,\"ticks\":\"\"},\"colorscale\":[[0.0,\"#0d0887\"],[0.1111111111111111,\"#46039f\"],[0.2222222222222222,\"#7201a8\"],[0.3333333333333333,\"#9c179e\"],[0.4444444444444444,\"#bd3786\"],[0.5555555555555556,\"#d8576b\"],[0.6666666666666666,\"#ed7953\"],[0.7777777777777778,\"#fb9f3a\"],[0.8888888888888888,\"#fdca26\"],[1.0,\"#f0f921\"]]}],\"heatmapgl\":[{\"type\":\"heatmapgl\",\"colorbar\":{\"outlinewidth\":0,\"ticks\":\"\"},\"colorscale\":[[0.0,\"#0d0887\"],[0.1111111111111111,\"#46039f\"],[0.2222222222222222,\"#7201a8\"],[0.3333333333333333,\"#9c179e\"],[0.4444444444444444,\"#bd3786\"],[0.5555555555555556,\"#d8576b\"],[0.6666666666666666,\"#ed7953\"],[0.7777777777777778,\"#fb9f3a\"],[0.8888888888888888,\"#fdca26\"],[1.0,\"#f0f921\"]]}],\"contourcarpet\":[{\"type\":\"contourcarpet\",\"colorbar\":{\"outlinewidth\":0,\"ticks\":\"\"}}],\"contour\":[{\"type\":\"contour\",\"colorbar\":{\"outlinewidth\":0,\"ticks\":\"\"},\"colorscale\":[[0.0,\"#0d0887\"],[0.1111111111111111,\"#46039f\"],[0.2222222222222222,\"#7201a8\"],[0.3333333333333333,\"#9c179e\"],[0.4444444444444444,\"#bd3786\"],[0.5555555555555556,\"#d8576b\"],[0.6666666666666666,\"#ed7953\"],[0.7777777777777778,\"#fb9f3a\"],[0.8888888888888888,\"#fdca26\"],[1.0,\"#f0f921\"]]}],\"surface\":[{\"type\":\"surface\",\"colorbar\":{\"outlinewidth\":0,\"ticks\":\"\"},\"colorscale\":[[0.0,\"#0d0887\"],[0.1111111111111111,\"#46039f\"],[0.2222222222222222,\"#7201a8\"],[0.3333333333333333,\"#9c179e\"],[0.4444444444444444,\"#bd3786\"],[0.5555555555555556,\"#d8576b\"],[0.6666666666666666,\"#ed7953\"],[0.7777777777777778,\"#fb9f3a\"],[0.8888888888888888,\"#fdca26\"],[1.0,\"#f0f921\"]]}],\"mesh3d\":[{\"type\":\"mesh3d\",\"colorbar\":{\"outlinewidth\":0,\"ticks\":\"\"}}],\"scatter\":[{\"fillpattern\":{\"fillmode\":\"overlay\",\"size\":10,\"solidity\":0.2},\"type\":\"scatter\"}],\"parcoords\":[{\"type\":\"parcoords\",\"line\":{\"colorbar\":{\"outlinewidth\":0,\"ticks\":\"\"}}}],\"scatterpolargl\":[{\"type\":\"scatterpolargl\",\"marker\":{\"colorbar\":{\"outlinewidth\":0,\"ticks\":\"\"}}}],\"bar\":[{\"error_x\":{\"color\":\"#2a3f5f\"},\"error_y\":{\"color\":\"#2a3f5f\"},\"marker\":{\"line\":{\"color\":\"#E5ECF6\",\"width\":0.5},\"pattern\":{\"fillmode\":\"overlay\",\"size\":10,\"solidity\":0.2}},\"type\":\"bar\"}],\"scattergeo\":[{\"type\":\"scattergeo\",\"marker\":{\"colorbar\":{\"outlinewidth\":0,\"ticks\":\"\"}}}],\"scatterpolar\":[{\"type\":\"scatterpolar\",\"marker\":{\"colorbar\":{\"outlinewidth\":0,\"ticks\":\"\"}}}],\"histogram\":[{\"marker\":{\"pattern\":{\"fillmode\":\"overlay\",\"size\":10,\"solidity\":0.2}},\"type\":\"histogram\"}],\"scattergl\":[{\"type\":\"scattergl\",\"marker\":{\"colorbar\":{\"outlinewidth\":0,\"ticks\":\"\"}}}],\"scatter3d\":[{\"type\":\"scatter3d\",\"line\":{\"colorbar\":{\"outlinewidth\":0,\"ticks\":\"\"}},\"marker\":{\"colorbar\":{\"outlinewidth\":0,\"ticks\":\"\"}}}],\"scattermapbox\":[{\"type\":\"scattermapbox\",\"marker\":{\"colorbar\":{\"outlinewidth\":0,\"ticks\":\"\"}}}],\"scatterternary\":[{\"type\":\"scatterternary\",\"marker\":{\"colorbar\":{\"outlinewidth\":0,\"ticks\":\"\"}}}],\"scattercarpet\":[{\"type\":\"scattercarpet\",\"marker\":{\"colorbar\":{\"outlinewidth\":0,\"ticks\":\"\"}}}],\"carpet\":[{\"aaxis\":{\"endlinecolor\":\"#2a3f5f\",\"gridcolor\":\"white\",\"linecolor\":\"white\",\"minorgridcolor\":\"white\",\"startlinecolor\":\"#2a3f5f\"},\"baxis\":{\"endlinecolor\":\"#2a3f5f\",\"gridcolor\":\"white\",\"linecolor\":\"white\",\"minorgridcolor\":\"white\",\"startlinecolor\":\"#2a3f5f\"},\"type\":\"carpet\"}],\"table\":[{\"cells\":{\"fill\":{\"color\":\"#EBF0F8\"},\"line\":{\"color\":\"white\"}},\"header\":{\"fill\":{\"color\":\"#C8D4E3\"},\"line\":{\"color\":\"white\"}},\"type\":\"table\"}],\"barpolar\":[{\"marker\":{\"line\":{\"color\":\"#E5ECF6\",\"width\":0.5},\"pattern\":{\"fillmode\":\"overlay\",\"size\":10,\"solidity\":0.2}},\"type\":\"barpolar\"}],\"pie\":[{\"automargin\":true,\"type\":\"pie\"}]},\"layout\":{\"autotypenumbers\":\"strict\",\"colorway\":[\"#636efa\",\"#EF553B\",\"#00cc96\",\"#ab63fa\",\"#FFA15A\",\"#19d3f3\",\"#FF6692\",\"#B6E880\",\"#FF97FF\",\"#FECB52\"],\"font\":{\"color\":\"#2a3f5f\"},\"hovermode\":\"closest\",\"hoverlabel\":{\"align\":\"left\"},\"paper_bgcolor\":\"white\",\"plot_bgcolor\":\"#E5ECF6\",\"polar\":{\"bgcolor\":\"#E5ECF6\",\"angularaxis\":{\"gridcolor\":\"white\",\"linecolor\":\"white\",\"ticks\":\"\"},\"radialaxis\":{\"gridcolor\":\"white\",\"linecolor\":\"white\",\"ticks\":\"\"}},\"ternary\":{\"bgcolor\":\"#E5ECF6\",\"aaxis\":{\"gridcolor\":\"white\",\"linecolor\":\"white\",\"ticks\":\"\"},\"baxis\":{\"gridcolor\":\"white\",\"linecolor\":\"white\",\"ticks\":\"\"},\"caxis\":{\"gridcolor\":\"white\",\"linecolor\":\"white\",\"ticks\":\"\"}},\"coloraxis\":{\"colorbar\":{\"outlinewidth\":0,\"ticks\":\"\"}},\"colorscale\":{\"sequential\":[[0.0,\"#0d0887\"],[0.1111111111111111,\"#46039f\"],[0.2222222222222222,\"#7201a8\"],[0.3333333333333333,\"#9c179e\"],[0.4444444444444444,\"#bd3786\"],[0.5555555555555556,\"#d8576b\"],[0.6666666666666666,\"#ed7953\"],[0.7777777777777778,\"#fb9f3a\"],[0.8888888888888888,\"#fdca26\"],[1.0,\"#f0f921\"]],\"sequentialminus\":[[0.0,\"#0d0887\"],[0.1111111111111111,\"#46039f\"],[0.2222222222222222,\"#7201a8\"],[0.3333333333333333,\"#9c179e\"],[0.4444444444444444,\"#bd3786\"],[0.5555555555555556,\"#d8576b\"],[0.6666666666666666,\"#ed7953\"],[0.7777777777777778,\"#fb9f3a\"],[0.8888888888888888,\"#fdca26\"],[1.0,\"#f0f921\"]],\"diverging\":[[0,\"#8e0152\"],[0.1,\"#c51b7d\"],[0.2,\"#de77ae\"],[0.3,\"#f1b6da\"],[0.4,\"#fde0ef\"],[0.5,\"#f7f7f7\"],[0.6,\"#e6f5d0\"],[0.7,\"#b8e186\"],[0.8,\"#7fbc41\"],[0.9,\"#4d9221\"],[1,\"#276419\"]]},\"xaxis\":{\"gridcolor\":\"white\",\"linecolor\":\"white\",\"ticks\":\"\",\"title\":{\"standoff\":15},\"zerolinecolor\":\"white\",\"automargin\":true,\"zerolinewidth\":2},\"yaxis\":{\"gridcolor\":\"white\",\"linecolor\":\"white\",\"ticks\":\"\",\"title\":{\"standoff\":15},\"zerolinecolor\":\"white\",\"automargin\":true,\"zerolinewidth\":2},\"scene\":{\"xaxis\":{\"backgroundcolor\":\"#E5ECF6\",\"gridcolor\":\"white\",\"linecolor\":\"white\",\"showbackground\":true,\"ticks\":\"\",\"zerolinecolor\":\"white\",\"gridwidth\":2},\"yaxis\":{\"backgroundcolor\":\"#E5ECF6\",\"gridcolor\":\"white\",\"linecolor\":\"white\",\"showbackground\":true,\"ticks\":\"\",\"zerolinecolor\":\"white\",\"gridwidth\":2},\"zaxis\":{\"backgroundcolor\":\"#E5ECF6\",\"gridcolor\":\"white\",\"linecolor\":\"white\",\"showbackground\":true,\"ticks\":\"\",\"zerolinecolor\":\"white\",\"gridwidth\":2}},\"shapedefaults\":{\"line\":{\"color\":\"#2a3f5f\"}},\"annotationdefaults\":{\"arrowcolor\":\"#2a3f5f\",\"arrowhead\":0,\"arrowwidth\":1},\"geo\":{\"bgcolor\":\"white\",\"landcolor\":\"#E5ECF6\",\"subunitcolor\":\"white\",\"showland\":true,\"showlakes\":true,\"lakecolor\":\"white\"},\"title\":{\"x\":0.05},\"mapbox\":{\"style\":\"light\"}}},\"xaxis\":{\"anchor\":\"y\",\"domain\":[0.0,1.0],\"title\":{\"text\":\"Count\"}},\"yaxis\":{\"anchor\":\"x\",\"domain\":[0.0,1.0],\"title\":{\"text\":\"DESCRIPTION\"},\"autorange\":\"reversed\"},\"legend\":{\"title\":{\"text\":\"REASONDESCRIPTION\"},\"tracegroupgap\":0},\"margin\":{\"t\":60},\"barmode\":\"relative\",\"title\":{\"text\":\"Procedures for the three most common conditions\"}},                        {\"responsive\": true}                    ).then(function(){\n",
              "                            \n",
              "var gd = document.getElementById('12ded1d0-2b6b-4826-8981-86c03e4b229e');\n",
              "var x = new MutationObserver(function (mutations, observer) {{\n",
              "        var display = window.getComputedStyle(gd).display;\n",
              "        if (!display || display === 'none') {{\n",
              "            console.log([gd, 'removed!']);\n",
              "            Plotly.purge(gd);\n",
              "            observer.disconnect();\n",
              "        }}\n",
              "}});\n",
              "\n",
              "// Listen for the removal of the full notebook cells\n",
              "var notebookContainer = gd.closest('#notebook-container');\n",
              "if (notebookContainer) {{\n",
              "    x.observe(notebookContainer, {childList: true});\n",
              "}}\n",
              "\n",
              "// Listen for the clearing of the current output cell\n",
              "var outputEl = gd.closest('.output');\n",
              "if (outputEl) {{\n",
              "    x.observe(outputEl, {childList: true});\n",
              "}}\n",
              "\n",
              "                        })                };                });            </script>        </div>"
            ]
          },
          "metadata": {}
        }
      ]
    },
    {
      "cell_type": "markdown",
      "source": [
        "> From the graph, it can be seen that the two most common conditions are treated with different procedures. There are no procedures for one of the common conditions (Viral sinusitis). So there are no similarities on how the three conditions are treated in terms of procedures."
      ],
      "metadata": {
        "id": "JQo3nlOIS4s1"
      }
    },
    {
      "cell_type": "code",
      "source": [
        "###  How the three common conditions are treated in terms of careplans\n",
        "\n",
        "\n",
        "# Get rows that are related to the three common conditions\n",
        "careplans_df = careplans[careplans['REASONDESCRIPTION'].isin(list(conditions.DESCRIPTION.value_counts().index[:3]))]\n",
        "\n",
        "\n",
        "# Group by REASONDESCRIPTION and DESCRIPTION and then count\n",
        "careplans_agg = careplans_df.groupby( [\"REASONDESCRIPTION\", \"DESCRIPTION\"], as_index=False).agg( \n",
        "    count=pd.NamedAgg(column=\"DESCRIPTION\", aggfunc=\"count\"),\n",
        ").sort_values('count', ascending=False)\n",
        "\n",
        "careplans_agg.head()"
      ],
      "metadata": {
        "colab": {
          "base_uri": "https://localhost:8080/",
          "height": 81
        },
        "id": "7W0qrY1xJhaz",
        "outputId": "5af8b74e-ba6b-4b60-8d68-bb812800160a"
      },
      "execution_count": 14,
      "outputs": [
        {
          "output_type": "execute_result",
          "data": {
            "text/plain": [
              "             REASONDESCRIPTION          DESCRIPTION  count\n",
              "0  Acute bronchitis (disorder)  Respiratory therapy    633"
            ],
            "text/html": [
              "\n",
              "  <div id=\"df-66d853b5-5f44-4576-98f9-36dd891dc12e\">\n",
              "    <div class=\"colab-df-container\">\n",
              "      <div>\n",
              "<style scoped>\n",
              "    .dataframe tbody tr th:only-of-type {\n",
              "        vertical-align: middle;\n",
              "    }\n",
              "\n",
              "    .dataframe tbody tr th {\n",
              "        vertical-align: top;\n",
              "    }\n",
              "\n",
              "    .dataframe thead th {\n",
              "        text-align: right;\n",
              "    }\n",
              "</style>\n",
              "<table border=\"1\" class=\"dataframe\">\n",
              "  <thead>\n",
              "    <tr style=\"text-align: right;\">\n",
              "      <th></th>\n",
              "      <th>REASONDESCRIPTION</th>\n",
              "      <th>DESCRIPTION</th>\n",
              "      <th>count</th>\n",
              "    </tr>\n",
              "  </thead>\n",
              "  <tbody>\n",
              "    <tr>\n",
              "      <th>0</th>\n",
              "      <td>Acute bronchitis (disorder)</td>\n",
              "      <td>Respiratory therapy</td>\n",
              "      <td>633</td>\n",
              "    </tr>\n",
              "  </tbody>\n",
              "</table>\n",
              "</div>\n",
              "      <button class=\"colab-df-convert\" onclick=\"convertToInteractive('df-66d853b5-5f44-4576-98f9-36dd891dc12e')\"\n",
              "              title=\"Convert this dataframe to an interactive table.\"\n",
              "              style=\"display:none;\">\n",
              "        \n",
              "  <svg xmlns=\"http://www.w3.org/2000/svg\" height=\"24px\"viewBox=\"0 0 24 24\"\n",
              "       width=\"24px\">\n",
              "    <path d=\"M0 0h24v24H0V0z\" fill=\"none\"/>\n",
              "    <path d=\"M18.56 5.44l.94 2.06.94-2.06 2.06-.94-2.06-.94-.94-2.06-.94 2.06-2.06.94zm-11 1L8.5 8.5l.94-2.06 2.06-.94-2.06-.94L8.5 2.5l-.94 2.06-2.06.94zm10 10l.94 2.06.94-2.06 2.06-.94-2.06-.94-.94-2.06-.94 2.06-2.06.94z\"/><path d=\"M17.41 7.96l-1.37-1.37c-.4-.4-.92-.59-1.43-.59-.52 0-1.04.2-1.43.59L10.3 9.45l-7.72 7.72c-.78.78-.78 2.05 0 2.83L4 21.41c.39.39.9.59 1.41.59.51 0 1.02-.2 1.41-.59l7.78-7.78 2.81-2.81c.8-.78.8-2.07 0-2.86zM5.41 20L4 18.59l7.72-7.72 1.47 1.35L5.41 20z\"/>\n",
              "  </svg>\n",
              "      </button>\n",
              "      \n",
              "  <style>\n",
              "    .colab-df-container {\n",
              "      display:flex;\n",
              "      flex-wrap:wrap;\n",
              "      gap: 12px;\n",
              "    }\n",
              "\n",
              "    .colab-df-convert {\n",
              "      background-color: #E8F0FE;\n",
              "      border: none;\n",
              "      border-radius: 50%;\n",
              "      cursor: pointer;\n",
              "      display: none;\n",
              "      fill: #1967D2;\n",
              "      height: 32px;\n",
              "      padding: 0 0 0 0;\n",
              "      width: 32px;\n",
              "    }\n",
              "\n",
              "    .colab-df-convert:hover {\n",
              "      background-color: #E2EBFA;\n",
              "      box-shadow: 0px 1px 2px rgba(60, 64, 67, 0.3), 0px 1px 3px 1px rgba(60, 64, 67, 0.15);\n",
              "      fill: #174EA6;\n",
              "    }\n",
              "\n",
              "    [theme=dark] .colab-df-convert {\n",
              "      background-color: #3B4455;\n",
              "      fill: #D2E3FC;\n",
              "    }\n",
              "\n",
              "    [theme=dark] .colab-df-convert:hover {\n",
              "      background-color: #434B5C;\n",
              "      box-shadow: 0px 1px 3px 1px rgba(0, 0, 0, 0.15);\n",
              "      filter: drop-shadow(0px 1px 2px rgba(0, 0, 0, 0.3));\n",
              "      fill: #FFFFFF;\n",
              "    }\n",
              "  </style>\n",
              "\n",
              "      <script>\n",
              "        const buttonEl =\n",
              "          document.querySelector('#df-66d853b5-5f44-4576-98f9-36dd891dc12e button.colab-df-convert');\n",
              "        buttonEl.style.display =\n",
              "          google.colab.kernel.accessAllowed ? 'block' : 'none';\n",
              "\n",
              "        async function convertToInteractive(key) {\n",
              "          const element = document.querySelector('#df-66d853b5-5f44-4576-98f9-36dd891dc12e');\n",
              "          const dataTable =\n",
              "            await google.colab.kernel.invokeFunction('convertToInteractive',\n",
              "                                                     [key], {});\n",
              "          if (!dataTable) return;\n",
              "\n",
              "          const docLinkHtml = 'Like what you see? Visit the ' +\n",
              "            '<a target=\"_blank\" href=https://colab.research.google.com/notebooks/data_table.ipynb>data table notebook</a>'\n",
              "            + ' to learn more about interactive tables.';\n",
              "          element.innerHTML = '';\n",
              "          dataTable['output_type'] = 'display_data';\n",
              "          await google.colab.output.renderOutput(dataTable, element);\n",
              "          const docLink = document.createElement('div');\n",
              "          docLink.innerHTML = docLinkHtml;\n",
              "          element.appendChild(docLink);\n",
              "        }\n",
              "      </script>\n",
              "    </div>\n",
              "  </div>\n",
              "  "
            ]
          },
          "metadata": {},
          "execution_count": 14
        }
      ]
    },
    {
      "cell_type": "code",
      "source": [
        "fig = px.histogram(careplans_agg, y=\"DESCRIPTION\", x=\"count\",color=\"REASONDESCRIPTION\")\n",
        "\n",
        "fig.update_layout(\n",
        "    title_text=\"Careplans for the three most common conditions\",\n",
        "    xaxis_title_text=\"Count\", # yaxis label\n",
        ")\n",
        "\n",
        "fig.update_yaxes(autorange=\"reversed\") # otherwise descriptions are listed from the bottom up\n",
        "\n",
        "fig.show(\"notebook_connected\")"
      ],
      "metadata": {
        "colab": {
          "base_uri": "https://localhost:8080/",
          "height": 542
        },
        "id": "QmNwycHBT9N3",
        "outputId": "09533abf-f8aa-48f9-e2c7-a6ed7f37013b"
      },
      "execution_count": 15,
      "outputs": [
        {
          "output_type": "display_data",
          "data": {
            "text/html": [
              "        <script type=\"text/javascript\">\n",
              "        window.PlotlyConfig = {MathJaxConfig: 'local'};\n",
              "        if (window.MathJax && window.MathJax.Hub && window.MathJax.Hub.Config) {window.MathJax.Hub.Config({SVG: {font: \"STIX-Web\"}});}\n",
              "        if (typeof require !== 'undefined') {\n",
              "        require.undef(\"plotly\");\n",
              "        requirejs.config({\n",
              "            paths: {\n",
              "                'plotly': ['https://cdn.plot.ly/plotly-2.18.2.min']\n",
              "            }\n",
              "        });\n",
              "        require(['plotly'], function(Plotly) {\n",
              "            window._Plotly = Plotly;\n",
              "        });\n",
              "        }\n",
              "        </script>\n",
              "        "
            ]
          },
          "metadata": {}
        },
        {
          "output_type": "display_data",
          "data": {
            "text/html": [
              "<div>                            <div id=\"7ee9a037-2cb4-43d7-ae1d-34ad9b3fefd1\" class=\"plotly-graph-div\" style=\"height:525px; width:100%;\"></div>            <script type=\"text/javascript\">                require([\"plotly\"], function(Plotly) {                    window.PLOTLYENV=window.PLOTLYENV || {};                                    if (document.getElementById(\"7ee9a037-2cb4-43d7-ae1d-34ad9b3fefd1\")) {                    Plotly.newPlot(                        \"7ee9a037-2cb4-43d7-ae1d-34ad9b3fefd1\",                        [{\"alignmentgroup\":\"True\",\"bingroup\":\"y\",\"histfunc\":\"sum\",\"hovertemplate\":\"REASONDESCRIPTION=Acute bronchitis (disorder)<br>sum of count=%{x}<br>DESCRIPTION=%{y}<extra></extra>\",\"legendgroup\":\"Acute bronchitis (disorder)\",\"marker\":{\"color\":\"#636efa\",\"pattern\":{\"shape\":\"\"}},\"name\":\"Acute bronchitis (disorder)\",\"offsetgroup\":\"Acute bronchitis (disorder)\",\"orientation\":\"h\",\"showlegend\":true,\"x\":[633],\"xaxis\":\"x\",\"y\":[\"Respiratory therapy\"],\"yaxis\":\"y\",\"type\":\"histogram\"}],                        {\"template\":{\"data\":{\"histogram2dcontour\":[{\"type\":\"histogram2dcontour\",\"colorbar\":{\"outlinewidth\":0,\"ticks\":\"\"},\"colorscale\":[[0.0,\"#0d0887\"],[0.1111111111111111,\"#46039f\"],[0.2222222222222222,\"#7201a8\"],[0.3333333333333333,\"#9c179e\"],[0.4444444444444444,\"#bd3786\"],[0.5555555555555556,\"#d8576b\"],[0.6666666666666666,\"#ed7953\"],[0.7777777777777778,\"#fb9f3a\"],[0.8888888888888888,\"#fdca26\"],[1.0,\"#f0f921\"]]}],\"choropleth\":[{\"type\":\"choropleth\",\"colorbar\":{\"outlinewidth\":0,\"ticks\":\"\"}}],\"histogram2d\":[{\"type\":\"histogram2d\",\"colorbar\":{\"outlinewidth\":0,\"ticks\":\"\"},\"colorscale\":[[0.0,\"#0d0887\"],[0.1111111111111111,\"#46039f\"],[0.2222222222222222,\"#7201a8\"],[0.3333333333333333,\"#9c179e\"],[0.4444444444444444,\"#bd3786\"],[0.5555555555555556,\"#d8576b\"],[0.6666666666666666,\"#ed7953\"],[0.7777777777777778,\"#fb9f3a\"],[0.8888888888888888,\"#fdca26\"],[1.0,\"#f0f921\"]]}],\"heatmap\":[{\"type\":\"heatmap\",\"colorbar\":{\"outlinewidth\":0,\"ticks\":\"\"},\"colorscale\":[[0.0,\"#0d0887\"],[0.1111111111111111,\"#46039f\"],[0.2222222222222222,\"#7201a8\"],[0.3333333333333333,\"#9c179e\"],[0.4444444444444444,\"#bd3786\"],[0.5555555555555556,\"#d8576b\"],[0.6666666666666666,\"#ed7953\"],[0.7777777777777778,\"#fb9f3a\"],[0.8888888888888888,\"#fdca26\"],[1.0,\"#f0f921\"]]}],\"heatmapgl\":[{\"type\":\"heatmapgl\",\"colorbar\":{\"outlinewidth\":0,\"ticks\":\"\"},\"colorscale\":[[0.0,\"#0d0887\"],[0.1111111111111111,\"#46039f\"],[0.2222222222222222,\"#7201a8\"],[0.3333333333333333,\"#9c179e\"],[0.4444444444444444,\"#bd3786\"],[0.5555555555555556,\"#d8576b\"],[0.6666666666666666,\"#ed7953\"],[0.7777777777777778,\"#fb9f3a\"],[0.8888888888888888,\"#fdca26\"],[1.0,\"#f0f921\"]]}],\"contourcarpet\":[{\"type\":\"contourcarpet\",\"colorbar\":{\"outlinewidth\":0,\"ticks\":\"\"}}],\"contour\":[{\"type\":\"contour\",\"colorbar\":{\"outlinewidth\":0,\"ticks\":\"\"},\"colorscale\":[[0.0,\"#0d0887\"],[0.1111111111111111,\"#46039f\"],[0.2222222222222222,\"#7201a8\"],[0.3333333333333333,\"#9c179e\"],[0.4444444444444444,\"#bd3786\"],[0.5555555555555556,\"#d8576b\"],[0.6666666666666666,\"#ed7953\"],[0.7777777777777778,\"#fb9f3a\"],[0.8888888888888888,\"#fdca26\"],[1.0,\"#f0f921\"]]}],\"surface\":[{\"type\":\"surface\",\"colorbar\":{\"outlinewidth\":0,\"ticks\":\"\"},\"colorscale\":[[0.0,\"#0d0887\"],[0.1111111111111111,\"#46039f\"],[0.2222222222222222,\"#7201a8\"],[0.3333333333333333,\"#9c179e\"],[0.4444444444444444,\"#bd3786\"],[0.5555555555555556,\"#d8576b\"],[0.6666666666666666,\"#ed7953\"],[0.7777777777777778,\"#fb9f3a\"],[0.8888888888888888,\"#fdca26\"],[1.0,\"#f0f921\"]]}],\"mesh3d\":[{\"type\":\"mesh3d\",\"colorbar\":{\"outlinewidth\":0,\"ticks\":\"\"}}],\"scatter\":[{\"fillpattern\":{\"fillmode\":\"overlay\",\"size\":10,\"solidity\":0.2},\"type\":\"scatter\"}],\"parcoords\":[{\"type\":\"parcoords\",\"line\":{\"colorbar\":{\"outlinewidth\":0,\"ticks\":\"\"}}}],\"scatterpolargl\":[{\"type\":\"scatterpolargl\",\"marker\":{\"colorbar\":{\"outlinewidth\":0,\"ticks\":\"\"}}}],\"bar\":[{\"error_x\":{\"color\":\"#2a3f5f\"},\"error_y\":{\"color\":\"#2a3f5f\"},\"marker\":{\"line\":{\"color\":\"#E5ECF6\",\"width\":0.5},\"pattern\":{\"fillmode\":\"overlay\",\"size\":10,\"solidity\":0.2}},\"type\":\"bar\"}],\"scattergeo\":[{\"type\":\"scattergeo\",\"marker\":{\"colorbar\":{\"outlinewidth\":0,\"ticks\":\"\"}}}],\"scatterpolar\":[{\"type\":\"scatterpolar\",\"marker\":{\"colorbar\":{\"outlinewidth\":0,\"ticks\":\"\"}}}],\"histogram\":[{\"marker\":{\"pattern\":{\"fillmode\":\"overlay\",\"size\":10,\"solidity\":0.2}},\"type\":\"histogram\"}],\"scattergl\":[{\"type\":\"scattergl\",\"marker\":{\"colorbar\":{\"outlinewidth\":0,\"ticks\":\"\"}}}],\"scatter3d\":[{\"type\":\"scatter3d\",\"line\":{\"colorbar\":{\"outlinewidth\":0,\"ticks\":\"\"}},\"marker\":{\"colorbar\":{\"outlinewidth\":0,\"ticks\":\"\"}}}],\"scattermapbox\":[{\"type\":\"scattermapbox\",\"marker\":{\"colorbar\":{\"outlinewidth\":0,\"ticks\":\"\"}}}],\"scatterternary\":[{\"type\":\"scatterternary\",\"marker\":{\"colorbar\":{\"outlinewidth\":0,\"ticks\":\"\"}}}],\"scattercarpet\":[{\"type\":\"scattercarpet\",\"marker\":{\"colorbar\":{\"outlinewidth\":0,\"ticks\":\"\"}}}],\"carpet\":[{\"aaxis\":{\"endlinecolor\":\"#2a3f5f\",\"gridcolor\":\"white\",\"linecolor\":\"white\",\"minorgridcolor\":\"white\",\"startlinecolor\":\"#2a3f5f\"},\"baxis\":{\"endlinecolor\":\"#2a3f5f\",\"gridcolor\":\"white\",\"linecolor\":\"white\",\"minorgridcolor\":\"white\",\"startlinecolor\":\"#2a3f5f\"},\"type\":\"carpet\"}],\"table\":[{\"cells\":{\"fill\":{\"color\":\"#EBF0F8\"},\"line\":{\"color\":\"white\"}},\"header\":{\"fill\":{\"color\":\"#C8D4E3\"},\"line\":{\"color\":\"white\"}},\"type\":\"table\"}],\"barpolar\":[{\"marker\":{\"line\":{\"color\":\"#E5ECF6\",\"width\":0.5},\"pattern\":{\"fillmode\":\"overlay\",\"size\":10,\"solidity\":0.2}},\"type\":\"barpolar\"}],\"pie\":[{\"automargin\":true,\"type\":\"pie\"}]},\"layout\":{\"autotypenumbers\":\"strict\",\"colorway\":[\"#636efa\",\"#EF553B\",\"#00cc96\",\"#ab63fa\",\"#FFA15A\",\"#19d3f3\",\"#FF6692\",\"#B6E880\",\"#FF97FF\",\"#FECB52\"],\"font\":{\"color\":\"#2a3f5f\"},\"hovermode\":\"closest\",\"hoverlabel\":{\"align\":\"left\"},\"paper_bgcolor\":\"white\",\"plot_bgcolor\":\"#E5ECF6\",\"polar\":{\"bgcolor\":\"#E5ECF6\",\"angularaxis\":{\"gridcolor\":\"white\",\"linecolor\":\"white\",\"ticks\":\"\"},\"radialaxis\":{\"gridcolor\":\"white\",\"linecolor\":\"white\",\"ticks\":\"\"}},\"ternary\":{\"bgcolor\":\"#E5ECF6\",\"aaxis\":{\"gridcolor\":\"white\",\"linecolor\":\"white\",\"ticks\":\"\"},\"baxis\":{\"gridcolor\":\"white\",\"linecolor\":\"white\",\"ticks\":\"\"},\"caxis\":{\"gridcolor\":\"white\",\"linecolor\":\"white\",\"ticks\":\"\"}},\"coloraxis\":{\"colorbar\":{\"outlinewidth\":0,\"ticks\":\"\"}},\"colorscale\":{\"sequential\":[[0.0,\"#0d0887\"],[0.1111111111111111,\"#46039f\"],[0.2222222222222222,\"#7201a8\"],[0.3333333333333333,\"#9c179e\"],[0.4444444444444444,\"#bd3786\"],[0.5555555555555556,\"#d8576b\"],[0.6666666666666666,\"#ed7953\"],[0.7777777777777778,\"#fb9f3a\"],[0.8888888888888888,\"#fdca26\"],[1.0,\"#f0f921\"]],\"sequentialminus\":[[0.0,\"#0d0887\"],[0.1111111111111111,\"#46039f\"],[0.2222222222222222,\"#7201a8\"],[0.3333333333333333,\"#9c179e\"],[0.4444444444444444,\"#bd3786\"],[0.5555555555555556,\"#d8576b\"],[0.6666666666666666,\"#ed7953\"],[0.7777777777777778,\"#fb9f3a\"],[0.8888888888888888,\"#fdca26\"],[1.0,\"#f0f921\"]],\"diverging\":[[0,\"#8e0152\"],[0.1,\"#c51b7d\"],[0.2,\"#de77ae\"],[0.3,\"#f1b6da\"],[0.4,\"#fde0ef\"],[0.5,\"#f7f7f7\"],[0.6,\"#e6f5d0\"],[0.7,\"#b8e186\"],[0.8,\"#7fbc41\"],[0.9,\"#4d9221\"],[1,\"#276419\"]]},\"xaxis\":{\"gridcolor\":\"white\",\"linecolor\":\"white\",\"ticks\":\"\",\"title\":{\"standoff\":15},\"zerolinecolor\":\"white\",\"automargin\":true,\"zerolinewidth\":2},\"yaxis\":{\"gridcolor\":\"white\",\"linecolor\":\"white\",\"ticks\":\"\",\"title\":{\"standoff\":15},\"zerolinecolor\":\"white\",\"automargin\":true,\"zerolinewidth\":2},\"scene\":{\"xaxis\":{\"backgroundcolor\":\"#E5ECF6\",\"gridcolor\":\"white\",\"linecolor\":\"white\",\"showbackground\":true,\"ticks\":\"\",\"zerolinecolor\":\"white\",\"gridwidth\":2},\"yaxis\":{\"backgroundcolor\":\"#E5ECF6\",\"gridcolor\":\"white\",\"linecolor\":\"white\",\"showbackground\":true,\"ticks\":\"\",\"zerolinecolor\":\"white\",\"gridwidth\":2},\"zaxis\":{\"backgroundcolor\":\"#E5ECF6\",\"gridcolor\":\"white\",\"linecolor\":\"white\",\"showbackground\":true,\"ticks\":\"\",\"zerolinecolor\":\"white\",\"gridwidth\":2}},\"shapedefaults\":{\"line\":{\"color\":\"#2a3f5f\"}},\"annotationdefaults\":{\"arrowcolor\":\"#2a3f5f\",\"arrowhead\":0,\"arrowwidth\":1},\"geo\":{\"bgcolor\":\"white\",\"landcolor\":\"#E5ECF6\",\"subunitcolor\":\"white\",\"showland\":true,\"showlakes\":true,\"lakecolor\":\"white\"},\"title\":{\"x\":0.05},\"mapbox\":{\"style\":\"light\"}}},\"xaxis\":{\"anchor\":\"y\",\"domain\":[0.0,1.0],\"title\":{\"text\":\"Count\"}},\"yaxis\":{\"anchor\":\"x\",\"domain\":[0.0,1.0],\"title\":{\"text\":\"DESCRIPTION\"},\"autorange\":\"reversed\"},\"legend\":{\"title\":{\"text\":\"REASONDESCRIPTION\"},\"tracegroupgap\":0},\"margin\":{\"t\":60},\"barmode\":\"relative\",\"title\":{\"text\":\"Careplans for the three most common conditions\"}},                        {\"responsive\": true}                    ).then(function(){\n",
              "                            \n",
              "var gd = document.getElementById('7ee9a037-2cb4-43d7-ae1d-34ad9b3fefd1');\n",
              "var x = new MutationObserver(function (mutations, observer) {{\n",
              "        var display = window.getComputedStyle(gd).display;\n",
              "        if (!display || display === 'none') {{\n",
              "            console.log([gd, 'removed!']);\n",
              "            Plotly.purge(gd);\n",
              "            observer.disconnect();\n",
              "        }}\n",
              "}});\n",
              "\n",
              "// Listen for the removal of the full notebook cells\n",
              "var notebookContainer = gd.closest('#notebook-container');\n",
              "if (notebookContainer) {{\n",
              "    x.observe(notebookContainer, {childList: true});\n",
              "}}\n",
              "\n",
              "// Listen for the clearing of the current output cell\n",
              "var outputEl = gd.closest('.output');\n",
              "if (outputEl) {{\n",
              "    x.observe(outputEl, {childList: true});\n",
              "}}\n",
              "\n",
              "                        })                };                });            </script>        </div>"
            ]
          },
          "metadata": {}
        }
      ]
    },
    {
      "cell_type": "markdown",
      "source": [
        "> From the graph, it can be seen that there are no careplans for two of the common conditions (Viral sinusitis and Acute viral pharyngitis). There is only one careplan for one of the common conditions (Acute bronchitis) So there are no similarities on how the three conditions are treated in terms of careplans."
      ],
      "metadata": {
        "id": "n7dmXx6OUNr4"
      }
    },
    {
      "cell_type": "markdown",
      "source": [
        ">> **(iii) Other common pattern characteristics for the three groups of conditions**"
      ],
      "metadata": {
        "id": "UoLQRuBVU9Xy"
      }
    },
    {
      "cell_type": "markdown",
      "source": [
        "Two pattern characteristics are considered for the three groups of conditions.\n",
        "\n",
        "\n",
        "*   Average duration of the three groups of conditions\n",
        "*   Observations performed for the three groups of conditions\n",
        "\n"
      ],
      "metadata": {
        "id": "S1Z6m5vBWYYO"
      }
    },
    {
      "cell_type": "markdown",
      "source": [
        "\n",
        "\n",
        "> **-- Average duration of the three groups of conditions**\n",
        "\n"
      ],
      "metadata": {
        "id": "-2efZiC4iBJb"
      }
    },
    {
      "cell_type": "code",
      "source": [
        "### average duration of the three groups of conditions\n",
        "\n",
        "\n",
        "def set_datetime_columns(df):\n",
        "    df.loc[:, 'START'] = pd.to_datetime(df['START'], utc=True)\n",
        "    df.loc[:, 'STOP_HOVER'] = df['STOP'].fillna(\"ONGOING\")\n",
        "    df.loc[df['STOP_HOVER'] == \"ONGOING\", 'STOP'] = pd.Timestamp.now()\n",
        "    df.loc[:, 'STOP'] = pd.to_datetime(df['STOP'], utc=True)\n",
        "\n",
        "    if str(df[\"START\"].dt.tz) == \"UTC\":\n",
        "        df['START'] = df['START'].dt.tz_convert(None)\n",
        "    if str(df[\"STOP\"].dt.tz) == \"UTC\":\n",
        "        df['STOP'] = df['STOP'].dt.tz_convert(None)\n",
        "    return df\n",
        "\n",
        "\n",
        "conditions_df = set_datetime_columns(conditions.copy())\n",
        "\n",
        "# Some conditions don't have an end time. So remove the rows that contains NULL values.\n",
        "conditions_df = conditions_df.dropna(subset=['STOP'])\n",
        "\n",
        "# The duration of the condition in days\n",
        "delta = conditions_df['STOP'] - conditions_df['START']\n",
        "conditions_df[\"Duration\"] = delta.dt.days\n",
        "\n",
        "# Goup by DESCRIPTION and then count and calculate average duration\n",
        "conditions_agg = conditions_df.groupby( [\"DESCRIPTION\"], as_index=False).agg(\n",
        "    count=pd.NamedAgg(column=\"DESCRIPTION\", aggfunc=\"count\"),\n",
        "    duration_avg=pd.NamedAgg(column=\"Duration\", aggfunc=\"mean\"),\n",
        ").sort_values('count')[-3:]\n",
        "\n",
        "conditions_agg.sort_values('count', ascending=False).head()\n",
        "\n",
        "\n"
      ],
      "metadata": {
        "colab": {
          "base_uri": "https://localhost:8080/",
          "height": 143
        },
        "id": "ucT4gS8-VK1t",
        "outputId": "b47cc051-22ff-4632-8847-4f8728ae3dd0"
      },
      "execution_count": 16,
      "outputs": [
        {
          "output_type": "execute_result",
          "data": {
            "text/plain": [
              "                            DESCRIPTION  count  duration_avg\n",
              "127          Viral sinusitis (disorder)   1248     22.322917\n",
              "3    Acute viral pharyngitis (disorder)    653     24.508423\n",
              "2           Acute bronchitis (disorder)    563     12.319716"
            ],
            "text/html": [
              "\n",
              "  <div id=\"df-eb54d6bb-9103-430e-a159-156336e6dd3c\">\n",
              "    <div class=\"colab-df-container\">\n",
              "      <div>\n",
              "<style scoped>\n",
              "    .dataframe tbody tr th:only-of-type {\n",
              "        vertical-align: middle;\n",
              "    }\n",
              "\n",
              "    .dataframe tbody tr th {\n",
              "        vertical-align: top;\n",
              "    }\n",
              "\n",
              "    .dataframe thead th {\n",
              "        text-align: right;\n",
              "    }\n",
              "</style>\n",
              "<table border=\"1\" class=\"dataframe\">\n",
              "  <thead>\n",
              "    <tr style=\"text-align: right;\">\n",
              "      <th></th>\n",
              "      <th>DESCRIPTION</th>\n",
              "      <th>count</th>\n",
              "      <th>duration_avg</th>\n",
              "    </tr>\n",
              "  </thead>\n",
              "  <tbody>\n",
              "    <tr>\n",
              "      <th>127</th>\n",
              "      <td>Viral sinusitis (disorder)</td>\n",
              "      <td>1248</td>\n",
              "      <td>22.322917</td>\n",
              "    </tr>\n",
              "    <tr>\n",
              "      <th>3</th>\n",
              "      <td>Acute viral pharyngitis (disorder)</td>\n",
              "      <td>653</td>\n",
              "      <td>24.508423</td>\n",
              "    </tr>\n",
              "    <tr>\n",
              "      <th>2</th>\n",
              "      <td>Acute bronchitis (disorder)</td>\n",
              "      <td>563</td>\n",
              "      <td>12.319716</td>\n",
              "    </tr>\n",
              "  </tbody>\n",
              "</table>\n",
              "</div>\n",
              "      <button class=\"colab-df-convert\" onclick=\"convertToInteractive('df-eb54d6bb-9103-430e-a159-156336e6dd3c')\"\n",
              "              title=\"Convert this dataframe to an interactive table.\"\n",
              "              style=\"display:none;\">\n",
              "        \n",
              "  <svg xmlns=\"http://www.w3.org/2000/svg\" height=\"24px\"viewBox=\"0 0 24 24\"\n",
              "       width=\"24px\">\n",
              "    <path d=\"M0 0h24v24H0V0z\" fill=\"none\"/>\n",
              "    <path d=\"M18.56 5.44l.94 2.06.94-2.06 2.06-.94-2.06-.94-.94-2.06-.94 2.06-2.06.94zm-11 1L8.5 8.5l.94-2.06 2.06-.94-2.06-.94L8.5 2.5l-.94 2.06-2.06.94zm10 10l.94 2.06.94-2.06 2.06-.94-2.06-.94-.94-2.06-.94 2.06-2.06.94z\"/><path d=\"M17.41 7.96l-1.37-1.37c-.4-.4-.92-.59-1.43-.59-.52 0-1.04.2-1.43.59L10.3 9.45l-7.72 7.72c-.78.78-.78 2.05 0 2.83L4 21.41c.39.39.9.59 1.41.59.51 0 1.02-.2 1.41-.59l7.78-7.78 2.81-2.81c.8-.78.8-2.07 0-2.86zM5.41 20L4 18.59l7.72-7.72 1.47 1.35L5.41 20z\"/>\n",
              "  </svg>\n",
              "      </button>\n",
              "      \n",
              "  <style>\n",
              "    .colab-df-container {\n",
              "      display:flex;\n",
              "      flex-wrap:wrap;\n",
              "      gap: 12px;\n",
              "    }\n",
              "\n",
              "    .colab-df-convert {\n",
              "      background-color: #E8F0FE;\n",
              "      border: none;\n",
              "      border-radius: 50%;\n",
              "      cursor: pointer;\n",
              "      display: none;\n",
              "      fill: #1967D2;\n",
              "      height: 32px;\n",
              "      padding: 0 0 0 0;\n",
              "      width: 32px;\n",
              "    }\n",
              "\n",
              "    .colab-df-convert:hover {\n",
              "      background-color: #E2EBFA;\n",
              "      box-shadow: 0px 1px 2px rgba(60, 64, 67, 0.3), 0px 1px 3px 1px rgba(60, 64, 67, 0.15);\n",
              "      fill: #174EA6;\n",
              "    }\n",
              "\n",
              "    [theme=dark] .colab-df-convert {\n",
              "      background-color: #3B4455;\n",
              "      fill: #D2E3FC;\n",
              "    }\n",
              "\n",
              "    [theme=dark] .colab-df-convert:hover {\n",
              "      background-color: #434B5C;\n",
              "      box-shadow: 0px 1px 3px 1px rgba(0, 0, 0, 0.15);\n",
              "      filter: drop-shadow(0px 1px 2px rgba(0, 0, 0, 0.3));\n",
              "      fill: #FFFFFF;\n",
              "    }\n",
              "  </style>\n",
              "\n",
              "      <script>\n",
              "        const buttonEl =\n",
              "          document.querySelector('#df-eb54d6bb-9103-430e-a159-156336e6dd3c button.colab-df-convert');\n",
              "        buttonEl.style.display =\n",
              "          google.colab.kernel.accessAllowed ? 'block' : 'none';\n",
              "\n",
              "        async function convertToInteractive(key) {\n",
              "          const element = document.querySelector('#df-eb54d6bb-9103-430e-a159-156336e6dd3c');\n",
              "          const dataTable =\n",
              "            await google.colab.kernel.invokeFunction('convertToInteractive',\n",
              "                                                     [key], {});\n",
              "          if (!dataTable) return;\n",
              "\n",
              "          const docLinkHtml = 'Like what you see? Visit the ' +\n",
              "            '<a target=\"_blank\" href=https://colab.research.google.com/notebooks/data_table.ipynb>data table notebook</a>'\n",
              "            + ' to learn more about interactive tables.';\n",
              "          element.innerHTML = '';\n",
              "          dataTable['output_type'] = 'display_data';\n",
              "          await google.colab.output.renderOutput(dataTable, element);\n",
              "          const docLink = document.createElement('div');\n",
              "          docLink.innerHTML = docLinkHtml;\n",
              "          element.appendChild(docLink);\n",
              "        }\n",
              "      </script>\n",
              "    </div>\n",
              "  </div>\n",
              "  "
            ]
          },
          "metadata": {},
          "execution_count": 16
        }
      ]
    },
    {
      "cell_type": "code",
      "source": [
        "fig = px.histogram(conditions_agg, y=\"DESCRIPTION\", x=\"duration_avg\",color=\"DESCRIPTION\")\n",
        "\n",
        "fig.update_layout(\n",
        "    title_text=\"Average duration of the three groups of conditions\",\n",
        "    xaxis_title_text=\"average duration (days)\", # yaxis label\n",
        ")\n",
        "\n",
        "fig.update_yaxes(autorange=\"reversed\") # otherwise descriptions are listed from the bottom up\n",
        "\n",
        "fig.show(\"notebook_connected\")"
      ],
      "metadata": {
        "colab": {
          "base_uri": "https://localhost:8080/",
          "height": 542
        },
        "id": "hetQ6DBPahyF",
        "outputId": "9f71eda5-20a2-43e9-dc6f-2ec53d90c66d"
      },
      "execution_count": 17,
      "outputs": [
        {
          "output_type": "display_data",
          "data": {
            "text/html": [
              "        <script type=\"text/javascript\">\n",
              "        window.PlotlyConfig = {MathJaxConfig: 'local'};\n",
              "        if (window.MathJax && window.MathJax.Hub && window.MathJax.Hub.Config) {window.MathJax.Hub.Config({SVG: {font: \"STIX-Web\"}});}\n",
              "        if (typeof require !== 'undefined') {\n",
              "        require.undef(\"plotly\");\n",
              "        requirejs.config({\n",
              "            paths: {\n",
              "                'plotly': ['https://cdn.plot.ly/plotly-2.18.2.min']\n",
              "            }\n",
              "        });\n",
              "        require(['plotly'], function(Plotly) {\n",
              "            window._Plotly = Plotly;\n",
              "        });\n",
              "        }\n",
              "        </script>\n",
              "        "
            ]
          },
          "metadata": {}
        },
        {
          "output_type": "display_data",
          "data": {
            "text/html": [
              "<div>                            <div id=\"e214b4ff-27bb-4527-99c1-a19719d85319\" class=\"plotly-graph-div\" style=\"height:525px; width:100%;\"></div>            <script type=\"text/javascript\">                require([\"plotly\"], function(Plotly) {                    window.PLOTLYENV=window.PLOTLYENV || {};                                    if (document.getElementById(\"e214b4ff-27bb-4527-99c1-a19719d85319\")) {                    Plotly.newPlot(                        \"e214b4ff-27bb-4527-99c1-a19719d85319\",                        [{\"alignmentgroup\":\"True\",\"bingroup\":\"y\",\"histfunc\":\"sum\",\"hovertemplate\":\"DESCRIPTION=%{y}<br>sum of duration_avg=%{x}<extra></extra>\",\"legendgroup\":\"Acute bronchitis (disorder)\",\"marker\":{\"color\":\"#636efa\",\"pattern\":{\"shape\":\"\"}},\"name\":\"Acute bronchitis (disorder)\",\"offsetgroup\":\"Acute bronchitis (disorder)\",\"orientation\":\"h\",\"showlegend\":true,\"x\":[12.319715808170516],\"xaxis\":\"x\",\"y\":[\"Acute bronchitis (disorder)\"],\"yaxis\":\"y\",\"type\":\"histogram\"},{\"alignmentgroup\":\"True\",\"bingroup\":\"y\",\"histfunc\":\"sum\",\"hovertemplate\":\"DESCRIPTION=%{y}<br>sum of duration_avg=%{x}<extra></extra>\",\"legendgroup\":\"Acute viral pharyngitis (disorder)\",\"marker\":{\"color\":\"#EF553B\",\"pattern\":{\"shape\":\"\"}},\"name\":\"Acute viral pharyngitis (disorder)\",\"offsetgroup\":\"Acute viral pharyngitis (disorder)\",\"orientation\":\"h\",\"showlegend\":true,\"x\":[24.50842266462481],\"xaxis\":\"x\",\"y\":[\"Acute viral pharyngitis (disorder)\"],\"yaxis\":\"y\",\"type\":\"histogram\"},{\"alignmentgroup\":\"True\",\"bingroup\":\"y\",\"histfunc\":\"sum\",\"hovertemplate\":\"DESCRIPTION=%{y}<br>sum of duration_avg=%{x}<extra></extra>\",\"legendgroup\":\"Viral sinusitis (disorder)\",\"marker\":{\"color\":\"#00cc96\",\"pattern\":{\"shape\":\"\"}},\"name\":\"Viral sinusitis (disorder)\",\"offsetgroup\":\"Viral sinusitis (disorder)\",\"orientation\":\"h\",\"showlegend\":true,\"x\":[22.322916666666668],\"xaxis\":\"x\",\"y\":[\"Viral sinusitis (disorder)\"],\"yaxis\":\"y\",\"type\":\"histogram\"}],                        {\"template\":{\"data\":{\"histogram2dcontour\":[{\"type\":\"histogram2dcontour\",\"colorbar\":{\"outlinewidth\":0,\"ticks\":\"\"},\"colorscale\":[[0.0,\"#0d0887\"],[0.1111111111111111,\"#46039f\"],[0.2222222222222222,\"#7201a8\"],[0.3333333333333333,\"#9c179e\"],[0.4444444444444444,\"#bd3786\"],[0.5555555555555556,\"#d8576b\"],[0.6666666666666666,\"#ed7953\"],[0.7777777777777778,\"#fb9f3a\"],[0.8888888888888888,\"#fdca26\"],[1.0,\"#f0f921\"]]}],\"choropleth\":[{\"type\":\"choropleth\",\"colorbar\":{\"outlinewidth\":0,\"ticks\":\"\"}}],\"histogram2d\":[{\"type\":\"histogram2d\",\"colorbar\":{\"outlinewidth\":0,\"ticks\":\"\"},\"colorscale\":[[0.0,\"#0d0887\"],[0.1111111111111111,\"#46039f\"],[0.2222222222222222,\"#7201a8\"],[0.3333333333333333,\"#9c179e\"],[0.4444444444444444,\"#bd3786\"],[0.5555555555555556,\"#d8576b\"],[0.6666666666666666,\"#ed7953\"],[0.7777777777777778,\"#fb9f3a\"],[0.8888888888888888,\"#fdca26\"],[1.0,\"#f0f921\"]]}],\"heatmap\":[{\"type\":\"heatmap\",\"colorbar\":{\"outlinewidth\":0,\"ticks\":\"\"},\"colorscale\":[[0.0,\"#0d0887\"],[0.1111111111111111,\"#46039f\"],[0.2222222222222222,\"#7201a8\"],[0.3333333333333333,\"#9c179e\"],[0.4444444444444444,\"#bd3786\"],[0.5555555555555556,\"#d8576b\"],[0.6666666666666666,\"#ed7953\"],[0.7777777777777778,\"#fb9f3a\"],[0.8888888888888888,\"#fdca26\"],[1.0,\"#f0f921\"]]}],\"heatmapgl\":[{\"type\":\"heatmapgl\",\"colorbar\":{\"outlinewidth\":0,\"ticks\":\"\"},\"colorscale\":[[0.0,\"#0d0887\"],[0.1111111111111111,\"#46039f\"],[0.2222222222222222,\"#7201a8\"],[0.3333333333333333,\"#9c179e\"],[0.4444444444444444,\"#bd3786\"],[0.5555555555555556,\"#d8576b\"],[0.6666666666666666,\"#ed7953\"],[0.7777777777777778,\"#fb9f3a\"],[0.8888888888888888,\"#fdca26\"],[1.0,\"#f0f921\"]]}],\"contourcarpet\":[{\"type\":\"contourcarpet\",\"colorbar\":{\"outlinewidth\":0,\"ticks\":\"\"}}],\"contour\":[{\"type\":\"contour\",\"colorbar\":{\"outlinewidth\":0,\"ticks\":\"\"},\"colorscale\":[[0.0,\"#0d0887\"],[0.1111111111111111,\"#46039f\"],[0.2222222222222222,\"#7201a8\"],[0.3333333333333333,\"#9c179e\"],[0.4444444444444444,\"#bd3786\"],[0.5555555555555556,\"#d8576b\"],[0.6666666666666666,\"#ed7953\"],[0.7777777777777778,\"#fb9f3a\"],[0.8888888888888888,\"#fdca26\"],[1.0,\"#f0f921\"]]}],\"surface\":[{\"type\":\"surface\",\"colorbar\":{\"outlinewidth\":0,\"ticks\":\"\"},\"colorscale\":[[0.0,\"#0d0887\"],[0.1111111111111111,\"#46039f\"],[0.2222222222222222,\"#7201a8\"],[0.3333333333333333,\"#9c179e\"],[0.4444444444444444,\"#bd3786\"],[0.5555555555555556,\"#d8576b\"],[0.6666666666666666,\"#ed7953\"],[0.7777777777777778,\"#fb9f3a\"],[0.8888888888888888,\"#fdca26\"],[1.0,\"#f0f921\"]]}],\"mesh3d\":[{\"type\":\"mesh3d\",\"colorbar\":{\"outlinewidth\":0,\"ticks\":\"\"}}],\"scatter\":[{\"fillpattern\":{\"fillmode\":\"overlay\",\"size\":10,\"solidity\":0.2},\"type\":\"scatter\"}],\"parcoords\":[{\"type\":\"parcoords\",\"line\":{\"colorbar\":{\"outlinewidth\":0,\"ticks\":\"\"}}}],\"scatterpolargl\":[{\"type\":\"scatterpolargl\",\"marker\":{\"colorbar\":{\"outlinewidth\":0,\"ticks\":\"\"}}}],\"bar\":[{\"error_x\":{\"color\":\"#2a3f5f\"},\"error_y\":{\"color\":\"#2a3f5f\"},\"marker\":{\"line\":{\"color\":\"#E5ECF6\",\"width\":0.5},\"pattern\":{\"fillmode\":\"overlay\",\"size\":10,\"solidity\":0.2}},\"type\":\"bar\"}],\"scattergeo\":[{\"type\":\"scattergeo\",\"marker\":{\"colorbar\":{\"outlinewidth\":0,\"ticks\":\"\"}}}],\"scatterpolar\":[{\"type\":\"scatterpolar\",\"marker\":{\"colorbar\":{\"outlinewidth\":0,\"ticks\":\"\"}}}],\"histogram\":[{\"marker\":{\"pattern\":{\"fillmode\":\"overlay\",\"size\":10,\"solidity\":0.2}},\"type\":\"histogram\"}],\"scattergl\":[{\"type\":\"scattergl\",\"marker\":{\"colorbar\":{\"outlinewidth\":0,\"ticks\":\"\"}}}],\"scatter3d\":[{\"type\":\"scatter3d\",\"line\":{\"colorbar\":{\"outlinewidth\":0,\"ticks\":\"\"}},\"marker\":{\"colorbar\":{\"outlinewidth\":0,\"ticks\":\"\"}}}],\"scattermapbox\":[{\"type\":\"scattermapbox\",\"marker\":{\"colorbar\":{\"outlinewidth\":0,\"ticks\":\"\"}}}],\"scatterternary\":[{\"type\":\"scatterternary\",\"marker\":{\"colorbar\":{\"outlinewidth\":0,\"ticks\":\"\"}}}],\"scattercarpet\":[{\"type\":\"scattercarpet\",\"marker\":{\"colorbar\":{\"outlinewidth\":0,\"ticks\":\"\"}}}],\"carpet\":[{\"aaxis\":{\"endlinecolor\":\"#2a3f5f\",\"gridcolor\":\"white\",\"linecolor\":\"white\",\"minorgridcolor\":\"white\",\"startlinecolor\":\"#2a3f5f\"},\"baxis\":{\"endlinecolor\":\"#2a3f5f\",\"gridcolor\":\"white\",\"linecolor\":\"white\",\"minorgridcolor\":\"white\",\"startlinecolor\":\"#2a3f5f\"},\"type\":\"carpet\"}],\"table\":[{\"cells\":{\"fill\":{\"color\":\"#EBF0F8\"},\"line\":{\"color\":\"white\"}},\"header\":{\"fill\":{\"color\":\"#C8D4E3\"},\"line\":{\"color\":\"white\"}},\"type\":\"table\"}],\"barpolar\":[{\"marker\":{\"line\":{\"color\":\"#E5ECF6\",\"width\":0.5},\"pattern\":{\"fillmode\":\"overlay\",\"size\":10,\"solidity\":0.2}},\"type\":\"barpolar\"}],\"pie\":[{\"automargin\":true,\"type\":\"pie\"}]},\"layout\":{\"autotypenumbers\":\"strict\",\"colorway\":[\"#636efa\",\"#EF553B\",\"#00cc96\",\"#ab63fa\",\"#FFA15A\",\"#19d3f3\",\"#FF6692\",\"#B6E880\",\"#FF97FF\",\"#FECB52\"],\"font\":{\"color\":\"#2a3f5f\"},\"hovermode\":\"closest\",\"hoverlabel\":{\"align\":\"left\"},\"paper_bgcolor\":\"white\",\"plot_bgcolor\":\"#E5ECF6\",\"polar\":{\"bgcolor\":\"#E5ECF6\",\"angularaxis\":{\"gridcolor\":\"white\",\"linecolor\":\"white\",\"ticks\":\"\"},\"radialaxis\":{\"gridcolor\":\"white\",\"linecolor\":\"white\",\"ticks\":\"\"}},\"ternary\":{\"bgcolor\":\"#E5ECF6\",\"aaxis\":{\"gridcolor\":\"white\",\"linecolor\":\"white\",\"ticks\":\"\"},\"baxis\":{\"gridcolor\":\"white\",\"linecolor\":\"white\",\"ticks\":\"\"},\"caxis\":{\"gridcolor\":\"white\",\"linecolor\":\"white\",\"ticks\":\"\"}},\"coloraxis\":{\"colorbar\":{\"outlinewidth\":0,\"ticks\":\"\"}},\"colorscale\":{\"sequential\":[[0.0,\"#0d0887\"],[0.1111111111111111,\"#46039f\"],[0.2222222222222222,\"#7201a8\"],[0.3333333333333333,\"#9c179e\"],[0.4444444444444444,\"#bd3786\"],[0.5555555555555556,\"#d8576b\"],[0.6666666666666666,\"#ed7953\"],[0.7777777777777778,\"#fb9f3a\"],[0.8888888888888888,\"#fdca26\"],[1.0,\"#f0f921\"]],\"sequentialminus\":[[0.0,\"#0d0887\"],[0.1111111111111111,\"#46039f\"],[0.2222222222222222,\"#7201a8\"],[0.3333333333333333,\"#9c179e\"],[0.4444444444444444,\"#bd3786\"],[0.5555555555555556,\"#d8576b\"],[0.6666666666666666,\"#ed7953\"],[0.7777777777777778,\"#fb9f3a\"],[0.8888888888888888,\"#fdca26\"],[1.0,\"#f0f921\"]],\"diverging\":[[0,\"#8e0152\"],[0.1,\"#c51b7d\"],[0.2,\"#de77ae\"],[0.3,\"#f1b6da\"],[0.4,\"#fde0ef\"],[0.5,\"#f7f7f7\"],[0.6,\"#e6f5d0\"],[0.7,\"#b8e186\"],[0.8,\"#7fbc41\"],[0.9,\"#4d9221\"],[1,\"#276419\"]]},\"xaxis\":{\"gridcolor\":\"white\",\"linecolor\":\"white\",\"ticks\":\"\",\"title\":{\"standoff\":15},\"zerolinecolor\":\"white\",\"automargin\":true,\"zerolinewidth\":2},\"yaxis\":{\"gridcolor\":\"white\",\"linecolor\":\"white\",\"ticks\":\"\",\"title\":{\"standoff\":15},\"zerolinecolor\":\"white\",\"automargin\":true,\"zerolinewidth\":2},\"scene\":{\"xaxis\":{\"backgroundcolor\":\"#E5ECF6\",\"gridcolor\":\"white\",\"linecolor\":\"white\",\"showbackground\":true,\"ticks\":\"\",\"zerolinecolor\":\"white\",\"gridwidth\":2},\"yaxis\":{\"backgroundcolor\":\"#E5ECF6\",\"gridcolor\":\"white\",\"linecolor\":\"white\",\"showbackground\":true,\"ticks\":\"\",\"zerolinecolor\":\"white\",\"gridwidth\":2},\"zaxis\":{\"backgroundcolor\":\"#E5ECF6\",\"gridcolor\":\"white\",\"linecolor\":\"white\",\"showbackground\":true,\"ticks\":\"\",\"zerolinecolor\":\"white\",\"gridwidth\":2}},\"shapedefaults\":{\"line\":{\"color\":\"#2a3f5f\"}},\"annotationdefaults\":{\"arrowcolor\":\"#2a3f5f\",\"arrowhead\":0,\"arrowwidth\":1},\"geo\":{\"bgcolor\":\"white\",\"landcolor\":\"#E5ECF6\",\"subunitcolor\":\"white\",\"showland\":true,\"showlakes\":true,\"lakecolor\":\"white\"},\"title\":{\"x\":0.05},\"mapbox\":{\"style\":\"light\"}}},\"xaxis\":{\"anchor\":\"y\",\"domain\":[0.0,1.0],\"title\":{\"text\":\"average duration (days)\"}},\"yaxis\":{\"anchor\":\"x\",\"domain\":[0.0,1.0],\"title\":{\"text\":\"DESCRIPTION\"},\"categoryorder\":\"array\",\"categoryarray\":[\"Viral sinusitis (disorder)\",\"Acute viral pharyngitis (disorder)\",\"Acute bronchitis (disorder)\"],\"autorange\":\"reversed\"},\"legend\":{\"title\":{\"text\":\"DESCRIPTION\"},\"tracegroupgap\":0},\"margin\":{\"t\":60},\"barmode\":\"relative\",\"title\":{\"text\":\"Average duration of the three groups of conditions\"}},                        {\"responsive\": true}                    ).then(function(){\n",
              "                            \n",
              "var gd = document.getElementById('e214b4ff-27bb-4527-99c1-a19719d85319');\n",
              "var x = new MutationObserver(function (mutations, observer) {{\n",
              "        var display = window.getComputedStyle(gd).display;\n",
              "        if (!display || display === 'none') {{\n",
              "            console.log([gd, 'removed!']);\n",
              "            Plotly.purge(gd);\n",
              "            observer.disconnect();\n",
              "        }}\n",
              "}});\n",
              "\n",
              "// Listen for the removal of the full notebook cells\n",
              "var notebookContainer = gd.closest('#notebook-container');\n",
              "if (notebookContainer) {{\n",
              "    x.observe(notebookContainer, {childList: true});\n",
              "}}\n",
              "\n",
              "// Listen for the clearing of the current output cell\n",
              "var outputEl = gd.closest('.output');\n",
              "if (outputEl) {{\n",
              "    x.observe(outputEl, {childList: true});\n",
              "}}\n",
              "\n",
              "                        })                };                });            </script>        </div>"
            ]
          },
          "metadata": {}
        }
      ]
    },
    {
      "cell_type": "markdown",
      "source": [
        "> From the graph, it can be seen that the average duration of Viral sinusitis and Acute viral pharyngitis is 22 days and 24 days, respectively. So the average duration of these two conditions are quite similar. Acute bronchitis has the average duartion of 12 days, which is less than the other two conditions."
      ],
      "metadata": {
        "id": "gITlBzPXgMNz"
      }
    },
    {
      "cell_type": "markdown",
      "source": [
        "\n",
        "\n",
        ">> **-- Observations performed for the three groups of conditions**\n",
        "\n"
      ],
      "metadata": {
        "id": "KFQXjnNXiOJ4"
      }
    },
    {
      "cell_type": "code",
      "source": [
        "conditions_df = conditions[conditions['DESCRIPTION'].isin(list(conditions.DESCRIPTION.value_counts().index[:3]))]\n",
        "\n",
        "conditions_observations_df = conditions_df.merge(\n",
        "    observations, left_on = 'ENCOUNTER', right_on = 'ENCOUNTER',\n",
        "    suffixes=('_condition', '_observation'))\n",
        "\n",
        "conditions_observations_agg = conditions_observations_df.groupby( [\"DESCRIPTION_condition\", \"DESCRIPTION_observation\"], as_index=False).agg(\n",
        "    count=pd.NamedAgg(column=\"PATIENT_observation\", aggfunc=\"count\"),\n",
        ").sort_values('count', ascending=False)\n",
        "\n",
        "conditions_observations_agg"
      ],
      "metadata": {
        "colab": {
          "base_uri": "https://localhost:8080/",
          "height": 424
        },
        "id": "Be7GSv3PiW9f",
        "outputId": "b7f4c0df-d9ac-4d04-90c1-0d206f62fd9e"
      },
      "execution_count": 18,
      "outputs": [
        {
          "output_type": "execute_result",
          "data": {
            "text/plain": [
              "                  DESCRIPTION_condition  \\\n",
              "48   Acute viral pharyngitis (disorder)   \n",
              "117          Viral sinusitis (disorder)   \n",
              "109          Viral sinusitis (disorder)   \n",
              "98           Viral sinusitis (disorder)   \n",
              "83           Viral sinusitis (disorder)   \n",
              "..                                  ...   \n",
              "22          Acute bronchitis (disorder)   \n",
              "15          Acute bronchitis (disorder)   \n",
              "1           Acute bronchitis (disorder)   \n",
              "36          Acute bronchitis (disorder)   \n",
              "0           Acute bronchitis (disorder)   \n",
              "\n",
              "                               DESCRIPTION_observation  count  \n",
              "48                                    Body temperature    645  \n",
              "117                        Tobacco smoking status NHIS    143  \n",
              "109  Pain severity - 0-10 verbal numeric rating [Sc...    143  \n",
              "98                                          Heart rate    143  \n",
              "83                                         Body Height    143  \n",
              "..                                                 ...    ...  \n",
              "22       History of Hospitalizations+Outpatient visits      1  \n",
              "15                                          HIV status      1  \n",
              "1    Are you covered by health insurance or some ot...      1  \n",
              "36                                  Sexual orientation      1  \n",
              "0                                 Abuse Status [OMAHA]      1  \n",
              "\n",
              "[122 rows x 3 columns]"
            ],
            "text/html": [
              "\n",
              "  <div id=\"df-d074a9f1-a988-420d-b04e-260b37c03c3a\">\n",
              "    <div class=\"colab-df-container\">\n",
              "      <div>\n",
              "<style scoped>\n",
              "    .dataframe tbody tr th:only-of-type {\n",
              "        vertical-align: middle;\n",
              "    }\n",
              "\n",
              "    .dataframe tbody tr th {\n",
              "        vertical-align: top;\n",
              "    }\n",
              "\n",
              "    .dataframe thead th {\n",
              "        text-align: right;\n",
              "    }\n",
              "</style>\n",
              "<table border=\"1\" class=\"dataframe\">\n",
              "  <thead>\n",
              "    <tr style=\"text-align: right;\">\n",
              "      <th></th>\n",
              "      <th>DESCRIPTION_condition</th>\n",
              "      <th>DESCRIPTION_observation</th>\n",
              "      <th>count</th>\n",
              "    </tr>\n",
              "  </thead>\n",
              "  <tbody>\n",
              "    <tr>\n",
              "      <th>48</th>\n",
              "      <td>Acute viral pharyngitis (disorder)</td>\n",
              "      <td>Body temperature</td>\n",
              "      <td>645</td>\n",
              "    </tr>\n",
              "    <tr>\n",
              "      <th>117</th>\n",
              "      <td>Viral sinusitis (disorder)</td>\n",
              "      <td>Tobacco smoking status NHIS</td>\n",
              "      <td>143</td>\n",
              "    </tr>\n",
              "    <tr>\n",
              "      <th>109</th>\n",
              "      <td>Viral sinusitis (disorder)</td>\n",
              "      <td>Pain severity - 0-10 verbal numeric rating [Sc...</td>\n",
              "      <td>143</td>\n",
              "    </tr>\n",
              "    <tr>\n",
              "      <th>98</th>\n",
              "      <td>Viral sinusitis (disorder)</td>\n",
              "      <td>Heart rate</td>\n",
              "      <td>143</td>\n",
              "    </tr>\n",
              "    <tr>\n",
              "      <th>83</th>\n",
              "      <td>Viral sinusitis (disorder)</td>\n",
              "      <td>Body Height</td>\n",
              "      <td>143</td>\n",
              "    </tr>\n",
              "    <tr>\n",
              "      <th>...</th>\n",
              "      <td>...</td>\n",
              "      <td>...</td>\n",
              "      <td>...</td>\n",
              "    </tr>\n",
              "    <tr>\n",
              "      <th>22</th>\n",
              "      <td>Acute bronchitis (disorder)</td>\n",
              "      <td>History of Hospitalizations+Outpatient visits</td>\n",
              "      <td>1</td>\n",
              "    </tr>\n",
              "    <tr>\n",
              "      <th>15</th>\n",
              "      <td>Acute bronchitis (disorder)</td>\n",
              "      <td>HIV status</td>\n",
              "      <td>1</td>\n",
              "    </tr>\n",
              "    <tr>\n",
              "      <th>1</th>\n",
              "      <td>Acute bronchitis (disorder)</td>\n",
              "      <td>Are you covered by health insurance or some ot...</td>\n",
              "      <td>1</td>\n",
              "    </tr>\n",
              "    <tr>\n",
              "      <th>36</th>\n",
              "      <td>Acute bronchitis (disorder)</td>\n",
              "      <td>Sexual orientation</td>\n",
              "      <td>1</td>\n",
              "    </tr>\n",
              "    <tr>\n",
              "      <th>0</th>\n",
              "      <td>Acute bronchitis (disorder)</td>\n",
              "      <td>Abuse Status [OMAHA]</td>\n",
              "      <td>1</td>\n",
              "    </tr>\n",
              "  </tbody>\n",
              "</table>\n",
              "<p>122 rows × 3 columns</p>\n",
              "</div>\n",
              "      <button class=\"colab-df-convert\" onclick=\"convertToInteractive('df-d074a9f1-a988-420d-b04e-260b37c03c3a')\"\n",
              "              title=\"Convert this dataframe to an interactive table.\"\n",
              "              style=\"display:none;\">\n",
              "        \n",
              "  <svg xmlns=\"http://www.w3.org/2000/svg\" height=\"24px\"viewBox=\"0 0 24 24\"\n",
              "       width=\"24px\">\n",
              "    <path d=\"M0 0h24v24H0V0z\" fill=\"none\"/>\n",
              "    <path d=\"M18.56 5.44l.94 2.06.94-2.06 2.06-.94-2.06-.94-.94-2.06-.94 2.06-2.06.94zm-11 1L8.5 8.5l.94-2.06 2.06-.94-2.06-.94L8.5 2.5l-.94 2.06-2.06.94zm10 10l.94 2.06.94-2.06 2.06-.94-2.06-.94-.94-2.06-.94 2.06-2.06.94z\"/><path d=\"M17.41 7.96l-1.37-1.37c-.4-.4-.92-.59-1.43-.59-.52 0-1.04.2-1.43.59L10.3 9.45l-7.72 7.72c-.78.78-.78 2.05 0 2.83L4 21.41c.39.39.9.59 1.41.59.51 0 1.02-.2 1.41-.59l7.78-7.78 2.81-2.81c.8-.78.8-2.07 0-2.86zM5.41 20L4 18.59l7.72-7.72 1.47 1.35L5.41 20z\"/>\n",
              "  </svg>\n",
              "      </button>\n",
              "      \n",
              "  <style>\n",
              "    .colab-df-container {\n",
              "      display:flex;\n",
              "      flex-wrap:wrap;\n",
              "      gap: 12px;\n",
              "    }\n",
              "\n",
              "    .colab-df-convert {\n",
              "      background-color: #E8F0FE;\n",
              "      border: none;\n",
              "      border-radius: 50%;\n",
              "      cursor: pointer;\n",
              "      display: none;\n",
              "      fill: #1967D2;\n",
              "      height: 32px;\n",
              "      padding: 0 0 0 0;\n",
              "      width: 32px;\n",
              "    }\n",
              "\n",
              "    .colab-df-convert:hover {\n",
              "      background-color: #E2EBFA;\n",
              "      box-shadow: 0px 1px 2px rgba(60, 64, 67, 0.3), 0px 1px 3px 1px rgba(60, 64, 67, 0.15);\n",
              "      fill: #174EA6;\n",
              "    }\n",
              "\n",
              "    [theme=dark] .colab-df-convert {\n",
              "      background-color: #3B4455;\n",
              "      fill: #D2E3FC;\n",
              "    }\n",
              "\n",
              "    [theme=dark] .colab-df-convert:hover {\n",
              "      background-color: #434B5C;\n",
              "      box-shadow: 0px 1px 3px 1px rgba(0, 0, 0, 0.15);\n",
              "      filter: drop-shadow(0px 1px 2px rgba(0, 0, 0, 0.3));\n",
              "      fill: #FFFFFF;\n",
              "    }\n",
              "  </style>\n",
              "\n",
              "      <script>\n",
              "        const buttonEl =\n",
              "          document.querySelector('#df-d074a9f1-a988-420d-b04e-260b37c03c3a button.colab-df-convert');\n",
              "        buttonEl.style.display =\n",
              "          google.colab.kernel.accessAllowed ? 'block' : 'none';\n",
              "\n",
              "        async function convertToInteractive(key) {\n",
              "          const element = document.querySelector('#df-d074a9f1-a988-420d-b04e-260b37c03c3a');\n",
              "          const dataTable =\n",
              "            await google.colab.kernel.invokeFunction('convertToInteractive',\n",
              "                                                     [key], {});\n",
              "          if (!dataTable) return;\n",
              "\n",
              "          const docLinkHtml = 'Like what you see? Visit the ' +\n",
              "            '<a target=\"_blank\" href=https://colab.research.google.com/notebooks/data_table.ipynb>data table notebook</a>'\n",
              "            + ' to learn more about interactive tables.';\n",
              "          element.innerHTML = '';\n",
              "          dataTable['output_type'] = 'display_data';\n",
              "          await google.colab.output.renderOutput(dataTable, element);\n",
              "          const docLink = document.createElement('div');\n",
              "          docLink.innerHTML = docLinkHtml;\n",
              "          element.appendChild(docLink);\n",
              "        }\n",
              "      </script>\n",
              "    </div>\n",
              "  </div>\n",
              "  "
            ]
          },
          "metadata": {},
          "execution_count": 18
        }
      ]
    },
    {
      "cell_type": "code",
      "source": [
        "fig = px.histogram(conditions_observations_agg, y=\"DESCRIPTION_observation\", x=\"count\",color=\"DESCRIPTION_condition\")\n",
        "\n",
        "fig.update_layout(\n",
        "    title_text=\"Observations performed for the three groups of conditions\",\n",
        "    xaxis_title_text=\"count\", # yaxis label\n",
        "    height = 860,width=1260\n",
        ")\n",
        "\n",
        "fig.update_yaxes(autorange=\"reversed\") # otherwise descriptions are listed from the bottom up\n",
        "\n",
        "fig.show(\"notebook_connected\")"
      ],
      "metadata": {
        "colab": {
          "base_uri": "https://localhost:8080/",
          "height": 897
        },
        "id": "hIGCN08nkOv9",
        "outputId": "1755fba4-624d-47cb-ac76-c04c68933919"
      },
      "execution_count": 19,
      "outputs": [
        {
          "output_type": "display_data",
          "data": {
            "text/html": [
              "        <script type=\"text/javascript\">\n",
              "        window.PlotlyConfig = {MathJaxConfig: 'local'};\n",
              "        if (window.MathJax && window.MathJax.Hub && window.MathJax.Hub.Config) {window.MathJax.Hub.Config({SVG: {font: \"STIX-Web\"}});}\n",
              "        if (typeof require !== 'undefined') {\n",
              "        require.undef(\"plotly\");\n",
              "        requirejs.config({\n",
              "            paths: {\n",
              "                'plotly': ['https://cdn.plot.ly/plotly-2.18.2.min']\n",
              "            }\n",
              "        });\n",
              "        require(['plotly'], function(Plotly) {\n",
              "            window._Plotly = Plotly;\n",
              "        });\n",
              "        }\n",
              "        </script>\n",
              "        "
            ]
          },
          "metadata": {}
        },
        {
          "output_type": "display_data",
          "data": {
            "text/html": [
              "<div>                            <div id=\"9f8ec058-7a82-4724-a6a8-6b99d4341baa\" class=\"plotly-graph-div\" style=\"height:860px; width:1260px;\"></div>            <script type=\"text/javascript\">                require([\"plotly\"], function(Plotly) {                    window.PLOTLYENV=window.PLOTLYENV || {};                                    if (document.getElementById(\"9f8ec058-7a82-4724-a6a8-6b99d4341baa\")) {                    Plotly.newPlot(                        \"9f8ec058-7a82-4724-a6a8-6b99d4341baa\",                        [{\"alignmentgroup\":\"True\",\"bingroup\":\"y\",\"histfunc\":\"sum\",\"hovertemplate\":\"DESCRIPTION_condition=Acute viral pharyngitis (disorder)<br>sum of count=%{x}<br>DESCRIPTION_observation=%{y}<extra></extra>\",\"legendgroup\":\"Acute viral pharyngitis (disorder)\",\"marker\":{\"color\":\"#636efa\",\"pattern\":{\"shape\":\"\"}},\"name\":\"Acute viral pharyngitis (disorder)\",\"offsetgroup\":\"Acute viral pharyngitis (disorder)\",\"orientation\":\"h\",\"showlegend\":true,\"x\":[645,38,38,38,38,38,38,38,38,35,9,7,7,7,7,7,7,7,7,7,6,6,6,6,4,4,3,3,2,2,2,2,2,2,2,2,2,2,2],\"xaxis\":\"x\",\"y\":[\"Body temperature\",\"Pain severity - 0-10 verbal numeric rating [Score] - Reported\",\"Respiratory rate\",\"Body Weight\",\"Systolic Blood Pressure\",\"Tobacco smoking status NHIS\",\"Diastolic Blood Pressure\",\"Heart rate\",\"Body Height\",\"Body Mass Index\",\"Body mass index (BMI) [Percentile] Per age and gender\",\"Urea Nitrogen\",\"Sodium\",\"Hemoglobin A1c/Hemoglobin.total in Blood\",\"Potassium\",\"Glucose\",\"Calcium\",\"Carbon Dioxide\",\"Chloride\",\"Creatinine\",\"High Density Lipoprotein Cholesterol\",\"Total Cholesterol\",\"Triglycerides\",\"Low Density Lipoprotein Cholesterol\",\"Head Occipital-frontal circumference\",\"Weight-for-length Per age and sex\",\"Microalbumin Creatinine Ratio\",\"Estimated Glomerular Filtration Rate\",\"Platelets [#/volume] in Blood by Automated count\",\"Platelet mean volume [Entitic volume] in Blood by Automated count\",\"Platelet distribution width [Entitic volume] in Blood by Automated count\",\"Erythrocytes [#/volume] in Blood by Automated count\",\"Erythrocyte distribution width [Entitic volume] by Automated count\",\"Hemoglobin [Mass/volume] in Blood\",\"MCV [Entitic volume] by Automated count\",\"MCHC [Mass/volume] by Automated count\",\"Hematocrit [Volume Fraction] of Blood by Automated count\",\"MCH [Entitic mass] by Automated count\",\"Leukocytes [#/volume] in Blood by Automated count\"],\"yaxis\":\"y\",\"type\":\"histogram\"},{\"alignmentgroup\":\"True\",\"bingroup\":\"y\",\"histfunc\":\"sum\",\"hovertemplate\":\"DESCRIPTION_condition=Viral sinusitis (disorder)<br>sum of count=%{x}<br>DESCRIPTION_observation=%{y}<extra></extra>\",\"legendgroup\":\"Viral sinusitis (disorder)\",\"marker\":{\"color\":\"#EF553B\",\"pattern\":{\"shape\":\"\"}},\"name\":\"Viral sinusitis (disorder)\",\"offsetgroup\":\"Viral sinusitis (disorder)\",\"orientation\":\"h\",\"showlegend\":true,\"x\":[143,143,143,143,143,143,143,143,139,41,41,41,41,41,41,41,41,40,35,19,19,19,19,12,12,12,12,12,12,12,12,12,12,12,12,12,9,9,5],\"xaxis\":\"x\",\"y\":[\"Tobacco smoking status NHIS\",\"Pain severity - 0-10 verbal numeric rating [Score] - Reported\",\"Heart rate\",\"Body Height\",\"Body Weight\",\"Respiratory rate\",\"Diastolic Blood Pressure\",\"Systolic Blood Pressure\",\"Body Mass Index\",\"Chloride\",\"Carbon Dioxide\",\"Potassium\",\"Creatinine\",\"Glucose\",\"Sodium\",\"Urea Nitrogen\",\"Calcium\",\"Hemoglobin A1c/Hemoglobin.total in Blood\",\"Body mass index (BMI) [Percentile] Per age and gender\",\"Low Density Lipoprotein Cholesterol\",\"High Density Lipoprotein Cholesterol\",\"Total Cholesterol\",\"Triglycerides\",\"Erythrocyte distribution width [Entitic volume] by Automated count\",\"Erythrocytes [#/volume] in Blood by Automated count\",\"Estimated Glomerular Filtration Rate\",\"Platelets [#/volume] in Blood by Automated count\",\"Leukocytes [#/volume] in Blood by Automated count\",\"Platelet mean volume [Entitic volume] in Blood by Automated count\",\"Platelet distribution width [Entitic volume] in Blood by Automated count\",\"Hematocrit [Volume Fraction] of Blood by Automated count\",\"Microalbumin Creatinine Ratio\",\"Hemoglobin [Mass/volume] in Blood\",\"MCV [Entitic volume] by Automated count\",\"MCHC [Mass/volume] by Automated count\",\"MCH [Entitic mass] by Automated count\",\"Weight-for-length Per age and sex\",\"Head Occipital-frontal circumference\",\"FEV1/FVC\"],\"yaxis\":\"y\",\"type\":\"histogram\"},{\"alignmentgroup\":\"True\",\"bingroup\":\"y\",\"histfunc\":\"sum\",\"hovertemplate\":\"DESCRIPTION_condition=Acute bronchitis (disorder)<br>sum of count=%{x}<br>DESCRIPTION_observation=%{y}<extra></extra>\",\"legendgroup\":\"Acute bronchitis (disorder)\",\"marker\":{\"color\":\"#00cc96\",\"pattern\":{\"shape\":\"\"}},\"name\":\"Acute bronchitis (disorder)\",\"offsetgroup\":\"Acute bronchitis (disorder)\",\"orientation\":\"h\",\"showlegend\":true,\"x\":[62,62,62,62,62,62,62,62,61,22,13,13,13,13,13,13,13,13,13,8,8,8,8,7,7,7,7,7,7,7,7,7,7,7,4,4,3,3,1,1,1,1,1,1],\"xaxis\":\"x\",\"y\":[\"Systolic Blood Pressure\",\"Respiratory rate\",\"Heart rate\",\"Pain severity - 0-10 verbal numeric rating [Score] - Reported\",\"Tobacco smoking status NHIS\",\"Body Height\",\"Diastolic Blood Pressure\",\"Body Weight\",\"Body Mass Index\",\"Body mass index (BMI) [Percentile] Per age and gender\",\"Sodium\",\"Urea Nitrogen\",\"Hemoglobin A1c/Hemoglobin.total in Blood\",\"Potassium\",\"Calcium\",\"Carbon Dioxide\",\"Chloride\",\"Creatinine\",\"Glucose\",\"Triglycerides\",\"Total Cholesterol\",\"Low Density Lipoprotein Cholesterol\",\"High Density Lipoprotein Cholesterol\",\"Erythrocyte distribution width [Entitic volume] by Automated count\",\"Erythrocytes [#/volume] in Blood by Automated count\",\"Hematocrit [Volume Fraction] of Blood by Automated count\",\"Hemoglobin [Mass/volume] in Blood\",\"Leukocytes [#/volume] in Blood by Automated count\",\"MCH [Entitic mass] by Automated count\",\"MCHC [Mass/volume] by Automated count\",\"MCV [Entitic volume] by Automated count\",\"Platelet distribution width [Entitic volume] in Blood by Automated count\",\"Platelet mean volume [Entitic volume] in Blood by Automated count\",\"Platelets [#/volume] in Blood by Automated count\",\"Estimated Glomerular Filtration Rate\",\"Microalbumin Creatinine Ratio\",\"Head Occipital-frontal circumference\",\"Weight-for-length Per age and sex\",\"Housing status\",\"History of Hospitalizations+Outpatient visits\",\"HIV status\",\"Are you covered by health insurance or some other kind of health care plan [PhenX]\",\"Sexual orientation\",\"Abuse Status [OMAHA]\"],\"yaxis\":\"y\",\"type\":\"histogram\"}],                        {\"template\":{\"data\":{\"histogram2dcontour\":[{\"type\":\"histogram2dcontour\",\"colorbar\":{\"outlinewidth\":0,\"ticks\":\"\"},\"colorscale\":[[0.0,\"#0d0887\"],[0.1111111111111111,\"#46039f\"],[0.2222222222222222,\"#7201a8\"],[0.3333333333333333,\"#9c179e\"],[0.4444444444444444,\"#bd3786\"],[0.5555555555555556,\"#d8576b\"],[0.6666666666666666,\"#ed7953\"],[0.7777777777777778,\"#fb9f3a\"],[0.8888888888888888,\"#fdca26\"],[1.0,\"#f0f921\"]]}],\"choropleth\":[{\"type\":\"choropleth\",\"colorbar\":{\"outlinewidth\":0,\"ticks\":\"\"}}],\"histogram2d\":[{\"type\":\"histogram2d\",\"colorbar\":{\"outlinewidth\":0,\"ticks\":\"\"},\"colorscale\":[[0.0,\"#0d0887\"],[0.1111111111111111,\"#46039f\"],[0.2222222222222222,\"#7201a8\"],[0.3333333333333333,\"#9c179e\"],[0.4444444444444444,\"#bd3786\"],[0.5555555555555556,\"#d8576b\"],[0.6666666666666666,\"#ed7953\"],[0.7777777777777778,\"#fb9f3a\"],[0.8888888888888888,\"#fdca26\"],[1.0,\"#f0f921\"]]}],\"heatmap\":[{\"type\":\"heatmap\",\"colorbar\":{\"outlinewidth\":0,\"ticks\":\"\"},\"colorscale\":[[0.0,\"#0d0887\"],[0.1111111111111111,\"#46039f\"],[0.2222222222222222,\"#7201a8\"],[0.3333333333333333,\"#9c179e\"],[0.4444444444444444,\"#bd3786\"],[0.5555555555555556,\"#d8576b\"],[0.6666666666666666,\"#ed7953\"],[0.7777777777777778,\"#fb9f3a\"],[0.8888888888888888,\"#fdca26\"],[1.0,\"#f0f921\"]]}],\"heatmapgl\":[{\"type\":\"heatmapgl\",\"colorbar\":{\"outlinewidth\":0,\"ticks\":\"\"},\"colorscale\":[[0.0,\"#0d0887\"],[0.1111111111111111,\"#46039f\"],[0.2222222222222222,\"#7201a8\"],[0.3333333333333333,\"#9c179e\"],[0.4444444444444444,\"#bd3786\"],[0.5555555555555556,\"#d8576b\"],[0.6666666666666666,\"#ed7953\"],[0.7777777777777778,\"#fb9f3a\"],[0.8888888888888888,\"#fdca26\"],[1.0,\"#f0f921\"]]}],\"contourcarpet\":[{\"type\":\"contourcarpet\",\"colorbar\":{\"outlinewidth\":0,\"ticks\":\"\"}}],\"contour\":[{\"type\":\"contour\",\"colorbar\":{\"outlinewidth\":0,\"ticks\":\"\"},\"colorscale\":[[0.0,\"#0d0887\"],[0.1111111111111111,\"#46039f\"],[0.2222222222222222,\"#7201a8\"],[0.3333333333333333,\"#9c179e\"],[0.4444444444444444,\"#bd3786\"],[0.5555555555555556,\"#d8576b\"],[0.6666666666666666,\"#ed7953\"],[0.7777777777777778,\"#fb9f3a\"],[0.8888888888888888,\"#fdca26\"],[1.0,\"#f0f921\"]]}],\"surface\":[{\"type\":\"surface\",\"colorbar\":{\"outlinewidth\":0,\"ticks\":\"\"},\"colorscale\":[[0.0,\"#0d0887\"],[0.1111111111111111,\"#46039f\"],[0.2222222222222222,\"#7201a8\"],[0.3333333333333333,\"#9c179e\"],[0.4444444444444444,\"#bd3786\"],[0.5555555555555556,\"#d8576b\"],[0.6666666666666666,\"#ed7953\"],[0.7777777777777778,\"#fb9f3a\"],[0.8888888888888888,\"#fdca26\"],[1.0,\"#f0f921\"]]}],\"mesh3d\":[{\"type\":\"mesh3d\",\"colorbar\":{\"outlinewidth\":0,\"ticks\":\"\"}}],\"scatter\":[{\"fillpattern\":{\"fillmode\":\"overlay\",\"size\":10,\"solidity\":0.2},\"type\":\"scatter\"}],\"parcoords\":[{\"type\":\"parcoords\",\"line\":{\"colorbar\":{\"outlinewidth\":0,\"ticks\":\"\"}}}],\"scatterpolargl\":[{\"type\":\"scatterpolargl\",\"marker\":{\"colorbar\":{\"outlinewidth\":0,\"ticks\":\"\"}}}],\"bar\":[{\"error_x\":{\"color\":\"#2a3f5f\"},\"error_y\":{\"color\":\"#2a3f5f\"},\"marker\":{\"line\":{\"color\":\"#E5ECF6\",\"width\":0.5},\"pattern\":{\"fillmode\":\"overlay\",\"size\":10,\"solidity\":0.2}},\"type\":\"bar\"}],\"scattergeo\":[{\"type\":\"scattergeo\",\"marker\":{\"colorbar\":{\"outlinewidth\":0,\"ticks\":\"\"}}}],\"scatterpolar\":[{\"type\":\"scatterpolar\",\"marker\":{\"colorbar\":{\"outlinewidth\":0,\"ticks\":\"\"}}}],\"histogram\":[{\"marker\":{\"pattern\":{\"fillmode\":\"overlay\",\"size\":10,\"solidity\":0.2}},\"type\":\"histogram\"}],\"scattergl\":[{\"type\":\"scattergl\",\"marker\":{\"colorbar\":{\"outlinewidth\":0,\"ticks\":\"\"}}}],\"scatter3d\":[{\"type\":\"scatter3d\",\"line\":{\"colorbar\":{\"outlinewidth\":0,\"ticks\":\"\"}},\"marker\":{\"colorbar\":{\"outlinewidth\":0,\"ticks\":\"\"}}}],\"scattermapbox\":[{\"type\":\"scattermapbox\",\"marker\":{\"colorbar\":{\"outlinewidth\":0,\"ticks\":\"\"}}}],\"scatterternary\":[{\"type\":\"scatterternary\",\"marker\":{\"colorbar\":{\"outlinewidth\":0,\"ticks\":\"\"}}}],\"scattercarpet\":[{\"type\":\"scattercarpet\",\"marker\":{\"colorbar\":{\"outlinewidth\":0,\"ticks\":\"\"}}}],\"carpet\":[{\"aaxis\":{\"endlinecolor\":\"#2a3f5f\",\"gridcolor\":\"white\",\"linecolor\":\"white\",\"minorgridcolor\":\"white\",\"startlinecolor\":\"#2a3f5f\"},\"baxis\":{\"endlinecolor\":\"#2a3f5f\",\"gridcolor\":\"white\",\"linecolor\":\"white\",\"minorgridcolor\":\"white\",\"startlinecolor\":\"#2a3f5f\"},\"type\":\"carpet\"}],\"table\":[{\"cells\":{\"fill\":{\"color\":\"#EBF0F8\"},\"line\":{\"color\":\"white\"}},\"header\":{\"fill\":{\"color\":\"#C8D4E3\"},\"line\":{\"color\":\"white\"}},\"type\":\"table\"}],\"barpolar\":[{\"marker\":{\"line\":{\"color\":\"#E5ECF6\",\"width\":0.5},\"pattern\":{\"fillmode\":\"overlay\",\"size\":10,\"solidity\":0.2}},\"type\":\"barpolar\"}],\"pie\":[{\"automargin\":true,\"type\":\"pie\"}]},\"layout\":{\"autotypenumbers\":\"strict\",\"colorway\":[\"#636efa\",\"#EF553B\",\"#00cc96\",\"#ab63fa\",\"#FFA15A\",\"#19d3f3\",\"#FF6692\",\"#B6E880\",\"#FF97FF\",\"#FECB52\"],\"font\":{\"color\":\"#2a3f5f\"},\"hovermode\":\"closest\",\"hoverlabel\":{\"align\":\"left\"},\"paper_bgcolor\":\"white\",\"plot_bgcolor\":\"#E5ECF6\",\"polar\":{\"bgcolor\":\"#E5ECF6\",\"angularaxis\":{\"gridcolor\":\"white\",\"linecolor\":\"white\",\"ticks\":\"\"},\"radialaxis\":{\"gridcolor\":\"white\",\"linecolor\":\"white\",\"ticks\":\"\"}},\"ternary\":{\"bgcolor\":\"#E5ECF6\",\"aaxis\":{\"gridcolor\":\"white\",\"linecolor\":\"white\",\"ticks\":\"\"},\"baxis\":{\"gridcolor\":\"white\",\"linecolor\":\"white\",\"ticks\":\"\"},\"caxis\":{\"gridcolor\":\"white\",\"linecolor\":\"white\",\"ticks\":\"\"}},\"coloraxis\":{\"colorbar\":{\"outlinewidth\":0,\"ticks\":\"\"}},\"colorscale\":{\"sequential\":[[0.0,\"#0d0887\"],[0.1111111111111111,\"#46039f\"],[0.2222222222222222,\"#7201a8\"],[0.3333333333333333,\"#9c179e\"],[0.4444444444444444,\"#bd3786\"],[0.5555555555555556,\"#d8576b\"],[0.6666666666666666,\"#ed7953\"],[0.7777777777777778,\"#fb9f3a\"],[0.8888888888888888,\"#fdca26\"],[1.0,\"#f0f921\"]],\"sequentialminus\":[[0.0,\"#0d0887\"],[0.1111111111111111,\"#46039f\"],[0.2222222222222222,\"#7201a8\"],[0.3333333333333333,\"#9c179e\"],[0.4444444444444444,\"#bd3786\"],[0.5555555555555556,\"#d8576b\"],[0.6666666666666666,\"#ed7953\"],[0.7777777777777778,\"#fb9f3a\"],[0.8888888888888888,\"#fdca26\"],[1.0,\"#f0f921\"]],\"diverging\":[[0,\"#8e0152\"],[0.1,\"#c51b7d\"],[0.2,\"#de77ae\"],[0.3,\"#f1b6da\"],[0.4,\"#fde0ef\"],[0.5,\"#f7f7f7\"],[0.6,\"#e6f5d0\"],[0.7,\"#b8e186\"],[0.8,\"#7fbc41\"],[0.9,\"#4d9221\"],[1,\"#276419\"]]},\"xaxis\":{\"gridcolor\":\"white\",\"linecolor\":\"white\",\"ticks\":\"\",\"title\":{\"standoff\":15},\"zerolinecolor\":\"white\",\"automargin\":true,\"zerolinewidth\":2},\"yaxis\":{\"gridcolor\":\"white\",\"linecolor\":\"white\",\"ticks\":\"\",\"title\":{\"standoff\":15},\"zerolinecolor\":\"white\",\"automargin\":true,\"zerolinewidth\":2},\"scene\":{\"xaxis\":{\"backgroundcolor\":\"#E5ECF6\",\"gridcolor\":\"white\",\"linecolor\":\"white\",\"showbackground\":true,\"ticks\":\"\",\"zerolinecolor\":\"white\",\"gridwidth\":2},\"yaxis\":{\"backgroundcolor\":\"#E5ECF6\",\"gridcolor\":\"white\",\"linecolor\":\"white\",\"showbackground\":true,\"ticks\":\"\",\"zerolinecolor\":\"white\",\"gridwidth\":2},\"zaxis\":{\"backgroundcolor\":\"#E5ECF6\",\"gridcolor\":\"white\",\"linecolor\":\"white\",\"showbackground\":true,\"ticks\":\"\",\"zerolinecolor\":\"white\",\"gridwidth\":2}},\"shapedefaults\":{\"line\":{\"color\":\"#2a3f5f\"}},\"annotationdefaults\":{\"arrowcolor\":\"#2a3f5f\",\"arrowhead\":0,\"arrowwidth\":1},\"geo\":{\"bgcolor\":\"white\",\"landcolor\":\"#E5ECF6\",\"subunitcolor\":\"white\",\"showland\":true,\"showlakes\":true,\"lakecolor\":\"white\"},\"title\":{\"x\":0.05},\"mapbox\":{\"style\":\"light\"}}},\"xaxis\":{\"anchor\":\"y\",\"domain\":[0.0,1.0],\"title\":{\"text\":\"count\"}},\"yaxis\":{\"anchor\":\"x\",\"domain\":[0.0,1.0],\"title\":{\"text\":\"DESCRIPTION_observation\"},\"autorange\":\"reversed\"},\"legend\":{\"title\":{\"text\":\"DESCRIPTION_condition\"},\"tracegroupgap\":0},\"margin\":{\"t\":60},\"barmode\":\"relative\",\"title\":{\"text\":\"Observations performed for the three groups of conditions\"},\"height\":860,\"width\":1260},                        {\"responsive\": true}                    ).then(function(){\n",
              "                            \n",
              "var gd = document.getElementById('9f8ec058-7a82-4724-a6a8-6b99d4341baa');\n",
              "var x = new MutationObserver(function (mutations, observer) {{\n",
              "        var display = window.getComputedStyle(gd).display;\n",
              "        if (!display || display === 'none') {{\n",
              "            console.log([gd, 'removed!']);\n",
              "            Plotly.purge(gd);\n",
              "            observer.disconnect();\n",
              "        }}\n",
              "}});\n",
              "\n",
              "// Listen for the removal of the full notebook cells\n",
              "var notebookContainer = gd.closest('#notebook-container');\n",
              "if (notebookContainer) {{\n",
              "    x.observe(notebookContainer, {childList: true});\n",
              "}}\n",
              "\n",
              "// Listen for the clearing of the current output cell\n",
              "var outputEl = gd.closest('.output');\n",
              "if (outputEl) {{\n",
              "    x.observe(outputEl, {childList: true});\n",
              "}}\n",
              "\n",
              "                        })                };                });            </script>        </div>"
            ]
          },
          "metadata": {}
        }
      ]
    },
    {
      "cell_type": "markdown",
      "source": [
        "\n",
        "\n",
        "> > From the graph, it can be seen that a lot of obervations performed for the three group of conditions are quite similar. There are also some distinct observations that are performed for a particular condition. So there exist some similarities in terms of observation performed for the three groups of conditions.\n",
        "\n",
        "\n",
        "\n"
      ],
      "metadata": {
        "id": "9KW_J7YWmyfQ"
      }
    },
    {
      "cell_type": "markdown",
      "source": [
        "# Task 4: Formulate three other questions that could be interesting from a machine learning perspective using this data (that could potentially be used in a clinical setting to improve care)"
      ],
      "metadata": {
        "id": "p2qRrjwCqYun"
      }
    },
    {
      "cell_type": "markdown",
      "source": [
        "\n",
        "\n",
        "1.   Can we establish a machine learning model to predict that a patient is likely to get some particular disease/condition based on his/her medical history?\n",
        "\n",
        "2.   Can we determine the most effective treatment (e.g., medication, procedure, or careplan) for a patient with a particular disease/condition using machine learning?\n",
        "\n",
        "3.   Can we anticipate what specialty of doctors needs to be hired to improve personalized care?\n"
      ],
      "metadata": {
        "id": "mZVgE47bqkvQ"
      }
    }
  ]
}